{
 "cells": [
  {
   "cell_type": "markdown",
   "metadata": {},
   "source": [
    "<img src=\"http://imgur.com/1ZcRyrc.png\" style=\"float: left; margin: 15px; height: 80px\">\n",
    "\n",
    "# Project 1\n",
    "\n",
    "### Building \"Pokemon Stay\"\n",
    "\n",
    "---\n",
    "You are an analyst at a \"scrappy\" online gaming company that specializes in remakes of last year's fads.\n",
    "\n",
    "Your boss, who runs the product development team, is convinced that Pokemon Go's fatal flaw was that you had to actually move around outside. She has design mock-ups for a new game called Pokemon Stay: in this version players still need to move, but just from website to website. Pokemon gyms are now popular online destinations, and catching Pokemon in the \"wild\" simply requires browsing the internet for hours in the comfort of your home.\n",
    "\n",
    "She wants you to program a prototype version of the game, and analyze the planned content to help the team calibrate the design."
   ]
  },
  {
   "cell_type": "markdown",
   "metadata": {},
   "source": [
    "#### Package imports\n",
    "\n",
    "The pprint package below is the only package imported here, and it's not even strictly required to do any of the project. Printing python variables and objects with pprint can help to format them in a \"prettier\" way."
   ]
  },
  {
   "cell_type": "code",
   "execution_count": 3,
   "metadata": {
    "collapsed": true
   },
   "outputs": [],
   "source": [
    "from pprint import pprint"
   ]
  },
  {
   "cell_type": "markdown",
   "metadata": {},
   "source": [
    "<img src=\"http://imgur.com/l5NasQj.png\" style=\"float: left; margin: 25px 15px 0px 0px; height: 25px\">\n",
    "\n",
    "## 1. Defining a player\n",
    "\n",
    "---\n",
    "\n",
    "The player variables are:\n",
    "\n",
    "    player_id : id code unique to each player (integer)\n",
    "    player_name : entered name of the player (string)\n",
    "    time_played : number of time played the game in minutes (float)\n",
    "    player_pokemon: the player's captured pokemon (dictionary)\n",
    "    gyms_visited: ids of the gyms that a player has visited (list)\n",
    "    \n",
    "Create the components for a player object by defining each of these variables. The dictionary and list variables should just be defined as empty; you can use any (correctly typed) values for the others."
   ]
  },
  {
   "cell_type": "code",
   "execution_count": 4,
   "metadata": {
    "collapsed": true
   },
   "outputs": [],
   "source": [
    "player_object = {'player_id': 1, 'player_name': 'little_pony', 'time_played': 5.00, 'player_pokemon': {}, 'gyms_visited':[]}\n"
   ]
  },
  {
   "cell_type": "markdown",
   "metadata": {},
   "source": [
    "<img src=\"http://imgur.com/l5NasQj.png\" style=\"float: left; margin: 25px 15px 0px 0px; height: 25px\">\n",
    "\n",
    "## 2. Defining \"gym\" locations\n",
    "\n",
    "---\n",
    "\n",
    "As the sole programmer, Pokemon Stay will have to start small. To begin, there will be 10 different gym location websites on the internet. The gym locations are:\n",
    "\n",
    "    1. 'reddit.com'\n",
    "    2. 'amazon.com'\n",
    "    3. 'twitter.com'\n",
    "    4. 'linkedin.com'\n",
    "    5. 'ebay.com'\n",
    "    6. 'netflix.com'\n",
    "    7. 'sporcle.com'\n",
    "    8. 'stackoverflow.com'\n",
    "    9. 'github.com'\n",
    "    10. 'quora.com'\n",
    "\n",
    "1. Set up a list of all the gym locations. This will be a list of strings.\n",
    "2. Append two of these locations to your player's list of visited gyms.\n",
    "3. Print the list."
   ]
  },
  {
   "cell_type": "code",
   "execution_count": 5,
   "metadata": {},
   "outputs": [
    {
     "name": "stdout",
     "output_type": "stream",
     "text": [
      "{'player_id': 1, 'time_played': 5.0, 'gyms_visited': ['amazon.com', 'twitter.com'], 'player_name': 'little_pony', 'player_pokemon': {}}\n"
     ]
    },
    {
     "data": {
      "text/plain": [
       "1"
      ]
     },
     "execution_count": 5,
     "metadata": {},
     "output_type": "execute_result"
    }
   ],
   "source": [
    "gym_locations = ['reddit.com', 'amazon.com', 'twitter.com', 'linkedin.com', 'ebay.com', 'netflix.com', 'sporcle.com', 'stackoverflow.com', 'github.com', 'quora.com']\n",
    "player_object['gyms_visited'].append(gym_locations[1])\n",
    "player_object['gyms_visited'].append(gym_locations[2])\n",
    "print player_object\n",
    "player_object['player_id']"
   ]
  },
  {
   "cell_type": "markdown",
   "metadata": {},
   "source": [
    "# <img src=\"http://imgur.com/l5NasQj.png\" style=\"float: left; margin: 25px 15px 0px 0px; height: 25px\">\n",
    "\n",
    "## 3. Create a pokedex\n",
    "\n",
    "---\n",
    "\n",
    "We also need to create some pokemon to catch. Each pokemon will be defined by these variables:\n",
    "\n",
    "    pokemon_id : unique identifier for each pokemon (integer)\n",
    "    name : the name of the pokemon (string)\n",
    "    type : the category of pokemon (string)\n",
    "    hp : base hitpoints (integer)\n",
    "    attack : base attack (integer)\n",
    "    defense : base defense (integer)\n",
    "    special_attack : base special attack (integer)\n",
    "    special_defense : base sepecial defense (integer)\n",
    "    speed : base speed (integer)\n",
    "\n",
    "We are only going to create 3 different pokemon with these `pokemon_id` and `pokemon_name` values:\n",
    "\n",
    "    1 : 'charmander'\n",
    "    2 : 'squirtle'\n",
    "    3 : 'bulbasaur'\n",
    "\n",
    "Create a dictionary that will contain the pokemon. The keys of the dictionary will be the `pokemon_id` and the values will themselves dictionaries that contain the other pokemon variables. The structure of the pokedex dictionary will start like so:\n",
    "     \n",
    "     {\n",
    "         1: {\n",
    "                 'name':'charmander',\n",
    "                 'type':'fire',\n",
    "                 ...\n",
    "                 \n",
    "The `type` of charmander, squirtle, and bulbasaur should be `'fire'`, `'water'`, and `'poison'` respectively. The other values are up to you, make them anything you like!\n",
    "\n",
    "Print (or pretty print) the pokedex dictionary with the 3 pokemon."
   ]
  },
  {
   "cell_type": "code",
   "execution_count": 6,
   "metadata": {},
   "outputs": [
    {
     "name": "stdout",
     "output_type": "stream",
     "text": [
      "{1: {'attack': 52,\n",
      "     'defense': 43,\n",
      "     'hp': 39,\n",
      "     'name': 'charmander',\n",
      "     'special_attack': 60,\n",
      "     'special_defense': 45,\n",
      "     'speed': 25,\n",
      "     'type': 'fire'},\n",
      " 2: {'attack': 48,\n",
      "     'defense': 65,\n",
      "     'hp': 44,\n",
      "     'name': 'squirtle',\n",
      "     'special_attack': 55,\n",
      "     'special_defense': 70,\n",
      "     'speed': 30,\n",
      "     'type': 'water'},\n",
      " 3: {'attack': 34,\n",
      "     'defense': 53,\n",
      "     'hp': 48,\n",
      "     'name': 'bulbasaur',\n",
      "     'special_attack': 67,\n",
      "     'special_defense': 80,\n",
      "     'speed': 12,\n",
      "     'type': 'poison'}}\n"
     ]
    }
   ],
   "source": [
    "pokedex_dict = {\n",
    "    1:{\n",
    "        'name':'charmander','type':'fire','hp':39, 'attack':52, 'defense':43, 'special_attack':60,\n",
    "'special_defense':45, 'speed':25\n",
    "    },\n",
    "    2:{\n",
    "        'name':'squirtle','type':'water','hp':44, 'attack':48, 'defense':65, 'special_attack':55,\n",
    "'special_defense':70, 'speed':30\n",
    "    },\n",
    "    3:{\n",
    "        'name':'bulbasaur','type':'poison','hp':48, 'attack':34, 'defense':53, 'special_attack':67,\n",
    "'special_defense':80, 'speed':12\n",
    "    }\n",
    "    \n",
    "}\n",
    "\n",
    "\n",
    "pprint(pokedex_dict)"
   ]
  },
  {
   "cell_type": "markdown",
   "metadata": {},
   "source": [
    "<img src=\"http://imgur.com/l5NasQj.png\" style=\"float: left; margin: 25px 15px 0px 0px; height: 25px\">\n",
    "\n",
    "## 4. Create a data structure for players\n",
    "\n",
    "---\n",
    "\n",
    "### 4.1 \n",
    "\n",
    "In order to maintain a database of multiple players, create a dictionary that keeps track of players indexed by `player_id`. \n",
    "\n",
    "The keys of the dictionary will be `player_id` and values will be dictionaries containing each player's variables (from question 1). \n",
    "\n",
    "Construct the `players` dictionary and insert the player that you defined in question 1, then print `players`."
   ]
  },
  {
   "cell_type": "code",
   "execution_count": 7,
   "metadata": {},
   "outputs": [
    {
     "name": "stdout",
     "output_type": "stream",
     "text": [
      "{1: {'gyms_visited': ['amazon.com', 'twitter.com'],\n",
      "     'player_name': 'little_pony',\n",
      "     'player_pokemon': {},\n",
      "     'time_played': 5.0}}\n"
     ]
    }
   ],
   "source": [
    "#cut and paste from player_object as could not find a more elegant way to insert\n",
    "players = {player_object['player_id']:{'time_played': 5.0, 'gyms_visited': ['amazon.com', 'twitter.com'], 'player_name': 'little_pony', 'player_pokemon': {}}\n",
    "}\n",
    "\n",
    "pprint(players)\n",
    "\n"
   ]
  },
  {
   "cell_type": "markdown",
   "metadata": {},
   "source": [
    "---\n",
    "\n",
    "### 4.2\n",
    "\n",
    "Create a new player with `player_id = 2` in the `players` dictionary. Leave the `'player_pokemon'` dictionary empty. Append `'alcatraz'` and `'pacific_beach'` to the `'gyms_visited'` list for player 2.\n",
    "\n",
    "The `'player_name'` and `'time_played'` values are up to you, but must be a string and float, respectively.\n",
    "\n",
    "Remember, the player_id is the key for the player in the players dictionary.\n",
    "\n",
    "Print the `players` dictionary with the new player inserted."
   ]
  },
  {
   "cell_type": "code",
   "execution_count": 8,
   "metadata": {},
   "outputs": [
    {
     "name": "stdout",
     "output_type": "stream",
     "text": [
      "{1: {'gyms_visited': ['amazon.com', 'twitter.com'],\n",
      "     'player_name': 'little_pony',\n",
      "     'player_pokemon': {},\n",
      "     'time_played': 5.0},\n",
      " 2: {'gyms_visited': ['alcatraz', 'pacific_beach'],\n",
      "     'player_name': 'ironman',\n",
      "     'player_pokemon': {},\n",
      "     'time_played': 10.0}}\n"
     ]
    }
   ],
   "source": [
    "players[2] =  {'gyms_visited': ['alcatraz', 'pacific_beach'],\n",
    "     'player_name': 'ironman',\n",
    "     'player_pokemon': {},\n",
    "     'time_played': 10.0}\n",
    "\n",
    "pprint(players)\n"
   ]
  },
  {
   "cell_type": "markdown",
   "metadata": {},
   "source": [
    "<img src=\"http://imgur.com/l5NasQj.png\" style=\"float: left; margin: 25px 15px 0px 0px; height: 25px\">\n",
    "\n",
    "## 5. Add captured pokemon for each player\n",
    "\n",
    "---\n",
    "\n",
    "The `'player_pokemon'` keyed dictionaries for each player keep track of which of the pokemon each player has.\n",
    "\n",
    "The keys of the `'player_pokemon'` dictionaries are the pokemon ids that correspond to the ids in the `pokedex` dictionary you created earlier. The values are integers specifying the stats for the pokemon.\n",
    "\n",
    "Give player 1 a squirtle. Give player 2 charmander and a bulbasaur.\n",
    "\n",
    "Print the players dictionary after adding the pokemon for each player.\n"
   ]
  },
  {
   "cell_type": "code",
   "execution_count": 16,
   "metadata": {},
   "outputs": [
    {
     "name": "stdout",
     "output_type": "stream",
     "text": [
      "{1: {'gyms_visited': ['amazon.com', 'twitter.com'],\n",
      "     'player_name': 'little_pony',\n",
      "     'player_pokemon': {2: [('attack', 48),\n",
      "                            ('defense', 65),\n",
      "                            ('name', 'squirtle'),\n",
      "                            ('special_attack', 55),\n",
      "                            ('speed', 30),\n",
      "                            ('hp', 44),\n",
      "                            ('type', 'water'),\n",
      "                            ('special_defense', 70)]},\n",
      "     'time_played': 5.0},\n",
      " 2: {'gyms_visited': ['alcatraz', 'pacific_beach'],\n",
      "     'player_name': 'ironman',\n",
      "     'player_pokemon': {1: [('attack', 52),\n",
      "                            ('defense', 43),\n",
      "                            ('name', 'charmander'),\n",
      "                            ('special_attack', 60),\n",
      "                            ('speed', 25),\n",
      "                            ('hp', 39),\n",
      "                            ('type', 'fire'),\n",
      "                            ('special_defense', 45)],\n",
      "                        3: [('attack', 34),\n",
      "                            ('defense', 53),\n",
      "                            ('name', 'bulbasaur'),\n",
      "                            ('special_attack', 67),\n",
      "                            ('speed', 12),\n",
      "                            ('hp', 48),\n",
      "                            ('type', 'poison'),\n",
      "                            ('special_defense', 80)]},\n",
      "     'time_played': 10.0}}\n"
     ]
    }
   ],
   "source": [
    "for x, y in pokedex_dict[2].items():\n",
    "    players[1]['player_pokemon'][2] = pokedex_dict[2].items()\n",
    "\n",
    "for x, y in pokedex_dict[2].items():\n",
    "    players[2]['player_pokemon'][1] = pokedex_dict[1].items()\n",
    "    players[2]['player_pokemon'][3] = pokedex_dict[3].items()\n",
    "\n",
    "pprint(players)"
   ]
  },
  {
   "cell_type": "markdown",
   "metadata": {},
   "source": [
    "\n",
    "\n",
    "## 6. What gyms have players visited?\n",
    "\n",
    "---\n",
    "<img src=\"http://imgur.com/l5NasQj.png\" style=\"float: left; margin: 25px 15px 0px 0px; height: 25px\">\n",
    "### 6.1\n",
    "\n",
    "Write a for-loop that:\n",
    "\n",
    "1. Iterates through the `pokemon_gyms` list of gym locations you defined before.\n",
    "2. For each gym, iterate through each player in the `players` dictionary with a second, internal for-loop.\n",
    "3. If the player has visited the gym, print out \"[player] has visited [gym location].\", filling in [player] and [gym location] with the current player's name and current gym location."
   ]
  },
  {
   "cell_type": "code",
   "execution_count": 22,
   "metadata": {},
   "outputs": [
    {
     "name": "stdout",
     "output_type": "stream",
     "text": [
      "amazon.com\n",
      "twitter.com\n",
      "alcatraz\n",
      "pacific_beach\n"
     ]
    }
   ],
   "source": [
    "# just testing\n",
    "type(players[1]['gyms_visited'])\n",
    "\n",
    "for player in players:\n",
    "    for x in players[player]['gyms_visited']:\n",
    "        print x\n",
    " "
   ]
  },
  {
   "cell_type": "code",
   "execution_count": 32,
   "metadata": {},
   "outputs": [
    {
     "name": "stdout",
     "output_type": "stream",
     "text": [
      "little_pony has visited amazon.com\n",
      "little_pony has visited twitter.com\n"
     ]
    }
   ],
   "source": [
    "#6.1\n",
    "for location in gym_locations:\n",
    "    for player in players:\n",
    "        if location in players[player]['gyms_visited']:\n",
    "            print players[player]['player_name'] + \" has visited \" + location\n",
    "        \n",
    "    "
   ]
  },
  {
   "cell_type": "markdown",
   "metadata": {},
   "source": [
    "<img src=\"http://imgur.com/xDpSobf.png\" style=\"float: left; margin: 25px 15px 0px 0px; height: 25px\">\n",
    "### 6.2\n",
    "\n",
    "How many times did that loop run? If you have N gyms and also N players, how many times would it run as a function of N?\n",
    "\n",
    "Can you think of a more efficient way to accomplish the same thing? \n",
    "\n",
    "(You can write your answer as Markdown text.)"
   ]
  },
  {
   "cell_type": "code",
   "execution_count": 33,
   "metadata": {},
   "outputs": [
    {
     "data": {
      "text/plain": [
       "10"
      ]
     },
     "execution_count": 33,
     "metadata": {},
     "output_type": "execute_result"
    }
   ],
   "source": [
    "len(gym_locations)\n"
   ]
  },
  {
   "cell_type": "markdown",
   "metadata": {},
   "source": [
    "Loop ran 20 times (10 locations * 2 players)\n"
   ]
  },
  {
   "cell_type": "code",
   "execution_count": 34,
   "metadata": {
    "collapsed": true
   },
   "outputs": [],
   "source": [
    "def intersect(a, b):\n",
    "    return list(set(a) & set(b))\n",
    "\n",
    "# Use intersect function to find intersection of 'gyms_visited' list and 'gym_locations' list."
   ]
  },
  {
   "cell_type": "markdown",
   "metadata": {},
   "source": [
    "<img src=\"http://imgur.com/l5NasQj.png\" style=\"float: left; margin: 25px 15px 0px 0px; height: 25px\">\n",
    "\n",
    "## 7. Calculate player \"power\".\n",
    "\n",
    "---\n",
    "\n",
    "Define a function that will calculate a player's \"power\". Player power is defined as the sum of the base statistics all of their pokemon.\n",
    "\n",
    "Your function will:\n",
    "\n",
    "1. Accept the `players` dictionary, `pokedex` dictionary, and a player_id as arguments.\n",
    "2. For the specified player_id, look up that player's pokemon and their level(s).\n",
    "3. Find and aggregate the attack and defense values for each of the player's pokemon from the `pokedex` dictionary.\n",
    "4. Print \"[player name]'s power is [player power].\", where the player power is the sum of the base statistics for all of their pokemon.\n",
    "5. Return the player's power value.\n",
    "\n",
    "Print out the pokemon power for each of your players."
   ]
  },
  {
   "cell_type": "code",
   "execution_count": 47,
   "metadata": {},
   "outputs": [
    {
     "name": "stdout",
     "output_type": "stream",
     "text": [
      "1\n",
      "3\n"
     ]
    },
    {
     "data": {
      "text/plain": [
       "43"
      ]
     },
     "execution_count": 47,
     "metadata": {},
     "output_type": "execute_result"
    }
   ],
   "source": [
    "for x in players[2]['player_pokemon']:\n",
    "    print x\n",
    "    \n",
    "type(pokedex_dict[1])\n",
    "pokedex_dict[1]['defense']"
   ]
  },
  {
   "cell_type": "code",
   "execution_count": 56,
   "metadata": {},
   "outputs": [
    {
     "name": "stdout",
     "output_type": "stream",
     "text": [
      "113\n",
      "182\n"
     ]
    }
   ],
   "source": [
    "def power_score(players_dict, pokedex_dict, player_id):\n",
    "    \n",
    "    # compile all pokemon for player\n",
    "    pokemon_list = []\n",
    "    for x in players_dict[player_id]['player_pokemon']:\n",
    "        pokemon_list.append(x)\n",
    "    \n",
    "    # calculate list of pokemon scores\n",
    "    pokemon_scores = []\n",
    "    for pokemon in pokemon_list:\n",
    "        score = pokedex_dict[pokemon]['attack'] + pokedex_dict[pokemon]['defense']\n",
    "        pokemon_scores.append(score)\n",
    "    \n",
    "    # calc final score\n",
    "    final_score = sum(pokemon_scores)\n",
    "    return final_score\n",
    "    \n",
    "print power_score(players, pokedex_dict, 1)\n",
    "print power_score(players, pokedex_dict, 2)"
   ]
  },
  {
   "cell_type": "markdown",
   "metadata": {
    "collapsed": true
   },
   "source": [
    "<img src=\"http://imgur.com/l5NasQj.png\" style=\"float: left; margin: 25px 15px 0px 0px; height: 25px\">\n",
    "\n",
    "## 8. Load a pokedex file containing all the pokemon\n",
    "\n",
    "---\n",
    "\n",
    "### 8.1\n",
    "\n",
    "While you were putting together the prototype code, your colleagues were preparing a dataset of Pokemon and their attributes. (This was a rush job, so they may have picked some crazy values for some...)\n",
    "\n",
    "The code below loads information from a comma separated value (csv) file. You need to parse this string into a more useable format. The format of the string is:\n",
    "\n",
    "- Rows are separated by newline characters: \\n\n",
    "- Columns are separated by commas: ,\n",
    "- All cells in the csv are double quoted. Ex: \"PokedexNumber\" is the first cell of the first row.\n",
    "\n",
    "\n",
    "Using for-loops, create a list of lists where each list within the overall list is a row of the csv/matrix, and each element in that list is a cell in that row. Additional criteria:\n",
    "\n",
    "1. Quotes are removed from each cell item.\n",
    "2. Numeric column values are converted to floats.\n",
    "3. There are some cells that are empty and have no information. For these cells put a -1 value in place.\n",
    "\n",
    "Your end result is effectively a matrix. Each list in the outer list is a row, and the *j*th elements of list together form the *j*th column, which represents a data attribute. The first three lists in your pokedex list should look like this:\n",
    "\n",
    "    ['PokedexNumber', 'Name', 'Type', 'Total', 'HP', 'Attack', 'Defense', 'SpecialAttack', 'SpecialDefense', 'Speed']\n",
    "    [1.0, 'Bulbasaur', 'GrassPoison', 318.0, 45.0, 49.0, 49.0, 65.0, 65.0, 45.0]\n",
    "    [2.0, 'Ivysaur', 'GrassPoison', 405.0, 60.0, 62.0, 63.0, 80.0, 80.0, 60.0]"
   ]
  },
  {
   "cell_type": "code",
   "execution_count": 2,
   "metadata": {
    "collapsed": true
   },
   "outputs": [],
   "source": [
    "# Code to read in pokedex info\n",
    "raw_pd = ''\n",
    "pokedex_file = 'pokedex_basic.csv'\n",
    "with open(pokedex_file, 'r') as f:\n",
    "    raw_pd = f.readlines()\n",
    "    \n"
   ]
  },
  {
   "cell_type": "code",
   "execution_count": 3,
   "metadata": {},
   "outputs": [
    {
     "name": "stdout",
     "output_type": "stream",
     "text": [
      "[['PokedexNumber', 'Name', 'Type', 'Total', 'HP', 'Attack', 'Defense', 'SpecialAttack', 'SpecialDefense', 'Speed'], ['001', 'Bulbasaur', 'GrassPoison', '318', '45', '49', '49', '65', '65', '45'], ['002', 'Ivysaur', 'GrassPoison', '405', '60', '62', '63', '80', '80', '60'], ['003', 'Venusaur', 'GrassPoison', '525', '80', '82', '83', '100', '100', '80'], ['003', 'VenusaurMega Venusaur', 'GrassPoison', '625', '80', '100', '123', '122', '120', '80'], ['004', 'Charmander', 'Fire', '309', '39', '52', '43', '60', '50', '65'], ['005', 'Charmeleon', 'Fire', '405', '58', '64', '58', '80', '65', '80'], ['006', 'Charizard', 'FireFlying', '534', '78', '84', '78', '109', '85', '100'], ['006', 'CharizardMega Charizard X', 'FireDragon', '634', '78', '130', '111', '130', '85', '100'], ['006', 'CharizardMega Charizard Y', 'FireFlying', '634', '78', '104', '78', '159', '115', '100'], ['007', 'Squirtle', 'Water', '314', '44', '48', '65', '50', '64', '43'], ['008', 'Wartortle', 'Water', '405', '59', '63', '80', '65', '80', '58'], ['009', 'Blastoise', 'Water', '530', '79', '83', '100', '85', '105', '78'], ['009', 'BlastoiseMega Blastoise', 'Water', '630', '79', '103', '120', '135', '115', '78'], ['010', 'Caterpie', 'Bug', '195', '45', '30', '35', '20', '20', '45'], ['011', 'Metapod', 'Bug', '205', '50', '20', '55', '25', '25', '30'], ['012', 'Butterfree', 'BugFlying', '395', '60', '45', '50', '90', '80', '70'], ['013', 'Weedle', 'BugPoison', '195', '40', '35', '30', '20', '20', '50'], ['014', 'Kakuna', 'BugPoison', '205', '45', '25', '50', '25', '25', '35'], ['015', 'Beedrill', 'BugPoison', '395', '65', '90', '40', '45', '80', '75'], ['015', 'BeedrillMega Beedrill', 'BugPoison', '495', '65', '150', '40', '15', '80', '145'], ['016', 'Pidgey', 'NormalFlying', '251', '40', '45', '40', '35', '35', '56'], ['017', 'Pidgeotto', 'NormalFlying', '349', '63', '60', '55', '50', '50', '71'], ['018', 'Pidgeot', 'NormalFlying', '479', '83', '80', '75', '70', '70', '101'], ['018', 'PidgeotMega Pidgeot', 'NormalFlying', '579', '83', '80', '80', '135', '80', '121'], ['019', 'Rattata', 'Normal', '253', '30', '56', '35', '25', '35', '72'], ['020', 'Raticate', 'Normal', '413', '55', '81', '60', '50', '70', '97'], ['021', 'Spearow', 'NormalFlying', '262', '40', '60', '30', '31', '31', '70'], ['022', 'Fearow', 'NormalFlying', '442', '65', '90', '65', '61', '61', '100'], ['023', 'Ekans', 'Poison', '288', '35', '60', '44', '40', '54', '55'], ['024', 'Arbok', 'Poison', '438', '60', '85', '69', '65', '79', '80'], ['025', 'Pikachu', 'Electric', '320', '35', '55', '40', '50', '50', '90'], ['026', 'Raichu', 'Electric', '485', '60', '90', '55', '90', '80', '110'], ['027', 'Sandshrew', 'Ground', '300', '50', '75', '85', '20', '30', '40'], ['028', 'Sandslash', 'Ground', '450', '75', '100', '110', '45', '55', '65'], ['029', 'NidoranF', 'Poison', '275', '55', '47', '52', '40', '40', '41'], ['030', 'Nidorina', 'Poison', '365', '70', '62', '67', '55', '55', '56'], ['031', 'Nidoqueen', 'PoisonGround', '505', '90', '92', '87', '75', '85', '76'], ['032', 'NidoranM', 'Poison', '273', '46', '57', '40', '40', '40', '50'], ['033', 'Nidorino', 'Poison', '365', '61', '72', '57', '55', '55', '65'], ['034', 'Nidoking', 'PoisonGround', '505', '81', '102', '77', '85', '75', '85'], ['035', 'Clefairy', 'Fairy', '323', '70', '45', '48', '60', '65', '35'], ['036', 'Clefable', 'Fairy', '483', '95', '70', '73', '95', '90', '60'], ['037', 'Vulpix', 'Fire', '299', '38', '41', '40', '50', '65', '65'], ['038', 'Ninetales', 'Fire', '505', '73', '76', '75', '81', '100', '100'], ['039', 'Jigglypuff', 'NormalFairy', '270', '115', '45', '20', '45', '25', '20'], ['040', 'Wigglytuff', 'NormalFairy', '435', '140', '70', '45', '85', '50', '45'], ['041', 'Zubat', 'PoisonFlying', '245', '40', '45', '35', '30', '40', '55'], ['042', 'Golbat', 'PoisonFlying', '455', '75', '80', '70', '65', '75', '90'], ['043', 'Oddish', 'GrassPoison', '320', '45', '50', '55', '75', '65', '30'], ['044', 'Gloom', 'GrassPoison', '395', '60', '65', '70', '85', '75', '40'], ['045', 'Vileplume', 'GrassPoison', '490', '75', '80', '85', '110', '90', '50'], ['046', 'Paras', 'BugGrass', '285', '35', '70', '55', '45', '55', '25'], ['047', 'Parasect', 'BugGrass', '405', '60', '95', '80', '60', '80', '30'], ['048', 'Venonat', 'BugPoison', '305', '60', '55', '50', '40', '55', '45'], ['049', 'Venomoth', 'BugPoison', '450', '70', '65', '60', '90', '75', '90'], ['050', 'Diglett', 'Ground', '265', '10', '55', '25', '35', '45', '95'], ['051', 'Dugtrio', 'Ground', '405', '35', '80', '50', '50', '70', '120'], ['052', 'Meowth', 'Normal', '290', '40', '45', '35', '40', '40', '90'], ['053', 'Persian', 'Normal', '440', '65', '70', '60', '65', '65', '115'], ['054', 'Psyduck', 'Water', '320', '50', '52', '48', '65', '50', '55'], ['055', 'Golduck', 'Water', '500', '80', '82', '78', '95', '80', '85'], ['056', 'Mankey', 'Fighting', '305', '40', '80', '35', '35', '45', '70'], ['057', 'Primeape', 'Fighting', '455', '65', '105', '60', '60', '70', '95'], ['058', 'Growlithe', 'Fire', '350', '55', '70', '45', '70', '50', '60'], ['059', 'Arcanine', 'Fire', '555', '90', '110', '80', '100', '80', '95'], ['060', 'Poliwag', 'Water', '300', '40', '50', '40', '40', '40', '90'], ['061', 'Poliwhirl', 'Water', '385', '65', '65', '65', '50', '50', '90'], ['062', 'Poliwrath', 'WaterFighting', '510', '90', '95', '95', '70', '90', '70'], ['063', 'Abra', 'Psychic', '310', '25', '20', '15', '105', '55', '90'], ['064', 'Kadabra', 'Psychic', '400', '40', '35', '30', '120', '70', '105'], ['065', 'Alakazam', 'Psychic', '500', '55', '50', '45', '135', '95', '120'], ['065', 'AlakazamMega Alakazam', 'Psychic', '590', '55', '50', '65', '175', '95', '150'], ['066', 'Machop', 'Fighting', '305', '70', '80', '50', '35', '35', '35'], ['067', 'Machoke', 'Fighting', '405', '80', '100', '70', '50', '60', '45'], ['068', 'Machamp', 'Fighting', '505', '90', '130', '80', '65', '85', '55'], ['069', 'Bellsprout', 'GrassPoison', '300', '50', '75', '35', '70', '30', '40'], ['070', 'Weepinbell', 'GrassPoison', '390', '65', '90', '50', '85', '45', '55'], ['071', 'Victreebel', 'GrassPoison', '490', '80', '105', '65', '100', '70', '70'], ['072', 'Tentacool', 'WaterPoison', '335', '40', '40', '35', '50', '100', '70'], ['073', 'Tentacruel', 'WaterPoison', '515', '80', '70', '65', '80', '120', '100'], ['074', 'Geodude', 'RockGround', '300', '40', '80', '100', '30', '30', '20'], ['075', 'Graveler', 'RockGround', '390', '55', '95', '115', '45', '45', '35'], ['076', 'Golem', 'RockGround', '495', '80', '120', '130', '55', '65', '45'], ['077', 'Ponyta', 'Fire', '410', '50', '85', '55', '65', '65', '90'], ['078', 'Rapidash', 'Fire', '500', '65', '100', '70', '80', '80', '105'], ['079', 'Slowpoke', 'WaterPsychic', '315', '90', '65', '65', '40', '40', '15'], ['080', 'Slowbro', 'WaterPsychic', '490', '95', '75', '110', '100', '80', '30'], ['080', 'SlowbroMega Slowbro', 'WaterPsychic', '590', '95', '75', '180', '130', '80', '30'], ['081', 'Magnemite', 'ElectricSteel', '325', '25', '35', '70', '95', '55', '45'], ['082', 'Magneton', 'ElectricSteel', '465', '50', '60', '95', '120', '70', '70'], ['083', \"Farfetch'd\", 'NormalFlying', '352', '52', '65', '55', '58', '62', '60'], ['084', 'Doduo', 'NormalFlying', '310', '35', '85', '45', '35', '35', '75'], ['085', 'Dodrio', 'NormalFlying', '460', '60', '110', '70', '60', '60', '100'], ['086', 'Seel', 'Water', '325', '65', '45', '55', '45', '70', '45'], ['087', 'Dewgong', 'WaterIce', '475', '90', '70', '80', '70', '95', '70'], ['088', 'Grimer', 'Poison', '325', '80', '80', '50', '40', '50', '25'], ['089', 'Muk', 'Poison', '500', '105', '105', '75', '65', '100', '50'], ['090', 'Shellder', 'Water', '305', '30', '65', '100', '45', '25', '40'], ['091', 'Cloyster', 'WaterIce', '525', '50', '95', '180', '85', '45', '70'], ['092', 'Gastly', 'GhostPoison', '310', '30', '35', '30', '100', '35', '80'], ['093', 'Haunter', 'GhostPoison', '405', '45', '50', '45', '115', '55', '95'], ['094', 'Gengar', 'GhostPoison', '500', '60', '65', '60', '130', '75', '110'], ['094', 'GengarMega Gengar', 'GhostPoison', '600', '60', '65', '80', '170', '95', '130'], ['095', 'Onix', 'RockGround', '385', '35', '45', '160', '30', '45', '70'], ['096', 'Drowzee', 'Psychic', '328', '60', '48', '45', '43', '90', '42'], ['097', 'Hypno', 'Psychic', '483', '85', '73', '70', '73', '115', '67'], ['098', 'Krabby', 'Water', '325', '30', '105', '90', '25', '25', '50'], ['099', 'Kingler', 'Water', '475', '55', '130', '115', '50', '50', '75'], ['100', 'Voltorb', 'Electric', '330', '40', '30', '50', '55', '55', '100'], ['101', 'Electrode', 'Electric', '480', '60', '50', '70', '80', '80', '140'], ['102', 'Exeggcute', 'GrassPsychic', '325', '60', '40', '80', '60', '45', '40'], ['103', 'Exeggutor', 'GrassPsychic', '520', '95', '95', '85', '125', '65', '55'], ['104', 'Cubone', 'Ground', '320', '50', '50', '95', '40', '50', '35'], ['105', 'Marowak', 'Ground', '425', '60', '80', '110', '50', '80', '45'], ['106', 'Hitmonlee', 'Fighting', '455', '50', '120', '53', '35', '110', '87'], ['107', 'Hitmonchan', 'Fighting', '455', '50', '105', '79', '35', '110', '76'], ['108', 'Lickitung', 'Normal', '385', '90', '55', '75', '60', '75', '30'], ['109', 'Koffing', 'Poison', '340', '40', '65', '95', '60', '45', '35'], ['110', 'Weezing', 'Poison', '490', '65', '90', '120', '85', '70', '60'], ['111', 'Rhyhorn', 'GroundRock', '345', '80', '85', '95', '30', '30', '25'], ['112', 'Rhydon', 'GroundRock', '485', '105', '130', '120', '45', '45', '40'], ['113', 'Chansey', 'Normal', '450', '250', '5', '5', '35', '105', '50'], ['114', 'Tangela', 'Grass', '435', '65', '55', '115', '100', '40', '60'], ['115', 'Kangaskhan', 'Normal', '490', '105', '95', '80', '40', '80', '90'], ['115', 'KangaskhanMega Kangaskhan', 'Normal', '590', '105', '125', '100', '60', '100', '100'], ['116', 'Horsea', 'Water', '295', '30', '40', '70', '70', '25', '60'], ['117', 'Seadra', 'Water', '440', '55', '65', '95', '95', '45', '85'], ['118', 'Goldeen', 'Water', '320', '45', '67', '60', '35', '50', '63'], ['119', 'Seaking', 'Water', '450', '80', '92', '65', '65', '80', '68'], ['120', 'Staryu', 'Water', '340', '30', '45', '55', '70', '55', '85'], ['121', 'Starmie', 'WaterPsychic', '520', '60', '75', '85', '100', '85', '115'], ['122', 'Mr. Mime', 'PsychicFairy', '460', '40', '45', '65', '100', '120', '90'], ['123', 'Scyther', 'BugFlying', '500', '70', '110', '80', '55', '80', '105'], ['124', 'Jynx', 'IcePsychic', '455', '65', '50', '35', '115', '95', '95'], ['125', 'Electabuzz', 'Electric', '490', '65', '83', '57', '95', '85', '105'], ['126', 'Magmar', 'Fire', '495', '65', '95', '57', '100', '85', '93'], ['127', 'Pinsir', 'Bug', '500', '65', '125', '100', '55', '70', '85'], ['127', 'PinsirMega Pinsir', 'BugFlying', '600', '65', '155', '120', '65', '90', '105'], ['128', 'Tauros', 'Normal', '490', '75', '100', '95', '40', '70', '110'], ['129', 'Magikarp', 'Water', '200', '20', '10', '55', '15', '20', '80'], ['130', 'Gyarados', 'WaterFlying', '540', '95', '125', '79', '60', '100', '81'], ['130', 'GyaradosMega Gyarados', 'WaterDark', '640', '95', '155', '109', '70', '130', '81'], ['131', 'Lapras', 'WaterIce', '535', '130', '85', '80', '85', '95', '60'], ['132', 'Ditto', 'Normal', '288', '48', '48', '48', '48', '48', '48'], ['133', 'Eevee', 'Normal', '325', '55', '55', '50', '45', '65', '55'], ['134', 'Vaporeon', 'Water', '525', '130', '65', '60', '110', '95', '65'], ['135', 'Jolteon', 'Electric', '525', '65', '65', '60', '110', '95', '130'], ['136', 'Flareon', 'Fire', '525', '65', '130', '60', '95', '110', '65'], ['137', 'Porygon', 'Normal', '395', '65', '60', '70', '85', '75', '40'], ['138', 'Omanyte', 'RockWater', '355', '35', '40', '100', '90', '55', '35'], ['139', 'Omastar', 'RockWater', '495', '70', '60', '125', '115', '70', '55'], ['140', 'Kabuto', 'RockWater', '355', '30', '80', '90', '55', '45', '55'], ['141', 'Kabutops', 'RockWater', '495', '60', '115', '105', '65', '70', '80'], ['142', 'Aerodactyl', 'RockFlying', '515', '80', '105', '65', '60', '75', '130'], ['142', 'AerodactylMega Aerodactyl', 'RockFlying', '615', '80', '135', '85', '70', '95', '150'], ['143', 'Snorlax', 'Normal', '540', '160', '110', '65', '65', '110', '30'], ['144', 'Articuno', 'IceFlying', '580', '90', '85', '100', '95', '125', '85'], ['145', 'Zapdos', 'ElectricFlying', '580', '90', '90', '85', '125', '90', '100'], ['146', 'Moltres', 'FireFlying', '580', '90', '100', '90', '125', '85', '90'], ['147', 'Dratini', 'Dragon', '300', '41', '64', '45', '50', '50', '50'], ['148', 'Dragonair', 'Dragon', '420', '61', '84', '65', '70', '70', '70'], ['149', 'Dragonite', 'DragonFlying', '600', '91', '134', '95', '100', '100', '80'], ['150', 'Mewtwo', 'Psychic', '680', '106', '110', '90', '154', '90', '130'], ['150', 'MewtwoMega Mewtwo X', 'PsychicFighting', '800', '126', '190', '100', '154', '100', '130'], ['150', 'MewtwoMega Mewtwo Y', 'Psychic', '780', '106', '150', '70', '194', '120', '140'], ['151', 'Mew', 'Psychic', '600', '100', '100', '100', '100', '100', '100'], ['152', 'Chikorita', 'Grass', '318', '45', '49', '65', '49', '65', '45'], ['153', 'Bayleef', 'Grass', '405', '60', '62', '80', '63', '80', '60'], ['154', 'Meganium', 'Grass', '525', '80', '82', '100', '83', '100', '80'], ['155', 'Cyndaquil', 'Fire', '309', '39', '52', '43', '60', '50', '65'], ['156', 'Quilava', 'Fire', '405', '58', '64', '58', '80', '65', '80'], ['157', 'Typhlosion', 'Fire', '534', '78', '84', '78', '109', '85', '100'], ['158', 'Totodile', 'Water', '314', '50', '65', '64', '44', '48', '43'], ['159', 'Croconaw', 'Water', '405', '65', '80', '80', '59', '63', '58'], ['160', 'Feraligatr', 'Water', '530', '85', '105', '100', '79', '83', '78'], ['161', 'Sentret', 'Normal', '215', '35', '46', '34', '35', '45', '20'], ['162', 'Furret', 'Normal', '415', '85', '76', '64', '45', '55', '90'], ['163', 'Hoothoot', 'NormalFlying', '262', '60', '30', '30', '36', '56', '50'], ['164', 'Noctowl', 'NormalFlying', '442', '100', '50', '50', '76', '96', '70'], ['165', 'Ledyba', 'BugFlying', '265', '40', '20', '30', '40', '80', '55'], ['166', 'Ledian', 'BugFlying', '390', '55', '35', '50', '55', '110', '85'], ['167', 'Spinarak', 'BugPoison', '250', '40', '60', '40', '40', '40', '30'], ['168', 'Ariados', 'BugPoison', '390', '70', '90', '70', '60', '60', '40'], ['169', 'Crobat', 'PoisonFlying', '535', '85', '90', '80', '70', '80', '130'], ['170', 'Chinchou', 'WaterElectric', '330', '75', '38', '38', '56', '56', '67'], ['171', 'Lanturn', 'WaterElectric', '460', '125', '58', '58', '76', '76', '67'], ['172', 'Pichu', 'Electric', '205', '20', '40', '15', '35', '35', '60'], ['173', 'Cleffa', 'Fairy', '218', '50', '25', '28', '45', '55', '15'], ['174', 'Igglybuff', 'NormalFairy', '210', '90', '30', '15', '40', '20', '15'], ['175', 'Togepi', 'Fairy', '245', '35', '20', '65', '40', '65', '20'], ['176', 'Togetic', 'FairyFlying', '405', '55', '40', '85', '80', '105', '40'], ['177', 'Natu', 'PsychicFlying', '320', '40', '50', '45', '70', '45', '70'], ['178', 'Xatu', 'PsychicFlying', '470', '65', '75', '70', '95', '70', '95'], ['179', 'Mareep', 'Electric', '280', '55', '40', '40', '65', '45', '35'], ['180', 'Flaaffy', 'Electric', '365', '70', '55', '55', '80', '60', '45'], ['181', 'Ampharos', 'Electric', '510', '90', '75', '85', '115', '90', '55'], ['181', 'AmpharosMega Ampharos', 'ElectricDragon', '610', '90', '95', '105', '165', '110', '45'], ['182', 'Bellossom', 'Grass', '490', '75', '80', '95', '90', '100', '50'], ['183', 'Marill', 'WaterFairy', '250', '70', '20', '50', '20', '50', '40'], ['184', 'Azumarill', 'WaterFairy', '420', '100', '50', '80', '60', '80', '50'], ['185', 'Sudowoodo', 'Rock', '410', '70', '100', '115', '30', '65', '30'], ['186', 'Politoed', 'Water', '500', '90', '75', '75', '90', '100', '70'], ['187', 'Hoppip', 'GrassFlying', '250', '35', '35', '40', '35', '55', '50'], ['188', 'Skiploom', 'GrassFlying', '340', '55', '45', '50', '45', '65', '80'], ['189', 'Jumpluff', 'GrassFlying', '460', '75', '55', '70', '55', '95', '110'], ['190', 'Aipom', 'Normal', '360', '55', '70', '55', '40', '55', '85'], ['191', 'Sunkern', 'Grass', '180', '30', '30', '30', '30', '30', '30'], ['192', 'Sunflora', 'Grass', '425', '75', '75', '55', '105', '85', '30'], ['193', 'Yanma', 'BugFlying', '390', '65', '65', '45', '75', '45', '95'], ['194', 'Wooper', 'WaterGround', '210', '55', '45', '45', '25', '25', '15'], ['195', 'Quagsire', 'WaterGround', '430', '95', '85', '85', '65', '65', '35'], ['196', 'Espeon', 'Psychic', '525', '65', '65', '60', '130', '95', '110'], ['197', 'Umbreon', 'Dark', '525', '95', '65', '110', '60', '130', '65'], ['198', 'Murkrow', 'DarkFlying', '405', '60', '85', '42', '85', '42', '91'], ['199', 'Slowking', 'WaterPsychic', '490', '95', '75', '80', '100', '110', '30'], ['200', 'Misdreavus', 'Ghost', '435', '60', '60', '60', '85', '85', '85'], ['201', 'Unown', 'Psychic', '336', '48', '72', '48', '72', '48', '48'], ['202', 'Wobbuffet', 'Psychic', '405', '190', '33', '58', '33', '58', '33'], ['203', 'Girafarig', 'NormalPsychic', '455', '70', '80', '65', '90', '65', '85'], ['204', 'Pineco', 'Bug', '290', '50', '65', '90', '35', '35', '15'], ['205', 'Forretress', 'BugSteel', '465', '75', '90', '140', '60', '60', '40'], ['206', 'Dunsparce', 'Normal', '415', '100', '70', '70', '65', '65', '45'], ['207', 'Gligar', 'GroundFlying', '430', '65', '75', '105', '35', '65', '85'], ['208', 'Steelix', 'SteelGround', '510', '75', '85', '200', '55', '65', '30'], ['208', 'SteelixMega Steelix', 'SteelGround', '610', '75', '125', '230', '55', '95', '30'], ['209', 'Snubbull', 'Fairy', '300', '60', '80', '50', '40', '40', '30'], ['210', 'Granbull', 'Fairy', '450', '90', '120', '75', '60', '60', '45'], ['211', 'Qwilfish', 'WaterPoison', '430', '65', '95', '75', '55', '55', '85'], ['212', 'Scizor', 'BugSteel', '500', '70', '130', '100', '55', '80', '65'], ['212', 'ScizorMega Scizor', 'BugSteel', '600', '70', '150', '140', '65', '100', '75'], ['213', 'Shuckle', 'BugRock', '505', '20', '10', '230', '10', '230', '5'], ['214', 'Heracross', 'BugFighting', '500', '80', '125', '75', '40', '95', '85'], ['214', 'HeracrossMega Heracross', 'BugFighting', '600', '80', '185', '115', '40', '105', '75'], ['215', 'Sneasel', 'DarkIce', '430', '55', '95', '55', '35', '75', '115'], ['216', 'Teddiursa', 'Normal', '330', '60', '80', '50', '50', '50', '40'], ['217', 'Ursaring', 'Normal', '500', '90', '130', '75', '75', '75', '55'], ['218', 'Slugma', 'Fire', '250', '40', '40', '40', '70', '40', '20'], ['219', 'Magcargo', 'FireRock', '410', '50', '50', '120', '80', '80', '30'], ['220', 'Swinub', 'IceGround', '250', '50', '50', '40', '30', '30', '50'], ['221', 'Piloswine', 'IceGround', '450', '100', '100', '80', '60', '60', '50'], ['222', 'Corsola', 'WaterRock', '380', '55', '55', '85', '65', '85', '35'], ['223', 'Remoraid', 'Water', '300', '35', '65', '35', '65', '35', '65'], ['224', 'Octillery', 'Water', '480', '75', '105', '75', '105', '75', '45'], ['225', 'Delibird', 'IceFlying', '330', '45', '55', '45', '65', '45', '75'], ['226', 'Mantine', 'WaterFlying', '465', '65', '40', '70', '80', '140', '70'], ['227', 'Skarmory', 'SteelFlying', '465', '65', '80', '140', '40', '70', '70'], ['228', 'Houndour', 'DarkFire', '330', '45', '60', '30', '80', '50', '65'], ['229', 'Houndoom', 'DarkFire', '500', '75', '90', '50', '110', '80', '95'], ['229', 'HoundoomMega Houndoom', 'DarkFire', '600', '75', '90', '90', '140', '90', '115'], ['230', 'Kingdra', 'WaterDragon', '540', '75', '95', '95', '95', '95', '85'], ['231', 'Phanpy', 'Ground', '330', '90', '60', '60', '40', '40', '40'], ['232', 'Donphan', 'Ground', '500', '90', '120', '120', '60', '60', '50'], ['233', 'Porygon2', 'Normal', '515', '85', '80', '90', '105', '95', '60'], ['234', 'Stantler', 'Normal', '465', '73', '95', '62', '85', '65', '85'], ['235', 'Smeargle', 'Normal', '250', '55', '20', '35', '20', '45', '75'], ['236', 'Tyrogue', 'Fighting', '210', '35', '35', '35', '35', '35', '35'], ['237', 'Hitmontop', 'Fighting', '455', '50', '95', '95', '35', '110', '70'], ['238', 'Smoochum', 'IcePsychic', '305', '45', '30', '15', '85', '65', '65'], ['239', 'Elekid', 'Electric', '360', '45', '63', '37', '65', '55', '95'], ['240', 'Magby', 'Fire', '365', '45', '75', '37', '70', '55', '83'], ['241', 'Miltank', 'Normal', '490', '95', '80', '105', '40', '70', '100'], ['242', 'Blissey', 'Normal', '540', '255', '10', '10', '75', '135', '55'], ['243', 'Raikou', 'Electric', '580', '90', '85', '75', '115', '100', '115'], ['244', 'Entei', 'Fire', '580', '115', '115', '85', '90', '75', '100'], ['245', 'Suicune', 'Water', '580', '100', '75', '115', '90', '115', '85'], ['246', 'Larvitar', 'RockGround', '300', '50', '64', '50', '45', '50', '41'], ['247', 'Pupitar', 'RockGround', '410', '70', '84', '70', '65', '70', '51'], ['248', 'Tyranitar', 'RockDark', '600', '100', '134', '110', '95', '100', '61'], ['248', 'TyranitarMega Tyranitar', 'RockDark', '700', '100', '164', '150', '95', '120', '71'], ['249', 'Lugia', 'PsychicFlying', '680', '106', '90', '130', '90', '154', '110'], ['250', 'Ho-oh', 'FireFlying', '680', '106', '130', '90', '110', '154', '90'], ['251', 'Celebi', 'PsychicGrass', '600', '100', '100', '100', '100', '100', '100'], ['252', 'Treecko', 'Grass', '310', '40', '45', '35', '65', '55', '70'], ['253', 'Grovyle', 'Grass', '405', '50', '65', '45', '85', '65', '95'], ['254', 'Sceptile', 'Grass', '530', '70', '85', '65', '105', '85', '120'], ['254', 'SceptileMega Sceptile', 'GrassDragon', '630', '70', '110', '75', '145', '85', '145'], ['255', 'Torchic', 'Fire', '310', '45', '60', '40', '70', '50', '45'], ['256', 'Combusken', 'FireFighting', '405', '60', '85', '60', '85', '60', '55'], ['257', 'Blaziken', 'FireFighting', '530', '80', '120', '70', '110', '70', '80'], ['257', 'BlazikenMega Blaziken', 'FireFighting', '630', '80', '160', '80', '130', '80', '100'], ['258', 'Mudkip', 'Water', '310', '50', '70', '50', '50', '50', '40'], ['259', 'Marshtomp', 'WaterGround', '405', '70', '85', '70', '60', '70', '50'], ['260', 'Swampert', 'WaterGround', '535', '100', '110', '90', '85', '90', '60'], ['260', 'SwampertMega Swampert', 'WaterGround', '635', '100', '150', '110', '95', '110', '70'], ['261', 'Poochyena', 'Dark', '220', '35', '55', '35', '30', '30', '35'], ['262', 'Mightyena', 'Dark', '420', '70', '90', '70', '60', '60', '70'], ['263', 'Zigzagoon', 'Normal', '240', '38', '30', '41', '30', '41', '60'], ['264', 'Linoone', 'Normal', '420', '78', '70', '61', '50', '61', '100'], ['265', 'Wurmple', 'Bug', '195', '45', '45', '35', '20', '30', '20'], ['266', 'Silcoon', 'Bug', '205', '50', '35', '55', '25', '25', '15'], ['267', 'Beautifly', 'BugFlying', '395', '60', '70', '50', '100', '50', '65'], ['268', 'Cascoon', 'Bug', '205', '50', '35', '55', '25', '25', '15'], ['269', 'Dustox', 'BugPoison', '385', '60', '50', '70', '50', '90', '65'], ['270', 'Lotad', 'WaterGrass', '220', '40', '30', '30', '40', '50', '30'], ['271', 'Lombre', 'WaterGrass', '340', '60', '50', '50', '60', '70', '50'], ['272', 'Ludicolo', 'WaterGrass', '480', '80', '70', '70', '90', '100', '70'], ['273', 'Seedot', 'Grass', '220', '40', '40', '50', '30', '30', '30'], ['274', 'Nuzleaf', 'GrassDark', '340', '70', '70', '40', '60', '40', '60'], ['275', 'Shiftry', 'GrassDark', '480', '90', '100', '60', '90', '60', '80'], ['276', 'Taillow', 'NormalFlying', '270', '40', '55', '30', '30', '30', '85'], ['277', 'Swellow', 'NormalFlying', '430', '60', '85', '60', '50', '50', '125'], ['278', 'Wingull', 'WaterFlying', '270', '40', '30', '30', '55', '30', '85'], ['279', 'Pelipper', 'WaterFlying', '430', '60', '50', '100', '85', '70', '65'], ['280', 'Ralts', 'PsychicFairy', '198', '28', '25', '25', '45', '35', '40'], ['281', 'Kirlia', 'PsychicFairy', '278', '38', '35', '35', '65', '55', '50'], ['282', 'Gardevoir', 'PsychicFairy', '518', '68', '65', '65', '125', '115', '80'], ['282', 'GardevoirMega Gardevoir', 'PsychicFairy', '618', '68', '85', '65', '165', '135', '100'], ['283', 'Surskit', 'BugWater', '269', '40', '30', '32', '50', '52', '65'], ['284', 'Masquerain', 'BugFlying', '414', '70', '60', '62', '80', '82', '60'], ['285', 'Shroomish', 'Grass', '295', '60', '40', '60', '40', '60', '35'], ['286', 'Breloom', 'GrassFighting', '460', '60', '130', '80', '60', '60', '70'], ['287', 'Slakoth', 'Normal', '280', '60', '60', '60', '35', '35', '30'], ['288', 'Vigoroth', 'Normal', '440', '80', '80', '80', '55', '55', '90'], ['289', 'Slaking', 'Normal', '670', '150', '160', '100', '95', '65', '100'], ['290', 'Nincada', 'BugGround', '266', '31', '45', '90', '30', '30', '40'], ['291', 'Ninjask', 'BugFlying', '456', '61', '90', '45', '50', '50', '160'], ['292', 'Shedinja', 'BugGhost', '236', '1', '90', '45', '30', '30', '40'], ['293', 'Whismur', 'Normal', '240', '64', '51', '23', '51', '23', '28'], ['294', 'Loudred', 'Normal', '360', '84', '71', '43', '71', '43', '48'], ['295', 'Exploud', 'Normal', '490', '104', '91', '63', '91', '73', '68'], ['296', 'Makuhita', 'Fighting', '237', '72', '60', '30', '20', '30', '25'], ['297', 'Hariyama', 'Fighting', '474', '144', '120', '60', '40', '60', '50'], ['298', 'Azurill', 'NormalFairy', '190', '50', '20', '40', '20', '40', '20'], ['299', 'Nosepass', 'Rock', '375', '30', '45', '135', '45', '90', '30'], ['300', 'Skitty', 'Normal', '260', '50', '45', '45', '35', '35', '50'], ['301', 'Delcatty', 'Normal', '380', '70', '65', '65', '55', '55', '70'], ['302', 'Sableye', 'DarkGhost', '380', '50', '75', '75', '65', '65', '50'], ['302', 'SableyeMega Sableye', 'DarkGhost', '480', '50', '85', '125', '85', '115', '20'], ['303', 'Mawile', 'SteelFairy', '380', '50', '85', '85', '55', '55', '50'], ['303', 'MawileMega Mawile', 'SteelFairy', '480', '50', '105', '125', '55', '95', '50'], ['304', 'Aron', 'SteelRock', '330', '50', '70', '100', '40', '40', '30'], ['305', 'Lairon', 'SteelRock', '430', '60', '90', '140', '50', '50', '40'], ['306', 'Aggron', 'SteelRock', '530', '70', '110', '180', '60', '60', '50'], ['306', 'AggronMega Aggron', 'Steel', '630', '70', '140', '230', '60', '80', '50'], ['307', 'Meditite', 'FightingPsychic', '280', '30', '40', '55', '40', '55', '60'], ['308', 'Medicham', 'FightingPsychic', '410', '60', '60', '75', '60', '75', '80'], ['308', 'MedichamMega Medicham', 'FightingPsychic', '510', '60', '100', '85', '80', '85', '100'], ['309', 'Electrike', 'Electric', '295', '40', '45', '40', '65', '40', '65'], ['310', 'Manectric', 'Electric', '475', '70', '75', '60', '105', '60', '105'], ['310', 'ManectricMega Manectric', 'Electric', '575', '70', '75', '80', '135', '80', '135'], ['311', 'Plusle', 'Electric', '405', '60', '50', '40', '85', '75', '95'], ['312', 'Minun', 'Electric', '405', '60', '40', '50', '75', '85', '95'], ['313', 'Volbeat', 'Bug', '400', '65', '73', '55', '47', '75', '85'], ['314', 'Illumise', 'Bug', '400', '65', '47', '55', '73', '75', '85'], ['315', 'Roselia', 'GrassPoison', '400', '50', '60', '45', '100', '80', '65'], ['316', 'Gulpin', 'Poison', '302', '70', '43', '53', '43', '53', '40'], ['317', 'Swalot', 'Poison', '467', '100', '73', '83', '73', '83', '55'], ['318', 'Carvanha', 'WaterDark', '305', '45', '90', '20', '65', '20', '65'], ['319', 'Sharpedo', 'WaterDark', '460', '70', '120', '40', '95', '40', '95'], ['319', 'SharpedoMega Sharpedo', 'WaterDark', '560', '70', '140', '70', '110', '65', '105'], ['320', 'Wailmer', 'Water', '400', '130', '70', '35', '70', '35', '60'], ['321', 'Wailord', 'Water', '500', '170', '90', '45', '90', '45', '60'], ['322', 'Numel', 'FireGround', '305', '60', '60', '40', '65', '45', '35'], ['323', 'Camerupt', 'FireGround', '460', '70', '100', '70', '105', '75', '40'], ['323', 'CameruptMega Camerupt', 'FireGround', '560', '70', '120', '100', '145', '105', '20'], ['324', 'Torkoal', 'Fire', '470', '70', '85', '140', '85', '70', '20'], ['325', 'Spoink', 'Psychic', '330', '60', '25', '35', '70', '80', '60'], ['326', 'Grumpig', 'Psychic', '470', '80', '45', '65', '90', '110', '80'], ['327', 'Spinda', 'Normal', '360', '60', '60', '60', '60', '60', '60'], ['328', 'Trapinch', 'Ground', '290', '45', '100', '45', '45', '45', '10'], ['329', 'Vibrava', 'GroundDragon', '340', '50', '70', '50', '50', '50', '70'], ['330', 'Flygon', 'GroundDragon', '520', '80', '100', '80', '80', '80', '100'], ['331', 'Cacnea', 'Grass', '335', '50', '85', '40', '85', '40', '35'], ['332', 'Cacturne', 'GrassDark', '475', '70', '115', '60', '115', '60', '55'], ['333', 'Swablu', 'NormalFlying', '310', '45', '40', '60', '40', '75', '50'], ['334', 'Altaria', 'DragonFlying', '490', '75', '70', '90', '70', '105', '80'], ['334', 'AltariaMega Altaria', 'DragonFairy', '590', '75', '110', '110', '110', '105', '80'], ['335', 'Zangoose', 'Normal', '458', '73', '115', '60', '60', '60', '90'], ['336', 'Seviper', 'Poison', '458', '73', '100', '60', '100', '60', '65'], ['337', 'Lunatone', 'RockPsychic', '440', '70', '55', '65', '95', '85', '70'], ['338', 'Solrock', 'RockPsychic', '440', '70', '95', '85', '55', '65', '70'], ['339', 'Barboach', 'WaterGround', '288', '50', '48', '43', '46', '41', '60'], ['340', 'Whiscash', 'WaterGround', '468', '110', '78', '73', '76', '71', '60'], ['341', 'Corphish', 'Water', '308', '43', '80', '65', '50', '35', '35'], ['342', 'Crawdaunt', 'WaterDark', '468', '63', '120', '85', '90', '55', '55'], ['343', 'Baltoy', 'GroundPsychic', '300', '40', '40', '55', '40', '70', '55'], ['344', 'Claydol', 'GroundPsychic', '500', '60', '70', '105', '70', '120', '75'], ['345', 'Lileep', 'RockGrass', '355', '66', '41', '77', '61', '87', '23'], ['346', 'Cradily', 'RockGrass', '495', '86', '81', '97', '81', '107', '43'], ['347', 'Anorith', 'RockBug', '355', '45', '95', '50', '40', '50', '75'], ['348', 'Armaldo', 'RockBug', '495', '75', '125', '100', '70', '80', '45'], ['349', 'Feebas', 'Water', '200', '20', '15', '20', '10', '55', '80'], ['350', 'Milotic', 'Water', '540', '95', '60', '79', '100', '125', '81'], ['351', 'Castform', 'Normal', '420', '70', '70', '70', '70', '70', '70'], ['352', 'Kecleon', 'Normal', '440', '60', '90', '70', '60', '120', '40'], ['353', 'Shuppet', 'Ghost', '295', '44', '75', '35', '63', '33', '45'], ['354', 'Banette', 'Ghost', '455', '64', '115', '65', '83', '63', '65'], ['354', 'BanetteMega Banette', 'Ghost', '555', '64', '165', '75', '93', '83', '75'], ['355', 'Duskull', 'Ghost', '295', '20', '40', '90', '30', '90', '25'], ['356', 'Dusclops', 'Ghost', '455', '40', '70', '130', '60', '130', '25'], ['357', 'Tropius', 'GrassFlying', '460', '99', '68', '83', '72', '87', '51'], ['358', 'Chimecho', 'Psychic', '425', '65', '50', '70', '95', '80', '65'], ['359', 'Absol', 'Dark', '465', '65', '130', '60', '75', '60', '75'], ['359', 'AbsolMega Absol', 'Dark', '565', '65', '150', '60', '115', '60', '115'], ['360', 'Wynaut', 'Psychic', '260', '95', '23', '48', '23', '48', '23'], ['361', 'Snorunt', 'Ice', '300', '50', '50', '50', '50', '50', '50'], ['362', 'Glalie', 'Ice', '480', '80', '80', '80', '80', '80', '80'], ['362', 'GlalieMega Glalie', 'Ice', '580', '80', '120', '80', '120', '80', '100'], ['363', 'Spheal', 'IceWater', '290', '70', '40', '50', '55', '50', '25'], ['364', 'Sealeo', 'IceWater', '410', '90', '60', '70', '75', '70', '45'], ['365', 'Walrein', 'IceWater', '530', '110', '80', '90', '95', '90', '65'], ['366', 'Clamperl', 'Water', '345', '35', '64', '85', '74', '55', '32'], ['367', 'Huntail', 'Water', '485', '55', '104', '105', '94', '75', '52'], ['368', 'Gorebyss', 'Water', '485', '55', '84', '105', '114', '75', '52'], ['369', 'Relicanth', 'WaterRock', '485', '100', '90', '130', '45', '65', '55'], ['370', 'Luvdisc', 'Water', '330', '43', '30', '55', '40', '65', '97'], ['371', 'Bagon', 'Dragon', '300', '45', '75', '60', '40', '30', '50'], ['372', 'Shelgon', 'Dragon', '420', '65', '95', '100', '60', '50', '50'], ['373', 'Salamence', 'DragonFlying', '600', '95', '135', '80', '110', '80', '100'], ['373', 'SalamenceMega Salamence', 'DragonFlying', '700', '95', '145', '130', '120', '90', '120'], ['374', 'Beldum', 'SteelPsychic', '300', '40', '55', '80', '35', '60', '30'], ['375', 'Metang', 'SteelPsychic', '420', '60', '75', '100', '55', '80', '50'], ['376', 'Metagross', 'SteelPsychic', '600', '80', '135', '130', '95', '90', '70'], ['376', 'MetagrossMega Metagross', 'SteelPsychic', '700', '80', '145', '150', '105', '110', '110'], ['377', 'Regirock', 'Rock', '580', '80', '100', '200', '50', '100', '50'], ['378', 'Regice', 'Ice', '580', '80', '50', '100', '100', '200', '50'], ['379', 'Registeel', 'Steel', '580', '80', '75', '150', '75', '150', '50'], ['380', 'Latias', 'DragonPsychic', '600', '80', '80', '90', '110', '130', '110'], ['380', 'LatiasMega Latias', 'DragonPsychic', '700', '80', '100', '120', '140', '150', '110'], ['381', 'Latios', 'DragonPsychic', '600', '80', '90', '80', '130', '110', '110'], ['381', 'LatiosMega Latios', 'DragonPsychic', '700', '80', '130', '100', '160', '120', '110'], ['382', 'Kyogre', 'Water', '670', '100', '100', '90', '150', '140', '90'], ['382', 'KyogrePrimal Kyogre', 'Water', '770', '100', '150', '90', '180', '160', '90'], ['383', 'Groudon', 'Ground', '670', '100', '150', '140', '100', '90', '90'], ['383', 'GroudonPrimal Groudon', 'GroundFire', '770', '100', '180', '160', '150', '90', '90'], ['384', 'Rayquaza', 'DragonFlying', '680', '105', '150', '90', '150', '90', '95'], ['384', 'RayquazaMega Rayquaza', 'DragonFlying', '780', '105', '180', '100', '180', '100', '115'], ['385', 'Jirachi', 'SteelPsychic', '600', '100', '100', '100', '100', '100', '100'], ['386', 'DeoxysNormal Forme', 'Psychic', '600', '50', '150', '50', '150', '50', '150'], ['386', 'DeoxysAttack Forme', 'Psychic', '600', '50', '180', '20', '180', '20', '150'], ['386', 'DeoxysDefense Forme', 'Psychic', '600', '50', '70', '160', '70', '160', '90'], ['386', 'DeoxysSpeed Forme', 'Psychic', '600', '50', '95', '90', '95', '90', '180'], ['387', 'Turtwig', 'Grass', '318', '55', '68', '64', '45', '55', '31'], ['388', 'Grotle', 'Grass', '405', '75', '89', '85', '55', '65', '36'], ['389', 'Torterra', 'GrassGround', '525', '95', '109', '105', '75', '85', '56'], ['390', 'Chimchar', 'Fire', '309', '44', '58', '44', '58', '44', '61'], ['391', 'Monferno', 'FireFighting', '405', '64', '78', '52', '78', '52', '81'], ['392', 'Infernape', 'FireFighting', '534', '76', '104', '71', '104', '71', '108'], ['393', 'Piplup', 'Water', '314', '53', '51', '53', '61', '56', '40'], ['394', 'Prinplup', 'Water', '405', '64', '66', '68', '81', '76', '50'], ['395', 'Empoleon', 'WaterSteel', '530', '84', '86', '88', '111', '101', '60'], ['396', 'Starly', 'NormalFlying', '245', '40', '55', '30', '30', '30', '60'], ['397', 'Staravia', 'NormalFlying', '340', '55', '75', '50', '40', '40', '80'], ['398', 'Staraptor', 'NormalFlying', '485', '85', '120', '70', '50', '60', '100'], ['399', 'Bidoof', 'Normal', '250', '59', '45', '40', '35', '40', '31'], ['400', 'Bibarel', 'NormalWater', '410', '79', '85', '60', '55', '60', '71'], ['401', 'Kricketot', 'Bug', '194', '37', '25', '41', '25', '41', '25'], ['402', 'Kricketune', 'Bug', '384', '77', '85', '51', '55', '51', '65'], ['403', 'Shinx', 'Electric', '263', '45', '65', '34', '40', '34', '45'], ['404', 'Luxio', 'Electric', '363', '60', '85', '49', '60', '49', '60'], ['405', 'Luxray', 'Electric', '523', '80', '120', '79', '95', '79', '70'], ['406', 'Budew', 'GrassPoison', '280', '40', '30', '35', '50', '70', '55'], ['407', 'Roserade', 'GrassPoison', '515', '60', '70', '65', '125', '105', '90'], ['408', 'Cranidos', 'Rock', '350', '67', '125', '40', '30', '30', '58'], ['409', 'Rampardos', 'Rock', '495', '97', '165', '60', '65', '50', '58'], ['410', 'Shieldon', 'RockSteel', '350', '30', '42', '118', '42', '88', '30'], ['411', 'Bastiodon', 'RockSteel', '495', '60', '52', '168', '47', '138', '30'], ['412', 'Burmy', 'Bug', '224', '40', '29', '45', '29', '45', '36'], ['413', 'WormadamPlant Cloak', 'BugGrass', '424', '60', '59', '85', '79', '105', '36'], ['413', 'WormadamSandy Cloak', 'BugGround', '424', '60', '79', '105', '59', '85', '36'], ['413', 'WormadamTrash Cloak', 'BugSteel', '424', '60', '69', '95', '69', '95', '36'], ['414', 'Mothim', 'BugFlying', '424', '70', '94', '50', '94', '50', '66'], ['415', 'Combee', 'BugFlying', '244', '30', '30', '42', '30', '42', '70'], ['416', 'Vespiquen', 'BugFlying', '474', '70', '80', '102', '80', '102', '40'], ['417', 'Pachirisu', 'Electric', '405', '60', '45', '70', '45', '90', '95'], ['418', 'Buizel', 'Water', '330', '55', '65', '35', '60', '30', '85'], ['419', 'Floatzel', 'Water', '495', '85', '105', '55', '85', '50', '115'], ['420', 'Cherubi', 'Grass', '275', '45', '35', '45', '62', '53', '35'], ['421', 'Cherrim', 'Grass', '450', '70', '60', '70', '87', '78', '85'], ['422', 'Shellos', 'Water', '325', '76', '48', '48', '57', '62', '34'], ['423', 'Gastrodon', 'WaterGround', '475', '111', '83', '68', '92', '82', '39'], ['424', 'Ambipom', 'Normal', '482', '75', '100', '66', '60', '66', '115'], ['425', 'Drifloon', 'GhostFlying', '348', '90', '50', '34', '60', '44', '70'], ['426', 'Drifblim', 'GhostFlying', '498', '150', '80', '44', '90', '54', '80'], ['427', 'Buneary', 'Normal', '350', '55', '66', '44', '44', '56', '85'], ['428', 'Lopunny', 'Normal', '480', '65', '76', '84', '54', '96', '105'], ['428', 'LopunnyMega Lopunny', 'NormalFighting', '580', '65', '136', '94', '54', '96', '135'], ['429', 'Mismagius', 'Ghost', '495', '60', '60', '60', '105', '105', '105'], ['430', 'Honchkrow', 'DarkFlying', '505', '100', '125', '52', '105', '52', '71'], ['431', 'Glameow', 'Normal', '310', '49', '55', '42', '42', '37', '85'], ['432', 'Purugly', 'Normal', '452', '71', '82', '64', '64', '59', '112'], ['433', 'Chingling', 'Psychic', '285', '45', '30', '50', '65', '50', '45'], ['434', 'Stunky', 'PoisonDark', '329', '63', '63', '47', '41', '41', '74'], ['435', 'Skuntank', 'PoisonDark', '479', '103', '93', '67', '71', '61', '84'], ['436', 'Bronzor', 'SteelPsychic', '300', '57', '24', '86', '24', '86', '23'], ['437', 'Bronzong', 'SteelPsychic', '500', '67', '89', '116', '79', '116', '33'], ['438', 'Bonsly', 'Rock', '290', '50', '80', '95', '10', '45', '10'], ['439', 'Mime Jr.', 'PsychicFairy', '310', '20', '25', '45', '70', '90', '60'], ['440', 'Happiny', 'Normal', '220', '100', '5', '5', '15', '65', '30'], ['441', 'Chatot', 'NormalFlying', '411', '76', '65', '45', '92', '42', '91'], ['442', 'Spiritomb', 'GhostDark', '485', '50', '92', '108', '92', '108', '35'], ['443', 'Gible', 'DragonGround', '300', '58', '70', '45', '40', '45', '42'], ['444', 'Gabite', 'DragonGround', '410', '68', '90', '65', '50', '55', '82'], ['445', 'Garchomp', 'DragonGround', '600', '108', '130', '95', '80', '85', '102'], ['445', 'GarchompMega Garchomp', 'DragonGround', '700', '108', '170', '115', '120', '95', '92'], ['446', 'Munchlax', 'Normal', '390', '135', '85', '40', '40', '85', '5'], ['447', 'Riolu', 'Fighting', '285', '40', '70', '40', '35', '40', '60'], ['448', 'Lucario', 'FightingSteel', '525', '70', '110', '70', '115', '70', '90'], ['448', 'LucarioMega Lucario', 'FightingSteel', '625', '70', '145', '88', '140', '70', '112'], ['449', 'Hippopotas', 'Ground', '330', '68', '72', '78', '38', '42', '32'], ['450', 'Hippowdon', 'Ground', '525', '108', '112', '118', '68', '72', '47'], ['451', 'Skorupi', 'PoisonBug', '330', '40', '50', '90', '30', '55', '65'], ['452', 'Drapion', 'PoisonDark', '500', '70', '90', '110', '60', '75', '95'], ['453', 'Croagunk', 'PoisonFighting', '300', '48', '61', '40', '61', '40', '50'], ['454', 'Toxicroak', 'PoisonFighting', '490', '83', '106', '65', '86', '65', '85'], ['455', 'Carnivine', 'Grass', '454', '74', '100', '72', '90', '72', '46'], ['456', 'Finneon', 'Water', '330', '49', '49', '56', '49', '61', '66'], ['457', 'Lumineon', 'Water', '460', '69', '69', '76', '69', '86', '91'], ['458', 'Mantyke', 'WaterFlying', '345', '45', '20', '50', '60', '120', '50'], ['459', 'Snover', 'GrassIce', '334', '60', '62', '50', '62', '60', '40'], ['460', 'Abomasnow', 'GrassIce', '494', '90', '92', '75', '92', '85', '60'], ['460', 'AbomasnowMega Abomasnow', 'GrassIce', '594', '90', '132', '105', '132', '105', '30'], ['461', 'Weavile', 'DarkIce', '510', '70', '120', '65', '45', '85', '125'], ['462', 'Magnezone', 'ElectricSteel', '535', '70', '70', '115', '130', '90', '60'], ['463', 'Lickilicky', 'Normal', '515', '110', '85', '95', '80', '95', '50'], ['464', 'Rhyperior', 'GroundRock', '535', '115', '140', '130', '55', '55', '40'], ['465', 'Tangrowth', 'Grass', '535', '100', '100', '125', '110', '50', '50'], ['466', 'Electivire', 'Electric', '540', '75', '123', '67', '95', '85', '95'], ['467', 'Magmortar', 'Fire', '540', '75', '95', '67', '125', '95', '83'], ['468', 'Togekiss', 'FairyFlying', '545', '85', '50', '95', '120', '115', '80'], ['469', 'Yanmega', 'BugFlying', '515', '86', '76', '86', '116', '56', '95'], ['470', 'Leafeon', 'Grass', '525', '65', '110', '130', '60', '65', '95'], ['471', 'Glaceon', 'Ice', '525', '65', '60', '110', '130', '95', '65'], ['472', 'Gliscor', 'GroundFlying', '510', '75', '95', '125', '45', '75', '95'], ['473', 'Mamoswine', 'IceGround', '530', '110', '130', '80', '70', '60', '80'], ['474', 'Porygon-Z', 'Normal', '535', '85', '80', '70', '135', '75', '90'], ['475', 'Gallade', 'PsychicFighting', '518', '68', '125', '65', '65', '115', '80'], ['475', 'GalladeMega Gallade', 'PsychicFighting', '618', '68', '165', '95', '65', '115', '110'], ['476', 'Probopass', 'RockSteel', '525', '60', '55', '145', '75', '150', '40'], ['477', 'Dusknoir', 'Ghost', '525', '45', '100', '135', '65', '135', '45'], ['478', 'Froslass', 'IceGhost', '480', '70', '80', '70', '80', '70', '110'], ['479', 'Rotom', 'ElectricGhost', '440', '50', '50', '77', '95', '77', '91'], ['479', 'RotomHeat Rotom', 'ElectricFire', '520', '50', '65', '107', '105', '107', '86'], ['479', 'RotomWash Rotom', 'ElectricWater', '520', '50', '65', '107', '105', '107', '86'], ['479', 'RotomFrost Rotom', 'ElectricIce', '520', '50', '65', '107', '105', '107', '86'], ['479', 'RotomFan Rotom', 'ElectricFlying', '520', '50', '65', '107', '105', '107', '86'], ['479', 'RotomMow Rotom', 'ElectricGrass', '520', '50', '65', '107', '105', '107', '86'], ['480', 'Uxie', 'Psychic', '580', '75', '75', '130', '75', '130', '95'], ['481', 'Mesprit', 'Psychic', '580', '80', '105', '105', '105', '105', '80'], ['482', 'Azelf', 'Psychic', '580', '75', '125', '70', '125', '70', '115'], ['483', 'Dialga', 'SteelDragon', '680', '100', '120', '120', '150', '100', '90'], ['484', 'Palkia', 'WaterDragon', '680', '90', '120', '100', '150', '120', '100'], ['485', 'Heatran', 'FireSteel', '600', '91', '90', '106', '130', '106', '77'], ['486', 'Regigigas', 'Normal', '670', '110', '160', '110', '80', '110', '100'], ['487', 'GiratinaAltered Forme', 'GhostDragon', '680', '150', '100', '120', '100', '120', '90'], ['487', 'GiratinaOrigin Forme', 'GhostDragon', '680', '150', '120', '100', '120', '100', '90'], ['488', 'Cresselia', 'Psychic', '600', '120', '70', '120', '75', '130', '85'], ['489', 'Phione', 'Water', '480', '80', '80', '80', '80', '80', '80'], ['490', 'Manaphy', 'Water', '600', '100', '100', '100', '100', '100', '100'], ['491', 'Darkrai', 'Dark', '600', '70', '90', '90', '135', '90', '125'], ['492', 'ShayminLand Forme', 'Grass', '600', '100', '100', '100', '100', '100', '100'], ['492', 'ShayminSky Forme', 'GrassFlying', '600', '100', '103', '75', '120', '75', '127'], ['493', 'Arceus', 'Normal', '720', '120', '120', '120', '120', '120', '120'], ['494', 'Victini', 'PsychicFire', '600', '100', '100', '100', '100', '100', '100'], ['495', 'Snivy', 'Grass', '308', '45', '45', '55', '45', '55', '63'], ['496', 'Servine', 'Grass', '413', '60', '60', '75', '60', '75', '83'], ['497', 'Serperior', 'Grass', '528', '75', '75', '95', '75', '95', '113'], ['498', 'Tepig', 'Fire', '308', '65', '63', '45', '45', '45', '45'], ['499', 'Pignite', 'FireFighting', '418', '90', '93', '55', '70', '55', '55'], ['500', 'Emboar', 'FireFighting', '528', '110', '123', '65', '100', '65', '65'], ['501', 'Oshawott', 'Water', '308', '55', '55', '45', '63', '45', '45'], ['502', 'Dewott', 'Water', '413', '75', '75', '60', '83', '60', '60'], ['503', 'Samurott', 'Water', '528', '95', '100', '85', '108', '70', '70'], ['504', 'Patrat', 'Normal', '255', '45', '55', '39', '35', '39', '42'], ['505', 'Watchog', 'Normal', '420', '60', '85', '69', '60', '69', '77'], ['506', 'Lillipup', 'Normal', '275', '45', '60', '45', '25', '45', '55'], ['507', 'Herdier', 'Normal', '370', '65', '80', '65', '35', '65', '60'], ['508', 'Stoutland', 'Normal', '500', '85', '110', '90', '45', '90', '80'], ['509', 'Purrloin', 'Dark', '281', '41', '50', '37', '50', '37', '66'], ['510', 'Liepard', 'Dark', '446', '64', '88', '50', '88', '50', '106'], ['511', 'Pansage', 'Grass', '316', '50', '53', '48', '53', '48', '64'], ['512', 'Simisage', 'Grass', '498', '75', '98', '63', '98', '63', '101'], ['513', 'Pansear', 'Fire', '316', '50', '53', '48', '53', '48', '64'], ['514', 'Simisear', 'Fire', '498', '75', '98', '63', '98', '63', '101'], ['515', 'Panpour', 'Water', '316', '50', '53', '48', '53', '48', '64'], ['516', 'Simipour', 'Water', '498', '75', '98', '63', '98', '63', '101'], ['517', 'Munna', 'Psychic', '292', '76', '25', '45', '67', '55', '24'], ['518', 'Musharna', 'Psychic', '487', '116', '55', '85', '107', '95', '29'], ['519', 'Pidove', 'NormalFlying', '264', '50', '55', '50', '36', '30', '43'], ['520', 'Tranquill', 'NormalFlying', '358', '62', '77', '62', '50', '42', '65'], ['521', 'Unfezant', 'NormalFlying', '488', '80', '115', '80', '65', '55', '93'], ['522', 'Blitzle', 'Electric', '295', '45', '60', '32', '50', '32', '76'], ['523', 'Zebstrika', 'Electric', '497', '75', '100', '63', '80', '63', '116'], ['524', 'Roggenrola', 'Rock', '280', '55', '75', '85', '25', '25', '15'], ['525', 'Boldore', 'Rock', '390', '70', '105', '105', '50', '40', '20'], ['526', 'Gigalith', 'Rock', '515', '85', '135', '130', '60', '80', '25'], ['527', 'Woobat', 'PsychicFlying', '313', '55', '45', '43', '55', '43', '72'], ['528', 'Swoobat', 'PsychicFlying', '425', '67', '57', '55', '77', '55', '114'], ['529', 'Drilbur', 'Ground', '328', '60', '85', '40', '30', '45', '68'], ['530', 'Excadrill', 'GroundSteel', '508', '110', '135', '60', '50', '65', '88'], ['531', 'Audino', 'Normal', '445', '103', '60', '86', '60', '86', '50'], ['531', 'AudinoMega Audino', 'NormalFairy', '545', '103', '60', '126', '80', '126', '50'], ['532', 'Timburr', 'Fighting', '305', '75', '80', '55', '25', '35', '35'], ['533', 'Gurdurr', 'Fighting', '405', '85', '105', '85', '40', '50', '40'], ['534', 'Conkeldurr', 'Fighting', '505', '105', '140', '95', '55', '65', '45'], ['535', 'Tympole', 'Water', '294', '50', '50', '40', '50', '40', '64'], ['536', 'Palpitoad', 'WaterGround', '384', '75', '65', '55', '65', '55', '69'], ['537', 'Seismitoad', 'WaterGround', '509', '105', '95', '75', '85', '75', '74'], ['538', 'Throh', 'Fighting', '465', '120', '100', '85', '30', '85', '45'], ['539', 'Sawk', 'Fighting', '465', '75', '125', '75', '30', '75', '85'], ['540', 'Sewaddle', 'BugGrass', '310', '45', '53', '70', '40', '60', '42'], ['541', 'Swadloon', 'BugGrass', '380', '55', '63', '90', '50', '80', '42'], ['542', 'Leavanny', 'BugGrass', '500', '75', '103', '80', '70', '80', '92'], ['543', 'Venipede', 'BugPoison', '260', '30', '45', '59', '30', '39', '57'], ['544', 'Whirlipede', 'BugPoison', '360', '40', '55', '99', '40', '79', '47'], ['545', 'Scolipede', 'BugPoison', '485', '60', '100', '89', '55', '69', '112'], ['546', 'Cottonee', 'GrassFairy', '280', '40', '27', '60', '37', '50', '66'], ['547', 'Whimsicott', 'GrassFairy', '480', '60', '67', '85', '77', '75', '116'], ['548', 'Petilil', 'Grass', '280', '45', '35', '50', '70', '50', '30'], ['549', 'Lilligant', 'Grass', '480', '70', '60', '75', '110', '75', '90'], ['550', 'Basculin', 'Water', '460', '70', '92', '65', '80', '55', '98'], ['551', 'Sandile', 'GroundDark', '292', '50', '72', '35', '35', '35', '65'], ['552', 'Krokorok', 'GroundDark', '351', '60', '82', '45', '45', '45', '74'], ['553', 'Krookodile', 'GroundDark', '519', '95', '117', '80', '65', '70', '92'], ['554', 'Darumaka', 'Fire', '315', '70', '90', '45', '15', '45', '50'], ['555', 'DarmanitanStandard Mode', 'Fire', '480', '105', '140', '55', '30', '55', '95'], ['555', 'DarmanitanZen Mode', 'FirePsychic', '540', '105', '30', '105', '140', '105', '55'], ['556', 'Maractus', 'Grass', '461', '75', '86', '67', '106', '67', '60'], ['557', 'Dwebble', 'BugRock', '325', '50', '65', '85', '35', '35', '55'], ['558', 'Crustle', 'BugRock', '475', '70', '95', '125', '65', '75', '45'], ['559', 'Scraggy', 'DarkFighting', '348', '50', '75', '70', '35', '70', '48'], ['560', 'Scrafty', 'DarkFighting', '488', '65', '90', '115', '45', '115', '58'], ['561', 'Sigilyph', 'PsychicFlying', '490', '72', '58', '80', '103', '80', '97'], ['562', 'Yamask', 'Ghost', '303', '38', '30', '85', '55', '65', '30'], ['563', 'Cofagrigus', 'Ghost', '483', '58', '50', '145', '95', '105', '30'], ['564', 'Tirtouga', 'WaterRock', '355', '54', '78', '103', '53', '45', '22'], ['565', 'Carracosta', 'WaterRock', '495', '74', '108', '133', '83', '65', '32'], ['566', 'Archen', 'RockFlying', '401', '55', '112', '45', '74', '45', '70'], ['567', 'Archeops', 'RockFlying', '567', '75', '140', '65', '112', '65', '110'], ['568', 'Trubbish', 'Poison', '329', '50', '50', '62', '40', '62', '65'], ['569', 'Garbodor', 'Poison', '474', '80', '95', '82', '60', '82', '75'], ['570', 'Zorua', 'Dark', '330', '40', '65', '40', '80', '40', '65'], ['571', 'Zoroark', 'Dark', '510', '60', '105', '60', '120', '60', '105'], ['572', 'Minccino', 'Normal', '300', '55', '50', '40', '40', '40', '75'], ['573', 'Cinccino', 'Normal', '470', '75', '95', '60', '65', '60', '115'], ['574', 'Gothita', 'Psychic', '290', '45', '30', '50', '55', '65', '45'], ['575', 'Gothorita', 'Psychic', '390', '60', '45', '70', '75', '85', '55'], ['576', 'Gothitelle', 'Psychic', '490', '70', '55', '95', '95', '110', '65'], ['577', 'Solosis', 'Psychic', '290', '45', '30', '40', '105', '50', '20'], ['578', 'Duosion', 'Psychic', '370', '65', '40', '50', '125', '60', '30'], ['579', 'Reuniclus', 'Psychic', '490', '110', '65', '75', '125', '85', '30'], ['580', 'Ducklett', 'WaterFlying', '305', '62', '44', '50', '44', '50', '55'], ['581', 'Swanna', 'WaterFlying', '473', '75', '87', '63', '87', '63', '98'], ['582', 'Vanillite', 'Ice', '305', '36', '50', '50', '65', '60', '44'], ['583', 'Vanillish', 'Ice', '395', '51', '65', '65', '80', '75', '59'], ['584', 'Vanilluxe', 'Ice', '535', '71', '95', '85', '110', '95', '79'], ['585', 'Deerling', 'NormalGrass', '335', '60', '60', '50', '40', '50', '75'], ['586', 'Sawsbuck', 'NormalGrass', '475', '80', '100', '70', '60', '70', '95'], ['587', 'Emolga', 'ElectricFlying', '428', '55', '75', '60', '75', '60', '103'], ['588', 'Karrablast', 'Bug', '315', '50', '75', '45', '40', '45', '60'], ['589', 'Escavalier', 'BugSteel', '495', '70', '135', '105', '60', '105', '20'], ['590', 'Foongus', 'GrassPoison', '294', '69', '55', '45', '55', '55', '15'], ['591', 'Amoonguss', 'GrassPoison', '464', '114', '85', '70', '85', '80', '30'], ['592', 'Frillish', 'WaterGhost', '335', '55', '40', '50', '65', '85', '40'], ['593', 'Jellicent', 'WaterGhost', '480', '100', '60', '70', '85', '105', '60'], ['594', 'Alomomola', 'Water', '470', '165', '75', '80', '40', '45', '65'], ['595', 'Joltik', 'BugElectric', '319', '50', '47', '50', '57', '50', '65'], ['596', 'Galvantula', 'BugElectric', '472', '70', '77', '60', '97', '60', '108'], ['597', 'Ferroseed', 'GrassSteel', '305', '44', '50', '91', '24', '86', '10'], ['598', 'Ferrothorn', 'GrassSteel', '489', '74', '94', '131', '54', '116', '20'], ['599', 'Klink', 'Steel', '300', '40', '55', '70', '45', '60', '30'], ['600', 'Klang', 'Steel', '440', '60', '80', '95', '70', '85', '50'], ['601', 'Klinklang', 'Steel', '520', '60', '100', '115', '70', '85', '90'], ['602', 'Tynamo', 'Electric', '275', '35', '55', '40', '45', '40', '60'], ['603', 'Eelektrik', 'Electric', '405', '65', '85', '70', '75', '70', '40'], ['604', 'Eelektross', 'Electric', '515', '85', '115', '80', '105', '80', '50'], ['605', 'Elgyem', 'Psychic', '335', '55', '55', '55', '85', '55', '30'], ['606', 'Beheeyem', 'Psychic', '485', '75', '75', '75', '125', '95', '40'], ['607', 'Litwick', 'GhostFire', '275', '50', '30', '55', '65', '55', '20'], ['608', 'Lampent', 'GhostFire', '370', '60', '40', '60', '95', '60', '55'], ['609', 'Chandelure', 'GhostFire', '520', '60', '55', '90', '145', '90', '80'], ['610', 'Axew', 'Dragon', '320', '46', '87', '60', '30', '40', '57'], ['611', 'Fraxure', 'Dragon', '410', '66', '117', '70', '40', '50', '67'], ['612', 'Haxorus', 'Dragon', '540', '76', '147', '90', '60', '70', '97'], ['613', 'Cubchoo', 'Ice', '305', '55', '70', '40', '60', '40', '40'], ['614', 'Beartic', 'Ice', '485', '95', '110', '80', '70', '80', '50'], ['615', 'Cryogonal', 'Ice', '485', '70', '50', '30', '95', '135', '105'], ['616', 'Shelmet', 'Bug', '305', '50', '40', '85', '40', '65', '25'], ['617', 'Accelgor', 'Bug', '495', '80', '70', '40', '100', '60', '145'], ['618', 'Stunfisk', 'GroundElectric', '471', '109', '66', '84', '81', '99', '32'], ['619', 'Mienfoo', 'Fighting', '350', '45', '85', '50', '55', '50', '65'], ['620', 'Mienshao', 'Fighting', '510', '65', '125', '60', '95', '60', '105'], ['621', 'Druddigon', 'Dragon', '485', '77', '120', '90', '60', '90', '48'], ['622', 'Golett', 'GroundGhost', '303', '59', '74', '50', '35', '50', '35'], ['623', 'Golurk', 'GroundGhost', '483', '89', '124', '80', '55', '80', '55'], ['624', 'Pawniard', 'DarkSteel', '340', '45', '85', '70', '40', '40', '60'], ['625', 'Bisharp', 'DarkSteel', '490', '65', '125', '100', '60', '70', '70'], ['626', 'Bouffalant', 'Normal', '490', '95', '110', '95', '40', '95', '55'], ['627', 'Rufflet', 'NormalFlying', '350', '70', '83', '50', '37', '50', '60'], ['628', 'Braviary', 'NormalFlying', '510', '100', '123', '75', '57', '75', '80'], ['629', 'Vullaby', 'DarkFlying', '370', '70', '55', '75', '45', '65', '60'], ['630', 'Mandibuzz', 'DarkFlying', '510', '110', '65', '105', '55', '95', '80'], ['631', 'Heatmor', 'Fire', '484', '85', '97', '66', '105', '66', '65'], ['632', 'Durant', 'BugSteel', '484', '58', '109', '112', '48', '48', '109'], ['633', 'Deino', 'DarkDragon', '300', '52', '65', '50', '45', '50', '38'], ['634', 'Zweilous', 'DarkDragon', '420', '72', '85', '70', '65', '70', '58'], ['635', 'Hydreigon', 'DarkDragon', '600', '92', '105', '90', '125', '90', '98'], ['636', 'Larvesta', 'BugFire', '360', '55', '85', '55', '50', '55', '60'], ['637', 'Volcarona', 'BugFire', '550', '85', '60', '65', '135', '105', '100'], ['638', 'Cobalion', 'SteelFighting', '580', '91', '90', '129', '90', '72', '108'], ['639', 'Terrakion', 'RockFighting', '580', '91', '129', '90', '72', '90', '108'], ['640', 'Virizion', 'GrassFighting', '580', '91', '90', '72', '90', '129', '108'], ['641', 'TornadusIncarnate Forme', 'Flying', '580', '79', '115', '70', '125', '80', '111'], ['641', 'TornadusTherian Forme', 'Flying', '580', '79', '100', '80', '110', '90', '121'], ['642', 'ThundurusIncarnate Forme', 'ElectricFlying', '580', '79', '115', '70', '125', '80', '111'], ['642', 'ThundurusTherian Forme', 'ElectricFlying', '580', '79', '105', '70', '145', '80', '101'], ['643', 'Reshiram', 'DragonFire', '680', '100', '120', '100', '150', '120', '90'], ['644', 'Zekrom', 'DragonElectric', '680', '100', '150', '120', '120', '100', '90'], ['645', 'LandorusIncarnate Forme', 'GroundFlying', '600', '89', '125', '90', '115', '80', '101'], ['645', 'LandorusTherian Forme', 'GroundFlying', '600', '89', '145', '90', '105', '80', '91'], ['646', 'Kyurem', 'DragonIce', '660', '125', '130', '90', '130', '90', '95'], ['646', 'KyuremBlack Kyurem', 'DragonIce', '700', '125', '170', '100', '120', '90', '95'], ['646', 'KyuremWhite Kyurem', 'DragonIce', '700', '125', '120', '90', '170', '100', '95'], ['647', 'KeldeoOrdinary Forme', 'WaterFighting', '580', '91', '72', '90', '129', '90', '108'], ['647', 'KeldeoResolute Forme', 'WaterFighting', '580', '91', '72', '90', '129', '90', '108'], ['648', 'MeloettaAria Forme', 'NormalPsychic', '600', '100', '77', '77', '128', '128', '90'], ['648', 'MeloettaPirouette Forme', 'NormalFighting', '600', '100', '128', '90', '77', '77', '128'], ['649', 'Genesect', 'BugSteel', '600', '71', '120', '95', '120', '95', '99'], ['650', 'Chespin', 'Grass', '313', '56', '61', '65', '48', '45', '38'], ['651', 'Quilladin', 'Grass', '405', '61', '78', '95', '56', '58', '57'], ['652', 'Chesnaught', 'GrassFighting', '530', '88', '107', '122', '74', '75', '64'], ['653', 'Fennekin', 'Fire', '307', '40', '45', '40', '62', '60', '60'], ['654', 'Braixen', 'Fire', '409', '59', '59', '58', '90', '70', '73'], ['655', 'Delphox', 'FirePsychic', '534', '75', '69', '72', '114', '100', '104'], ['656', 'Froakie', 'Water', '314', '41', '56', '40', '62', '44', '71'], ['657', 'Frogadier', 'Water', '405', '54', '63', '52', '83', '56', '97'], ['658', 'Greninja', 'WaterDark', '530', '72', '95', '67', '103', '71', '122'], ['659', 'Bunnelby', 'Normal', '237', '38', '36', '38', '32', '36', '57'], ['660', 'Diggersby', 'NormalGround', '423', '85', '56', '77', '50', '77', '78'], ['661', 'Fletchling', 'NormalFlying', '278', '45', '50', '43', '40', '38', '62'], ['662', 'Fletchinder', 'FireFlying', '382', '62', '73', '55', '56', '52', '84'], ['663', 'Talonflame', 'FireFlying', '499', '78', '81', '71', '74', '69', '126'], ['664', 'Scatterbug', 'Bug', '200', '38', '35', '40', '27', '25', '35'], ['665', 'Spewpa', 'Bug', '213', '45', '22', '60', '27', '30', '29'], ['666', 'Vivillon', 'BugFlying', '411', '80', '52', '50', '90', '50', '89'], ['667', 'Litleo', 'FireNormal', '369', '62', '50', '58', '73', '54', '72'], ['668', 'Pyroar', 'FireNormal', '507', '86', '68', '72', '109', '66', '106'], ['669', 'Flabebe', 'Fairy', '303', '44', '38', '39', '61', '79', '42'], ['670', 'Floette', 'Fairy', '371', '54', '45', '47', '75', '98', '52'], ['671', 'Florges', 'Fairy', '552', '78', '65', '68', '112', '154', '75'], ['672', 'Skiddo', 'Grass', '350', '66', '65', '48', '62', '57', '52'], ['673', 'Gogoat', 'Grass', '531', '123', '100', '62', '97', '81', '68'], ['674', 'Pancham', 'Fighting', '348', '67', '82', '62', '46', '48', '43'], ['675', 'Pangoro', 'FightingDark', '495', '95', '124', '78', '69', '71', '58'], ['676', 'Furfrou', 'Normal', '472', '75', '80', '60', '65', '90', '102'], ['677', 'Espurr', 'Psychic', '355', '62', '48', '54', '63', '60', '68'], ['678', 'MeowsticMale', 'Psychic', '466', '74', '48', '76', '83', '81', '104'], ['678', 'MeowsticFemale', 'Psychic', '466', '74', '48', '76', '83', '81', '104'], ['679', 'Honedge', 'SteelGhost', '325', '45', '80', '100', '35', '37', '28'], ['680', 'Doublade', 'SteelGhost', '448', '59', '110', '150', '45', '49', '35'], ['681', 'AegislashBlade Forme', 'SteelGhost', '520', '60', '150', '50', '150', '50', '60'], ['681', 'AegislashShield Forme', 'SteelGhost', '520', '60', '50', '150', '50', '150', '60'], ['682', 'Spritzee', 'Fairy', '341', '78', '52', '60', '63', '65', '23'], ['683', 'Aromatisse', 'Fairy', '462', '101', '72', '72', '99', '89', '29'], ['684', 'Swirlix', 'Fairy', '341', '62', '48', '66', '59', '57', '49'], ['685', 'Slurpuff', 'Fairy', '480', '82', '80', '86', '85', '75', '72'], ['686', 'Inkay', 'DarkPsychic', '288', '53', '54', '53', '37', '46', '45'], ['687', 'Malamar', 'DarkPsychic', '482', '86', '92', '88', '68', '75', '73'], ['688', 'Binacle', 'RockWater', '306', '42', '52', '67', '39', '56', '50'], ['689', 'Barbaracle', 'RockWater', '500', '72', '105', '115', '54', '86', '68'], ['690', 'Skrelp', 'PoisonWater', '320', '50', '60', '60', '60', '60', '30'], ['691', 'Dragalge', 'PoisonDragon', '494', '65', '75', '90', '97', '123', '44'], ['692', 'Clauncher', 'Water', '330', '50', '53', '62', '58', '63', '44'], ['693', 'Clawitzer', 'Water', '500', '71', '73', '88', '120', '89', '59'], ['694', 'Helioptile', 'ElectricNormal', '289', '44', '38', '33', '61', '43', '70'], ['695', 'Heliolisk', 'ElectricNormal', '481', '62', '55', '52', '109', '94', '109'], ['696', 'Tyrunt', 'RockDragon', '362', '58', '89', '77', '45', '45', '48'], ['697', 'Tyrantrum', 'RockDragon', '521', '82', '121', '119', '69', '59', '71'], ['698', 'Amaura', 'RockIce', '362', '77', '59', '50', '67', '63', '46'], ['699', 'Aurorus', 'RockIce', '521', '123', '77', '72', '99', '92', '58'], ['700', 'Sylveon', 'Fairy', '525', '95', '65', '65', '110', '130', '60'], ['701', 'Hawlucha', 'FightingFlying', '500', '78', '92', '75', '74', '63', '118'], ['702', 'Dedenne', 'ElectricFairy', '431', '67', '58', '57', '81', '67', '101'], ['703', 'Carbink', 'RockFairy', '500', '50', '50', '150', '50', '150', '50'], ['704', 'Goomy', 'Dragon', '300', '45', '50', '35', '55', '75', '40'], ['705', 'Sliggoo', 'Dragon', '452', '68', '75', '53', '83', '113', '60'], ['706', 'Goodra', 'Dragon', '600', '90', '100', '70', '110', '150', '80'], ['707', 'Klefki', 'SteelFairy', '470', '57', '80', '91', '80', '87', '75'], ['708', 'Phantump', 'GhostGrass', '309', '43', '70', '48', '50', '60', '38'], ['709', 'Trevenant', 'GhostGrass', '474', '85', '110', '76', '65', '82', '56'], ['710', 'PumpkabooAverage Size', 'GhostGrass', '335', '49', '66', '70', '44', '55', '51'], ['710', 'PumpkabooSmall Size', 'GhostGrass', '335', '44', '66', '70', '44', '55', '56'], ['710', 'PumpkabooLarge Size', 'GhostGrass', '335', '54', '66', '70', '44', '55', '46'], ['710', 'PumpkabooSuper Size', 'GhostGrass', '335', '59', '66', '70', '44', '55', '41'], ['711', 'GourgeistAverage Size', 'GhostGrass', '494', '65', '90', '122', '58', '75', '84'], ['711', 'GourgeistSmall Size', 'GhostGrass', '494', '55', '85', '122', '58', '75', '99'], ['711', 'GourgeistLarge Size', 'GhostGrass', '494', '75', '95', '122', '58', '75', '69'], ['711', 'GourgeistSuper Size', 'GhostGrass', '494', '85', '100', '122', '58', '75', '54'], ['712', 'Bergmite', 'Ice', '304', '55', '69', '85', '32', '35', '28'], ['713', 'Avalugg', 'Ice', '514', '95', '117', '184', '44', '46', '28'], ['714', 'Noibat', 'FlyingDragon', '245', '40', '30', '35', '45', '40', '55'], ['715', 'Noivern', 'FlyingDragon', '535', '85', '70', '80', '97', '80', '123'], ['716', 'Xerneas', 'Fairy', '680', '126', '131', '95', '131', '98', '99'], ['717', 'Yveltal', 'DarkFlying', '680', '126', '131', '95', '131', '98', '99'], ['718', 'Zygarde Forme', 'DragonGround', '600', '108', '100', '121', '81', '95', '95'], ['719', 'Diancie', 'RockFairy', '600', '50', '100', '150', '100', '150', '50'], ['719', 'DiancieMega Diancie', 'RockFairy', '700', '50', '160', '110', '160', '110', '110'], ['720', 'HoopaHoopa Confined', 'PsychicGhost', '600', '80', '110', '60', '150', '130', '70'], ['720', 'HoopaHoopa Unbound', 'PsychicDark', '680', '80', '160', '60', '170', '130', '80'], ['721', 'Volcanion', 'FireWater', '600', '80', '110', '120', '130', '90', '70']]\n"
     ]
    }
   ],
   "source": [
    "# remove \"\" and split ',' \n",
    "new_list1 = []\n",
    "\n",
    "for string in raw_pd:\n",
    "    noquote_ls = string.replace('\"', '')\n",
    "    no_newline = noquote_ls.replace('\\n', '')\n",
    "    split_ls = no_newline.split(',')\n",
    "    new_list1.append(split_ls)\n",
    "print new_list1"
   ]
  },
  {
   "cell_type": "code",
   "execution_count": 4,
   "metadata": {},
   "outputs": [
    {
     "name": "stdout",
     "output_type": "stream",
     "text": [
      "[['PokedexNumber', 'Name', 'Type', 'Total', 'HP', 'Attack', 'Defense', 'SpecialAttack', 'SpecialDefense', 'Speed'], [1.0, 'Bulbasaur', 'GrassPoison', 318.0, 45.0, 49.0, 49.0, 65.0, 65.0, 45.0], [2.0, 'Ivysaur', 'GrassPoison', 405.0, 60.0, 62.0, 63.0, 80.0, 80.0, 60.0], [3.0, 'Venusaur', 'GrassPoison', 525.0, 80.0, 82.0, 83.0, 100.0, 100.0, 80.0], [3.0, 'VenusaurMega Venusaur', 'GrassPoison', 625.0, 80.0, 100.0, 123.0, 122.0, 120.0, 80.0], [4.0, 'Charmander', 'Fire', 309.0, 39.0, 52.0, 43.0, 60.0, 50.0, 65.0], [5.0, 'Charmeleon', 'Fire', 405.0, 58.0, 64.0, 58.0, 80.0, 65.0, 80.0], [6.0, 'Charizard', 'FireFlying', 534.0, 78.0, 84.0, 78.0, 109.0, 85.0, 100.0], [6.0, 'CharizardMega Charizard X', 'FireDragon', 634.0, 78.0, 130.0, 111.0, 130.0, 85.0, 100.0], [6.0, 'CharizardMega Charizard Y', 'FireFlying', 634.0, 78.0, 104.0, 78.0, 159.0, 115.0, 100.0], [7.0, 'Squirtle', 'Water', 314.0, 44.0, 48.0, 65.0, 50.0, 64.0, 43.0], [8.0, 'Wartortle', 'Water', 405.0, 59.0, 63.0, 80.0, 65.0, 80.0, 58.0], [9.0, 'Blastoise', 'Water', 530.0, 79.0, 83.0, 100.0, 85.0, 105.0, 78.0], [9.0, 'BlastoiseMega Blastoise', 'Water', 630.0, 79.0, 103.0, 120.0, 135.0, 115.0, 78.0], [10.0, 'Caterpie', 'Bug', 195.0, 45.0, 30.0, 35.0, 20.0, 20.0, 45.0], [11.0, 'Metapod', 'Bug', 205.0, 50.0, 20.0, 55.0, 25.0, 25.0, 30.0], [12.0, 'Butterfree', 'BugFlying', 395.0, 60.0, 45.0, 50.0, 90.0, 80.0, 70.0], [13.0, 'Weedle', 'BugPoison', 195.0, 40.0, 35.0, 30.0, 20.0, 20.0, 50.0], [14.0, 'Kakuna', 'BugPoison', 205.0, 45.0, 25.0, 50.0, 25.0, 25.0, 35.0], [15.0, 'Beedrill', 'BugPoison', 395.0, 65.0, 90.0, 40.0, 45.0, 80.0, 75.0], [15.0, 'BeedrillMega Beedrill', 'BugPoison', 495.0, 65.0, 150.0, 40.0, 15.0, 80.0, 145.0], [16.0, 'Pidgey', 'NormalFlying', 251.0, 40.0, 45.0, 40.0, 35.0, 35.0, 56.0], [17.0, 'Pidgeotto', 'NormalFlying', 349.0, 63.0, 60.0, 55.0, 50.0, 50.0, 71.0], [18.0, 'Pidgeot', 'NormalFlying', 479.0, 83.0, 80.0, 75.0, 70.0, 70.0, 101.0], [18.0, 'PidgeotMega Pidgeot', 'NormalFlying', 579.0, 83.0, 80.0, 80.0, 135.0, 80.0, 121.0], [19.0, 'Rattata', 'Normal', 253.0, 30.0, 56.0, 35.0, 25.0, 35.0, 72.0], [20.0, 'Raticate', 'Normal', 413.0, 55.0, 81.0, 60.0, 50.0, 70.0, 97.0], [21.0, 'Spearow', 'NormalFlying', 262.0, 40.0, 60.0, 30.0, 31.0, 31.0, 70.0], [22.0, 'Fearow', 'NormalFlying', 442.0, 65.0, 90.0, 65.0, 61.0, 61.0, 100.0], [23.0, 'Ekans', 'Poison', 288.0, 35.0, 60.0, 44.0, 40.0, 54.0, 55.0], [24.0, 'Arbok', 'Poison', 438.0, 60.0, 85.0, 69.0, 65.0, 79.0, 80.0], [25.0, 'Pikachu', 'Electric', 320.0, 35.0, 55.0, 40.0, 50.0, 50.0, 90.0], [26.0, 'Raichu', 'Electric', 485.0, 60.0, 90.0, 55.0, 90.0, 80.0, 110.0], [27.0, 'Sandshrew', 'Ground', 300.0, 50.0, 75.0, 85.0, 20.0, 30.0, 40.0], [28.0, 'Sandslash', 'Ground', 450.0, 75.0, 100.0, 110.0, 45.0, 55.0, 65.0], [29.0, 'NidoranF', 'Poison', 275.0, 55.0, 47.0, 52.0, 40.0, 40.0, 41.0], [30.0, 'Nidorina', 'Poison', 365.0, 70.0, 62.0, 67.0, 55.0, 55.0, 56.0], [31.0, 'Nidoqueen', 'PoisonGround', 505.0, 90.0, 92.0, 87.0, 75.0, 85.0, 76.0], [32.0, 'NidoranM', 'Poison', 273.0, 46.0, 57.0, 40.0, 40.0, 40.0, 50.0], [33.0, 'Nidorino', 'Poison', 365.0, 61.0, 72.0, 57.0, 55.0, 55.0, 65.0], [34.0, 'Nidoking', 'PoisonGround', 505.0, 81.0, 102.0, 77.0, 85.0, 75.0, 85.0], [35.0, 'Clefairy', 'Fairy', 323.0, 70.0, 45.0, 48.0, 60.0, 65.0, 35.0], [36.0, 'Clefable', 'Fairy', 483.0, 95.0, 70.0, 73.0, 95.0, 90.0, 60.0], [37.0, 'Vulpix', 'Fire', 299.0, 38.0, 41.0, 40.0, 50.0, 65.0, 65.0], [38.0, 'Ninetales', 'Fire', 505.0, 73.0, 76.0, 75.0, 81.0, 100.0, 100.0], [39.0, 'Jigglypuff', 'NormalFairy', 270.0, 115.0, 45.0, 20.0, 45.0, 25.0, 20.0], [40.0, 'Wigglytuff', 'NormalFairy', 435.0, 140.0, 70.0, 45.0, 85.0, 50.0, 45.0], [41.0, 'Zubat', 'PoisonFlying', 245.0, 40.0, 45.0, 35.0, 30.0, 40.0, 55.0], [42.0, 'Golbat', 'PoisonFlying', 455.0, 75.0, 80.0, 70.0, 65.0, 75.0, 90.0], [43.0, 'Oddish', 'GrassPoison', 320.0, 45.0, 50.0, 55.0, 75.0, 65.0, 30.0], [44.0, 'Gloom', 'GrassPoison', 395.0, 60.0, 65.0, 70.0, 85.0, 75.0, 40.0], [45.0, 'Vileplume', 'GrassPoison', 490.0, 75.0, 80.0, 85.0, 110.0, 90.0, 50.0], [46.0, 'Paras', 'BugGrass', 285.0, 35.0, 70.0, 55.0, 45.0, 55.0, 25.0], [47.0, 'Parasect', 'BugGrass', 405.0, 60.0, 95.0, 80.0, 60.0, 80.0, 30.0], [48.0, 'Venonat', 'BugPoison', 305.0, 60.0, 55.0, 50.0, 40.0, 55.0, 45.0], [49.0, 'Venomoth', 'BugPoison', 450.0, 70.0, 65.0, 60.0, 90.0, 75.0, 90.0], [50.0, 'Diglett', 'Ground', 265.0, 10.0, 55.0, 25.0, 35.0, 45.0, 95.0], [51.0, 'Dugtrio', 'Ground', 405.0, 35.0, 80.0, 50.0, 50.0, 70.0, 120.0], [52.0, 'Meowth', 'Normal', 290.0, 40.0, 45.0, 35.0, 40.0, 40.0, 90.0], [53.0, 'Persian', 'Normal', 440.0, 65.0, 70.0, 60.0, 65.0, 65.0, 115.0], [54.0, 'Psyduck', 'Water', 320.0, 50.0, 52.0, 48.0, 65.0, 50.0, 55.0], [55.0, 'Golduck', 'Water', 500.0, 80.0, 82.0, 78.0, 95.0, 80.0, 85.0], [56.0, 'Mankey', 'Fighting', 305.0, 40.0, 80.0, 35.0, 35.0, 45.0, 70.0], [57.0, 'Primeape', 'Fighting', 455.0, 65.0, 105.0, 60.0, 60.0, 70.0, 95.0], [58.0, 'Growlithe', 'Fire', 350.0, 55.0, 70.0, 45.0, 70.0, 50.0, 60.0], [59.0, 'Arcanine', 'Fire', 555.0, 90.0, 110.0, 80.0, 100.0, 80.0, 95.0], [60.0, 'Poliwag', 'Water', 300.0, 40.0, 50.0, 40.0, 40.0, 40.0, 90.0], [61.0, 'Poliwhirl', 'Water', 385.0, 65.0, 65.0, 65.0, 50.0, 50.0, 90.0], [62.0, 'Poliwrath', 'WaterFighting', 510.0, 90.0, 95.0, 95.0, 70.0, 90.0, 70.0], [63.0, 'Abra', 'Psychic', 310.0, 25.0, 20.0, 15.0, 105.0, 55.0, 90.0], [64.0, 'Kadabra', 'Psychic', 400.0, 40.0, 35.0, 30.0, 120.0, 70.0, 105.0], [65.0, 'Alakazam', 'Psychic', 500.0, 55.0, 50.0, 45.0, 135.0, 95.0, 120.0], [65.0, 'AlakazamMega Alakazam', 'Psychic', 590.0, 55.0, 50.0, 65.0, 175.0, 95.0, 150.0], [66.0, 'Machop', 'Fighting', 305.0, 70.0, 80.0, 50.0, 35.0, 35.0, 35.0], [67.0, 'Machoke', 'Fighting', 405.0, 80.0, 100.0, 70.0, 50.0, 60.0, 45.0], [68.0, 'Machamp', 'Fighting', 505.0, 90.0, 130.0, 80.0, 65.0, 85.0, 55.0], [69.0, 'Bellsprout', 'GrassPoison', 300.0, 50.0, 75.0, 35.0, 70.0, 30.0, 40.0], [70.0, 'Weepinbell', 'GrassPoison', 390.0, 65.0, 90.0, 50.0, 85.0, 45.0, 55.0], [71.0, 'Victreebel', 'GrassPoison', 490.0, 80.0, 105.0, 65.0, 100.0, 70.0, 70.0], [72.0, 'Tentacool', 'WaterPoison', 335.0, 40.0, 40.0, 35.0, 50.0, 100.0, 70.0], [73.0, 'Tentacruel', 'WaterPoison', 515.0, 80.0, 70.0, 65.0, 80.0, 120.0, 100.0], [74.0, 'Geodude', 'RockGround', 300.0, 40.0, 80.0, 100.0, 30.0, 30.0, 20.0], [75.0, 'Graveler', 'RockGround', 390.0, 55.0, 95.0, 115.0, 45.0, 45.0, 35.0], [76.0, 'Golem', 'RockGround', 495.0, 80.0, 120.0, 130.0, 55.0, 65.0, 45.0], [77.0, 'Ponyta', 'Fire', 410.0, 50.0, 85.0, 55.0, 65.0, 65.0, 90.0], [78.0, 'Rapidash', 'Fire', 500.0, 65.0, 100.0, 70.0, 80.0, 80.0, 105.0], [79.0, 'Slowpoke', 'WaterPsychic', 315.0, 90.0, 65.0, 65.0, 40.0, 40.0, 15.0], [80.0, 'Slowbro', 'WaterPsychic', 490.0, 95.0, 75.0, 110.0, 100.0, 80.0, 30.0], [80.0, 'SlowbroMega Slowbro', 'WaterPsychic', 590.0, 95.0, 75.0, 180.0, 130.0, 80.0, 30.0], [81.0, 'Magnemite', 'ElectricSteel', 325.0, 25.0, 35.0, 70.0, 95.0, 55.0, 45.0], [82.0, 'Magneton', 'ElectricSteel', 465.0, 50.0, 60.0, 95.0, 120.0, 70.0, 70.0], [83.0, \"Farfetch'd\", 'NormalFlying', 352.0, 52.0, 65.0, 55.0, 58.0, 62.0, 60.0], [84.0, 'Doduo', 'NormalFlying', 310.0, 35.0, 85.0, 45.0, 35.0, 35.0, 75.0], [85.0, 'Dodrio', 'NormalFlying', 460.0, 60.0, 110.0, 70.0, 60.0, 60.0, 100.0], [86.0, 'Seel', 'Water', 325.0, 65.0, 45.0, 55.0, 45.0, 70.0, 45.0], [87.0, 'Dewgong', 'WaterIce', 475.0, 90.0, 70.0, 80.0, 70.0, 95.0, 70.0], [88.0, 'Grimer', 'Poison', 325.0, 80.0, 80.0, 50.0, 40.0, 50.0, 25.0], [89.0, 'Muk', 'Poison', 500.0, 105.0, 105.0, 75.0, 65.0, 100.0, 50.0], [90.0, 'Shellder', 'Water', 305.0, 30.0, 65.0, 100.0, 45.0, 25.0, 40.0], [91.0, 'Cloyster', 'WaterIce', 525.0, 50.0, 95.0, 180.0, 85.0, 45.0, 70.0], [92.0, 'Gastly', 'GhostPoison', 310.0, 30.0, 35.0, 30.0, 100.0, 35.0, 80.0], [93.0, 'Haunter', 'GhostPoison', 405.0, 45.0, 50.0, 45.0, 115.0, 55.0, 95.0], [94.0, 'Gengar', 'GhostPoison', 500.0, 60.0, 65.0, 60.0, 130.0, 75.0, 110.0], [94.0, 'GengarMega Gengar', 'GhostPoison', 600.0, 60.0, 65.0, 80.0, 170.0, 95.0, 130.0], [95.0, 'Onix', 'RockGround', 385.0, 35.0, 45.0, 160.0, 30.0, 45.0, 70.0], [96.0, 'Drowzee', 'Psychic', 328.0, 60.0, 48.0, 45.0, 43.0, 90.0, 42.0], [97.0, 'Hypno', 'Psychic', 483.0, 85.0, 73.0, 70.0, 73.0, 115.0, 67.0], [98.0, 'Krabby', 'Water', 325.0, 30.0, 105.0, 90.0, 25.0, 25.0, 50.0], [99.0, 'Kingler', 'Water', 475.0, 55.0, 130.0, 115.0, 50.0, 50.0, 75.0], [100.0, 'Voltorb', 'Electric', 330.0, 40.0, 30.0, 50.0, 55.0, 55.0, 100.0], [101.0, 'Electrode', 'Electric', 480.0, 60.0, 50.0, 70.0, 80.0, 80.0, 140.0], [102.0, 'Exeggcute', 'GrassPsychic', 325.0, 60.0, 40.0, 80.0, 60.0, 45.0, 40.0], [103.0, 'Exeggutor', 'GrassPsychic', 520.0, 95.0, 95.0, 85.0, 125.0, 65.0, 55.0], [104.0, 'Cubone', 'Ground', 320.0, 50.0, 50.0, 95.0, 40.0, 50.0, 35.0], [105.0, 'Marowak', 'Ground', 425.0, 60.0, 80.0, 110.0, 50.0, 80.0, 45.0], [106.0, 'Hitmonlee', 'Fighting', 455.0, 50.0, 120.0, 53.0, 35.0, 110.0, 87.0], [107.0, 'Hitmonchan', 'Fighting', 455.0, 50.0, 105.0, 79.0, 35.0, 110.0, 76.0], [108.0, 'Lickitung', 'Normal', 385.0, 90.0, 55.0, 75.0, 60.0, 75.0, 30.0], [109.0, 'Koffing', 'Poison', 340.0, 40.0, 65.0, 95.0, 60.0, 45.0, 35.0], [110.0, 'Weezing', 'Poison', 490.0, 65.0, 90.0, 120.0, 85.0, 70.0, 60.0], [111.0, 'Rhyhorn', 'GroundRock', 345.0, 80.0, 85.0, 95.0, 30.0, 30.0, 25.0], [112.0, 'Rhydon', 'GroundRock', 485.0, 105.0, 130.0, 120.0, 45.0, 45.0, 40.0], [113.0, 'Chansey', 'Normal', 450.0, 250.0, 5.0, 5.0, 35.0, 105.0, 50.0], [114.0, 'Tangela', 'Grass', 435.0, 65.0, 55.0, 115.0, 100.0, 40.0, 60.0], [115.0, 'Kangaskhan', 'Normal', 490.0, 105.0, 95.0, 80.0, 40.0, 80.0, 90.0], [115.0, 'KangaskhanMega Kangaskhan', 'Normal', 590.0, 105.0, 125.0, 100.0, 60.0, 100.0, 100.0], [116.0, 'Horsea', 'Water', 295.0, 30.0, 40.0, 70.0, 70.0, 25.0, 60.0], [117.0, 'Seadra', 'Water', 440.0, 55.0, 65.0, 95.0, 95.0, 45.0, 85.0], [118.0, 'Goldeen', 'Water', 320.0, 45.0, 67.0, 60.0, 35.0, 50.0, 63.0], [119.0, 'Seaking', 'Water', 450.0, 80.0, 92.0, 65.0, 65.0, 80.0, 68.0], [120.0, 'Staryu', 'Water', 340.0, 30.0, 45.0, 55.0, 70.0, 55.0, 85.0], [121.0, 'Starmie', 'WaterPsychic', 520.0, 60.0, 75.0, 85.0, 100.0, 85.0, 115.0], [122.0, 'Mr. Mime', 'PsychicFairy', 460.0, 40.0, 45.0, 65.0, 100.0, 120.0, 90.0], [123.0, 'Scyther', 'BugFlying', 500.0, 70.0, 110.0, 80.0, 55.0, 80.0, 105.0], [124.0, 'Jynx', 'IcePsychic', 455.0, 65.0, 50.0, 35.0, 115.0, 95.0, 95.0], [125.0, 'Electabuzz', 'Electric', 490.0, 65.0, 83.0, 57.0, 95.0, 85.0, 105.0], [126.0, 'Magmar', 'Fire', 495.0, 65.0, 95.0, 57.0, 100.0, 85.0, 93.0], [127.0, 'Pinsir', 'Bug', 500.0, 65.0, 125.0, 100.0, 55.0, 70.0, 85.0], [127.0, 'PinsirMega Pinsir', 'BugFlying', 600.0, 65.0, 155.0, 120.0, 65.0, 90.0, 105.0], [128.0, 'Tauros', 'Normal', 490.0, 75.0, 100.0, 95.0, 40.0, 70.0, 110.0], [129.0, 'Magikarp', 'Water', 200.0, 20.0, 10.0, 55.0, 15.0, 20.0, 80.0], [130.0, 'Gyarados', 'WaterFlying', 540.0, 95.0, 125.0, 79.0, 60.0, 100.0, 81.0], [130.0, 'GyaradosMega Gyarados', 'WaterDark', 640.0, 95.0, 155.0, 109.0, 70.0, 130.0, 81.0], [131.0, 'Lapras', 'WaterIce', 535.0, 130.0, 85.0, 80.0, 85.0, 95.0, 60.0], [132.0, 'Ditto', 'Normal', 288.0, 48.0, 48.0, 48.0, 48.0, 48.0, 48.0], [133.0, 'Eevee', 'Normal', 325.0, 55.0, 55.0, 50.0, 45.0, 65.0, 55.0], [134.0, 'Vaporeon', 'Water', 525.0, 130.0, 65.0, 60.0, 110.0, 95.0, 65.0], [135.0, 'Jolteon', 'Electric', 525.0, 65.0, 65.0, 60.0, 110.0, 95.0, 130.0], [136.0, 'Flareon', 'Fire', 525.0, 65.0, 130.0, 60.0, 95.0, 110.0, 65.0], [137.0, 'Porygon', 'Normal', 395.0, 65.0, 60.0, 70.0, 85.0, 75.0, 40.0], [138.0, 'Omanyte', 'RockWater', 355.0, 35.0, 40.0, 100.0, 90.0, 55.0, 35.0], [139.0, 'Omastar', 'RockWater', 495.0, 70.0, 60.0, 125.0, 115.0, 70.0, 55.0], [140.0, 'Kabuto', 'RockWater', 355.0, 30.0, 80.0, 90.0, 55.0, 45.0, 55.0], [141.0, 'Kabutops', 'RockWater', 495.0, 60.0, 115.0, 105.0, 65.0, 70.0, 80.0], [142.0, 'Aerodactyl', 'RockFlying', 515.0, 80.0, 105.0, 65.0, 60.0, 75.0, 130.0], [142.0, 'AerodactylMega Aerodactyl', 'RockFlying', 615.0, 80.0, 135.0, 85.0, 70.0, 95.0, 150.0], [143.0, 'Snorlax', 'Normal', 540.0, 160.0, 110.0, 65.0, 65.0, 110.0, 30.0], [144.0, 'Articuno', 'IceFlying', 580.0, 90.0, 85.0, 100.0, 95.0, 125.0, 85.0], [145.0, 'Zapdos', 'ElectricFlying', 580.0, 90.0, 90.0, 85.0, 125.0, 90.0, 100.0], [146.0, 'Moltres', 'FireFlying', 580.0, 90.0, 100.0, 90.0, 125.0, 85.0, 90.0], [147.0, 'Dratini', 'Dragon', 300.0, 41.0, 64.0, 45.0, 50.0, 50.0, 50.0], [148.0, 'Dragonair', 'Dragon', 420.0, 61.0, 84.0, 65.0, 70.0, 70.0, 70.0], [149.0, 'Dragonite', 'DragonFlying', 600.0, 91.0, 134.0, 95.0, 100.0, 100.0, 80.0], [150.0, 'Mewtwo', 'Psychic', 680.0, 106.0, 110.0, 90.0, 154.0, 90.0, 130.0], [150.0, 'MewtwoMega Mewtwo X', 'PsychicFighting', 800.0, 126.0, 190.0, 100.0, 154.0, 100.0, 130.0], [150.0, 'MewtwoMega Mewtwo Y', 'Psychic', 780.0, 106.0, 150.0, 70.0, 194.0, 120.0, 140.0], [151.0, 'Mew', 'Psychic', 600.0, 100.0, 100.0, 100.0, 100.0, 100.0, 100.0], [152.0, 'Chikorita', 'Grass', 318.0, 45.0, 49.0, 65.0, 49.0, 65.0, 45.0], [153.0, 'Bayleef', 'Grass', 405.0, 60.0, 62.0, 80.0, 63.0, 80.0, 60.0], [154.0, 'Meganium', 'Grass', 525.0, 80.0, 82.0, 100.0, 83.0, 100.0, 80.0], [155.0, 'Cyndaquil', 'Fire', 309.0, 39.0, 52.0, 43.0, 60.0, 50.0, 65.0], [156.0, 'Quilava', 'Fire', 405.0, 58.0, 64.0, 58.0, 80.0, 65.0, 80.0], [157.0, 'Typhlosion', 'Fire', 534.0, 78.0, 84.0, 78.0, 109.0, 85.0, 100.0], [158.0, 'Totodile', 'Water', 314.0, 50.0, 65.0, 64.0, 44.0, 48.0, 43.0], [159.0, 'Croconaw', 'Water', 405.0, 65.0, 80.0, 80.0, 59.0, 63.0, 58.0], [160.0, 'Feraligatr', 'Water', 530.0, 85.0, 105.0, 100.0, 79.0, 83.0, 78.0], [161.0, 'Sentret', 'Normal', 215.0, 35.0, 46.0, 34.0, 35.0, 45.0, 20.0], [162.0, 'Furret', 'Normal', 415.0, 85.0, 76.0, 64.0, 45.0, 55.0, 90.0], [163.0, 'Hoothoot', 'NormalFlying', 262.0, 60.0, 30.0, 30.0, 36.0, 56.0, 50.0], [164.0, 'Noctowl', 'NormalFlying', 442.0, 100.0, 50.0, 50.0, 76.0, 96.0, 70.0], [165.0, 'Ledyba', 'BugFlying', 265.0, 40.0, 20.0, 30.0, 40.0, 80.0, 55.0], [166.0, 'Ledian', 'BugFlying', 390.0, 55.0, 35.0, 50.0, 55.0, 110.0, 85.0], [167.0, 'Spinarak', 'BugPoison', 250.0, 40.0, 60.0, 40.0, 40.0, 40.0, 30.0], [168.0, 'Ariados', 'BugPoison', 390.0, 70.0, 90.0, 70.0, 60.0, 60.0, 40.0], [169.0, 'Crobat', 'PoisonFlying', 535.0, 85.0, 90.0, 80.0, 70.0, 80.0, 130.0], [170.0, 'Chinchou', 'WaterElectric', 330.0, 75.0, 38.0, 38.0, 56.0, 56.0, 67.0], [171.0, 'Lanturn', 'WaterElectric', 460.0, 125.0, 58.0, 58.0, 76.0, 76.0, 67.0], [172.0, 'Pichu', 'Electric', 205.0, 20.0, 40.0, 15.0, 35.0, 35.0, 60.0], [173.0, 'Cleffa', 'Fairy', 218.0, 50.0, 25.0, 28.0, 45.0, 55.0, 15.0], [174.0, 'Igglybuff', 'NormalFairy', 210.0, 90.0, 30.0, 15.0, 40.0, 20.0, 15.0], [175.0, 'Togepi', 'Fairy', 245.0, 35.0, 20.0, 65.0, 40.0, 65.0, 20.0], [176.0, 'Togetic', 'FairyFlying', 405.0, 55.0, 40.0, 85.0, 80.0, 105.0, 40.0], [177.0, 'Natu', 'PsychicFlying', 320.0, 40.0, 50.0, 45.0, 70.0, 45.0, 70.0], [178.0, 'Xatu', 'PsychicFlying', 470.0, 65.0, 75.0, 70.0, 95.0, 70.0, 95.0], [179.0, 'Mareep', 'Electric', 280.0, 55.0, 40.0, 40.0, 65.0, 45.0, 35.0], [180.0, 'Flaaffy', 'Electric', 365.0, 70.0, 55.0, 55.0, 80.0, 60.0, 45.0], [181.0, 'Ampharos', 'Electric', 510.0, 90.0, 75.0, 85.0, 115.0, 90.0, 55.0], [181.0, 'AmpharosMega Ampharos', 'ElectricDragon', 610.0, 90.0, 95.0, 105.0, 165.0, 110.0, 45.0], [182.0, 'Bellossom', 'Grass', 490.0, 75.0, 80.0, 95.0, 90.0, 100.0, 50.0], [183.0, 'Marill', 'WaterFairy', 250.0, 70.0, 20.0, 50.0, 20.0, 50.0, 40.0], [184.0, 'Azumarill', 'WaterFairy', 420.0, 100.0, 50.0, 80.0, 60.0, 80.0, 50.0], [185.0, 'Sudowoodo', 'Rock', 410.0, 70.0, 100.0, 115.0, 30.0, 65.0, 30.0], [186.0, 'Politoed', 'Water', 500.0, 90.0, 75.0, 75.0, 90.0, 100.0, 70.0], [187.0, 'Hoppip', 'GrassFlying', 250.0, 35.0, 35.0, 40.0, 35.0, 55.0, 50.0], [188.0, 'Skiploom', 'GrassFlying', 340.0, 55.0, 45.0, 50.0, 45.0, 65.0, 80.0], [189.0, 'Jumpluff', 'GrassFlying', 460.0, 75.0, 55.0, 70.0, 55.0, 95.0, 110.0], [190.0, 'Aipom', 'Normal', 360.0, 55.0, 70.0, 55.0, 40.0, 55.0, 85.0], [191.0, 'Sunkern', 'Grass', 180.0, 30.0, 30.0, 30.0, 30.0, 30.0, 30.0], [192.0, 'Sunflora', 'Grass', 425.0, 75.0, 75.0, 55.0, 105.0, 85.0, 30.0], [193.0, 'Yanma', 'BugFlying', 390.0, 65.0, 65.0, 45.0, 75.0, 45.0, 95.0], [194.0, 'Wooper', 'WaterGround', 210.0, 55.0, 45.0, 45.0, 25.0, 25.0, 15.0], [195.0, 'Quagsire', 'WaterGround', 430.0, 95.0, 85.0, 85.0, 65.0, 65.0, 35.0], [196.0, 'Espeon', 'Psychic', 525.0, 65.0, 65.0, 60.0, 130.0, 95.0, 110.0], [197.0, 'Umbreon', 'Dark', 525.0, 95.0, 65.0, 110.0, 60.0, 130.0, 65.0], [198.0, 'Murkrow', 'DarkFlying', 405.0, 60.0, 85.0, 42.0, 85.0, 42.0, 91.0], [199.0, 'Slowking', 'WaterPsychic', 490.0, 95.0, 75.0, 80.0, 100.0, 110.0, 30.0], [200.0, 'Misdreavus', 'Ghost', 435.0, 60.0, 60.0, 60.0, 85.0, 85.0, 85.0], [201.0, 'Unown', 'Psychic', 336.0, 48.0, 72.0, 48.0, 72.0, 48.0, 48.0], [202.0, 'Wobbuffet', 'Psychic', 405.0, 190.0, 33.0, 58.0, 33.0, 58.0, 33.0], [203.0, 'Girafarig', 'NormalPsychic', 455.0, 70.0, 80.0, 65.0, 90.0, 65.0, 85.0], [204.0, 'Pineco', 'Bug', 290.0, 50.0, 65.0, 90.0, 35.0, 35.0, 15.0], [205.0, 'Forretress', 'BugSteel', 465.0, 75.0, 90.0, 140.0, 60.0, 60.0, 40.0], [206.0, 'Dunsparce', 'Normal', 415.0, 100.0, 70.0, 70.0, 65.0, 65.0, 45.0], [207.0, 'Gligar', 'GroundFlying', 430.0, 65.0, 75.0, 105.0, 35.0, 65.0, 85.0], [208.0, 'Steelix', 'SteelGround', 510.0, 75.0, 85.0, 200.0, 55.0, 65.0, 30.0], [208.0, 'SteelixMega Steelix', 'SteelGround', 610.0, 75.0, 125.0, 230.0, 55.0, 95.0, 30.0], [209.0, 'Snubbull', 'Fairy', 300.0, 60.0, 80.0, 50.0, 40.0, 40.0, 30.0], [210.0, 'Granbull', 'Fairy', 450.0, 90.0, 120.0, 75.0, 60.0, 60.0, 45.0], [211.0, 'Qwilfish', 'WaterPoison', 430.0, 65.0, 95.0, 75.0, 55.0, 55.0, 85.0], [212.0, 'Scizor', 'BugSteel', 500.0, 70.0, 130.0, 100.0, 55.0, 80.0, 65.0], [212.0, 'ScizorMega Scizor', 'BugSteel', 600.0, 70.0, 150.0, 140.0, 65.0, 100.0, 75.0], [213.0, 'Shuckle', 'BugRock', 505.0, 20.0, 10.0, 230.0, 10.0, 230.0, 5.0], [214.0, 'Heracross', 'BugFighting', 500.0, 80.0, 125.0, 75.0, 40.0, 95.0, 85.0], [214.0, 'HeracrossMega Heracross', 'BugFighting', 600.0, 80.0, 185.0, 115.0, 40.0, 105.0, 75.0], [215.0, 'Sneasel', 'DarkIce', 430.0, 55.0, 95.0, 55.0, 35.0, 75.0, 115.0], [216.0, 'Teddiursa', 'Normal', 330.0, 60.0, 80.0, 50.0, 50.0, 50.0, 40.0], [217.0, 'Ursaring', 'Normal', 500.0, 90.0, 130.0, 75.0, 75.0, 75.0, 55.0], [218.0, 'Slugma', 'Fire', 250.0, 40.0, 40.0, 40.0, 70.0, 40.0, 20.0], [219.0, 'Magcargo', 'FireRock', 410.0, 50.0, 50.0, 120.0, 80.0, 80.0, 30.0], [220.0, 'Swinub', 'IceGround', 250.0, 50.0, 50.0, 40.0, 30.0, 30.0, 50.0], [221.0, 'Piloswine', 'IceGround', 450.0, 100.0, 100.0, 80.0, 60.0, 60.0, 50.0], [222.0, 'Corsola', 'WaterRock', 380.0, 55.0, 55.0, 85.0, 65.0, 85.0, 35.0], [223.0, 'Remoraid', 'Water', 300.0, 35.0, 65.0, 35.0, 65.0, 35.0, 65.0], [224.0, 'Octillery', 'Water', 480.0, 75.0, 105.0, 75.0, 105.0, 75.0, 45.0], [225.0, 'Delibird', 'IceFlying', 330.0, 45.0, 55.0, 45.0, 65.0, 45.0, 75.0], [226.0, 'Mantine', 'WaterFlying', 465.0, 65.0, 40.0, 70.0, 80.0, 140.0, 70.0], [227.0, 'Skarmory', 'SteelFlying', 465.0, 65.0, 80.0, 140.0, 40.0, 70.0, 70.0], [228.0, 'Houndour', 'DarkFire', 330.0, 45.0, 60.0, 30.0, 80.0, 50.0, 65.0], [229.0, 'Houndoom', 'DarkFire', 500.0, 75.0, 90.0, 50.0, 110.0, 80.0, 95.0], [229.0, 'HoundoomMega Houndoom', 'DarkFire', 600.0, 75.0, 90.0, 90.0, 140.0, 90.0, 115.0], [230.0, 'Kingdra', 'WaterDragon', 540.0, 75.0, 95.0, 95.0, 95.0, 95.0, 85.0], [231.0, 'Phanpy', 'Ground', 330.0, 90.0, 60.0, 60.0, 40.0, 40.0, 40.0], [232.0, 'Donphan', 'Ground', 500.0, 90.0, 120.0, 120.0, 60.0, 60.0, 50.0], [233.0, 'Porygon2', 'Normal', 515.0, 85.0, 80.0, 90.0, 105.0, 95.0, 60.0], [234.0, 'Stantler', 'Normal', 465.0, 73.0, 95.0, 62.0, 85.0, 65.0, 85.0], [235.0, 'Smeargle', 'Normal', 250.0, 55.0, 20.0, 35.0, 20.0, 45.0, 75.0], [236.0, 'Tyrogue', 'Fighting', 210.0, 35.0, 35.0, 35.0, 35.0, 35.0, 35.0], [237.0, 'Hitmontop', 'Fighting', 455.0, 50.0, 95.0, 95.0, 35.0, 110.0, 70.0], [238.0, 'Smoochum', 'IcePsychic', 305.0, 45.0, 30.0, 15.0, 85.0, 65.0, 65.0], [239.0, 'Elekid', 'Electric', 360.0, 45.0, 63.0, 37.0, 65.0, 55.0, 95.0], [240.0, 'Magby', 'Fire', 365.0, 45.0, 75.0, 37.0, 70.0, 55.0, 83.0], [241.0, 'Miltank', 'Normal', 490.0, 95.0, 80.0, 105.0, 40.0, 70.0, 100.0], [242.0, 'Blissey', 'Normal', 540.0, 255.0, 10.0, 10.0, 75.0, 135.0, 55.0], [243.0, 'Raikou', 'Electric', 580.0, 90.0, 85.0, 75.0, 115.0, 100.0, 115.0], [244.0, 'Entei', 'Fire', 580.0, 115.0, 115.0, 85.0, 90.0, 75.0, 100.0], [245.0, 'Suicune', 'Water', 580.0, 100.0, 75.0, 115.0, 90.0, 115.0, 85.0], [246.0, 'Larvitar', 'RockGround', 300.0, 50.0, 64.0, 50.0, 45.0, 50.0, 41.0], [247.0, 'Pupitar', 'RockGround', 410.0, 70.0, 84.0, 70.0, 65.0, 70.0, 51.0], [248.0, 'Tyranitar', 'RockDark', 600.0, 100.0, 134.0, 110.0, 95.0, 100.0, 61.0], [248.0, 'TyranitarMega Tyranitar', 'RockDark', 700.0, 100.0, 164.0, 150.0, 95.0, 120.0, 71.0], [249.0, 'Lugia', 'PsychicFlying', 680.0, 106.0, 90.0, 130.0, 90.0, 154.0, 110.0], [250.0, 'Ho-oh', 'FireFlying', 680.0, 106.0, 130.0, 90.0, 110.0, 154.0, 90.0], [251.0, 'Celebi', 'PsychicGrass', 600.0, 100.0, 100.0, 100.0, 100.0, 100.0, 100.0], [252.0, 'Treecko', 'Grass', 310.0, 40.0, 45.0, 35.0, 65.0, 55.0, 70.0], [253.0, 'Grovyle', 'Grass', 405.0, 50.0, 65.0, 45.0, 85.0, 65.0, 95.0], [254.0, 'Sceptile', 'Grass', 530.0, 70.0, 85.0, 65.0, 105.0, 85.0, 120.0], [254.0, 'SceptileMega Sceptile', 'GrassDragon', 630.0, 70.0, 110.0, 75.0, 145.0, 85.0, 145.0], [255.0, 'Torchic', 'Fire', 310.0, 45.0, 60.0, 40.0, 70.0, 50.0, 45.0], [256.0, 'Combusken', 'FireFighting', 405.0, 60.0, 85.0, 60.0, 85.0, 60.0, 55.0], [257.0, 'Blaziken', 'FireFighting', 530.0, 80.0, 120.0, 70.0, 110.0, 70.0, 80.0], [257.0, 'BlazikenMega Blaziken', 'FireFighting', 630.0, 80.0, 160.0, 80.0, 130.0, 80.0, 100.0], [258.0, 'Mudkip', 'Water', 310.0, 50.0, 70.0, 50.0, 50.0, 50.0, 40.0], [259.0, 'Marshtomp', 'WaterGround', 405.0, 70.0, 85.0, 70.0, 60.0, 70.0, 50.0], [260.0, 'Swampert', 'WaterGround', 535.0, 100.0, 110.0, 90.0, 85.0, 90.0, 60.0], [260.0, 'SwampertMega Swampert', 'WaterGround', 635.0, 100.0, 150.0, 110.0, 95.0, 110.0, 70.0], [261.0, 'Poochyena', 'Dark', 220.0, 35.0, 55.0, 35.0, 30.0, 30.0, 35.0], [262.0, 'Mightyena', 'Dark', 420.0, 70.0, 90.0, 70.0, 60.0, 60.0, 70.0], [263.0, 'Zigzagoon', 'Normal', 240.0, 38.0, 30.0, 41.0, 30.0, 41.0, 60.0], [264.0, 'Linoone', 'Normal', 420.0, 78.0, 70.0, 61.0, 50.0, 61.0, 100.0], [265.0, 'Wurmple', 'Bug', 195.0, 45.0, 45.0, 35.0, 20.0, 30.0, 20.0], [266.0, 'Silcoon', 'Bug', 205.0, 50.0, 35.0, 55.0, 25.0, 25.0, 15.0], [267.0, 'Beautifly', 'BugFlying', 395.0, 60.0, 70.0, 50.0, 100.0, 50.0, 65.0], [268.0, 'Cascoon', 'Bug', 205.0, 50.0, 35.0, 55.0, 25.0, 25.0, 15.0], [269.0, 'Dustox', 'BugPoison', 385.0, 60.0, 50.0, 70.0, 50.0, 90.0, 65.0], [270.0, 'Lotad', 'WaterGrass', 220.0, 40.0, 30.0, 30.0, 40.0, 50.0, 30.0], [271.0, 'Lombre', 'WaterGrass', 340.0, 60.0, 50.0, 50.0, 60.0, 70.0, 50.0], [272.0, 'Ludicolo', 'WaterGrass', 480.0, 80.0, 70.0, 70.0, 90.0, 100.0, 70.0], [273.0, 'Seedot', 'Grass', 220.0, 40.0, 40.0, 50.0, 30.0, 30.0, 30.0], [274.0, 'Nuzleaf', 'GrassDark', 340.0, 70.0, 70.0, 40.0, 60.0, 40.0, 60.0], [275.0, 'Shiftry', 'GrassDark', 480.0, 90.0, 100.0, 60.0, 90.0, 60.0, 80.0], [276.0, 'Taillow', 'NormalFlying', 270.0, 40.0, 55.0, 30.0, 30.0, 30.0, 85.0], [277.0, 'Swellow', 'NormalFlying', 430.0, 60.0, 85.0, 60.0, 50.0, 50.0, 125.0], [278.0, 'Wingull', 'WaterFlying', 270.0, 40.0, 30.0, 30.0, 55.0, 30.0, 85.0], [279.0, 'Pelipper', 'WaterFlying', 430.0, 60.0, 50.0, 100.0, 85.0, 70.0, 65.0], [280.0, 'Ralts', 'PsychicFairy', 198.0, 28.0, 25.0, 25.0, 45.0, 35.0, 40.0], [281.0, 'Kirlia', 'PsychicFairy', 278.0, 38.0, 35.0, 35.0, 65.0, 55.0, 50.0], [282.0, 'Gardevoir', 'PsychicFairy', 518.0, 68.0, 65.0, 65.0, 125.0, 115.0, 80.0], [282.0, 'GardevoirMega Gardevoir', 'PsychicFairy', 618.0, 68.0, 85.0, 65.0, 165.0, 135.0, 100.0], [283.0, 'Surskit', 'BugWater', 269.0, 40.0, 30.0, 32.0, 50.0, 52.0, 65.0], [284.0, 'Masquerain', 'BugFlying', 414.0, 70.0, 60.0, 62.0, 80.0, 82.0, 60.0], [285.0, 'Shroomish', 'Grass', 295.0, 60.0, 40.0, 60.0, 40.0, 60.0, 35.0], [286.0, 'Breloom', 'GrassFighting', 460.0, 60.0, 130.0, 80.0, 60.0, 60.0, 70.0], [287.0, 'Slakoth', 'Normal', 280.0, 60.0, 60.0, 60.0, 35.0, 35.0, 30.0], [288.0, 'Vigoroth', 'Normal', 440.0, 80.0, 80.0, 80.0, 55.0, 55.0, 90.0], [289.0, 'Slaking', 'Normal', 670.0, 150.0, 160.0, 100.0, 95.0, 65.0, 100.0], [290.0, 'Nincada', 'BugGround', 266.0, 31.0, 45.0, 90.0, 30.0, 30.0, 40.0], [291.0, 'Ninjask', 'BugFlying', 456.0, 61.0, 90.0, 45.0, 50.0, 50.0, 160.0], [292.0, 'Shedinja', 'BugGhost', 236.0, 1.0, 90.0, 45.0, 30.0, 30.0, 40.0], [293.0, 'Whismur', 'Normal', 240.0, 64.0, 51.0, 23.0, 51.0, 23.0, 28.0], [294.0, 'Loudred', 'Normal', 360.0, 84.0, 71.0, 43.0, 71.0, 43.0, 48.0], [295.0, 'Exploud', 'Normal', 490.0, 104.0, 91.0, 63.0, 91.0, 73.0, 68.0], [296.0, 'Makuhita', 'Fighting', 237.0, 72.0, 60.0, 30.0, 20.0, 30.0, 25.0], [297.0, 'Hariyama', 'Fighting', 474.0, 144.0, 120.0, 60.0, 40.0, 60.0, 50.0], [298.0, 'Azurill', 'NormalFairy', 190.0, 50.0, 20.0, 40.0, 20.0, 40.0, 20.0], [299.0, 'Nosepass', 'Rock', 375.0, 30.0, 45.0, 135.0, 45.0, 90.0, 30.0], [300.0, 'Skitty', 'Normal', 260.0, 50.0, 45.0, 45.0, 35.0, 35.0, 50.0], [301.0, 'Delcatty', 'Normal', 380.0, 70.0, 65.0, 65.0, 55.0, 55.0, 70.0], [302.0, 'Sableye', 'DarkGhost', 380.0, 50.0, 75.0, 75.0, 65.0, 65.0, 50.0], [302.0, 'SableyeMega Sableye', 'DarkGhost', 480.0, 50.0, 85.0, 125.0, 85.0, 115.0, 20.0], [303.0, 'Mawile', 'SteelFairy', 380.0, 50.0, 85.0, 85.0, 55.0, 55.0, 50.0], [303.0, 'MawileMega Mawile', 'SteelFairy', 480.0, 50.0, 105.0, 125.0, 55.0, 95.0, 50.0], [304.0, 'Aron', 'SteelRock', 330.0, 50.0, 70.0, 100.0, 40.0, 40.0, 30.0], [305.0, 'Lairon', 'SteelRock', 430.0, 60.0, 90.0, 140.0, 50.0, 50.0, 40.0], [306.0, 'Aggron', 'SteelRock', 530.0, 70.0, 110.0, 180.0, 60.0, 60.0, 50.0], [306.0, 'AggronMega Aggron', 'Steel', 630.0, 70.0, 140.0, 230.0, 60.0, 80.0, 50.0], [307.0, 'Meditite', 'FightingPsychic', 280.0, 30.0, 40.0, 55.0, 40.0, 55.0, 60.0], [308.0, 'Medicham', 'FightingPsychic', 410.0, 60.0, 60.0, 75.0, 60.0, 75.0, 80.0], [308.0, 'MedichamMega Medicham', 'FightingPsychic', 510.0, 60.0, 100.0, 85.0, 80.0, 85.0, 100.0], [309.0, 'Electrike', 'Electric', 295.0, 40.0, 45.0, 40.0, 65.0, 40.0, 65.0], [310.0, 'Manectric', 'Electric', 475.0, 70.0, 75.0, 60.0, 105.0, 60.0, 105.0], [310.0, 'ManectricMega Manectric', 'Electric', 575.0, 70.0, 75.0, 80.0, 135.0, 80.0, 135.0], [311.0, 'Plusle', 'Electric', 405.0, 60.0, 50.0, 40.0, 85.0, 75.0, 95.0], [312.0, 'Minun', 'Electric', 405.0, 60.0, 40.0, 50.0, 75.0, 85.0, 95.0], [313.0, 'Volbeat', 'Bug', 400.0, 65.0, 73.0, 55.0, 47.0, 75.0, 85.0], [314.0, 'Illumise', 'Bug', 400.0, 65.0, 47.0, 55.0, 73.0, 75.0, 85.0], [315.0, 'Roselia', 'GrassPoison', 400.0, 50.0, 60.0, 45.0, 100.0, 80.0, 65.0], [316.0, 'Gulpin', 'Poison', 302.0, 70.0, 43.0, 53.0, 43.0, 53.0, 40.0], [317.0, 'Swalot', 'Poison', 467.0, 100.0, 73.0, 83.0, 73.0, 83.0, 55.0], [318.0, 'Carvanha', 'WaterDark', 305.0, 45.0, 90.0, 20.0, 65.0, 20.0, 65.0], [319.0, 'Sharpedo', 'WaterDark', 460.0, 70.0, 120.0, 40.0, 95.0, 40.0, 95.0], [319.0, 'SharpedoMega Sharpedo', 'WaterDark', 560.0, 70.0, 140.0, 70.0, 110.0, 65.0, 105.0], [320.0, 'Wailmer', 'Water', 400.0, 130.0, 70.0, 35.0, 70.0, 35.0, 60.0], [321.0, 'Wailord', 'Water', 500.0, 170.0, 90.0, 45.0, 90.0, 45.0, 60.0], [322.0, 'Numel', 'FireGround', 305.0, 60.0, 60.0, 40.0, 65.0, 45.0, 35.0], [323.0, 'Camerupt', 'FireGround', 460.0, 70.0, 100.0, 70.0, 105.0, 75.0, 40.0], [323.0, 'CameruptMega Camerupt', 'FireGround', 560.0, 70.0, 120.0, 100.0, 145.0, 105.0, 20.0], [324.0, 'Torkoal', 'Fire', 470.0, 70.0, 85.0, 140.0, 85.0, 70.0, 20.0], [325.0, 'Spoink', 'Psychic', 330.0, 60.0, 25.0, 35.0, 70.0, 80.0, 60.0], [326.0, 'Grumpig', 'Psychic', 470.0, 80.0, 45.0, 65.0, 90.0, 110.0, 80.0], [327.0, 'Spinda', 'Normal', 360.0, 60.0, 60.0, 60.0, 60.0, 60.0, 60.0], [328.0, 'Trapinch', 'Ground', 290.0, 45.0, 100.0, 45.0, 45.0, 45.0, 10.0], [329.0, 'Vibrava', 'GroundDragon', 340.0, 50.0, 70.0, 50.0, 50.0, 50.0, 70.0], [330.0, 'Flygon', 'GroundDragon', 520.0, 80.0, 100.0, 80.0, 80.0, 80.0, 100.0], [331.0, 'Cacnea', 'Grass', 335.0, 50.0, 85.0, 40.0, 85.0, 40.0, 35.0], [332.0, 'Cacturne', 'GrassDark', 475.0, 70.0, 115.0, 60.0, 115.0, 60.0, 55.0], [333.0, 'Swablu', 'NormalFlying', 310.0, 45.0, 40.0, 60.0, 40.0, 75.0, 50.0], [334.0, 'Altaria', 'DragonFlying', 490.0, 75.0, 70.0, 90.0, 70.0, 105.0, 80.0], [334.0, 'AltariaMega Altaria', 'DragonFairy', 590.0, 75.0, 110.0, 110.0, 110.0, 105.0, 80.0], [335.0, 'Zangoose', 'Normal', 458.0, 73.0, 115.0, 60.0, 60.0, 60.0, 90.0], [336.0, 'Seviper', 'Poison', 458.0, 73.0, 100.0, 60.0, 100.0, 60.0, 65.0], [337.0, 'Lunatone', 'RockPsychic', 440.0, 70.0, 55.0, 65.0, 95.0, 85.0, 70.0], [338.0, 'Solrock', 'RockPsychic', 440.0, 70.0, 95.0, 85.0, 55.0, 65.0, 70.0], [339.0, 'Barboach', 'WaterGround', 288.0, 50.0, 48.0, 43.0, 46.0, 41.0, 60.0], [340.0, 'Whiscash', 'WaterGround', 468.0, 110.0, 78.0, 73.0, 76.0, 71.0, 60.0], [341.0, 'Corphish', 'Water', 308.0, 43.0, 80.0, 65.0, 50.0, 35.0, 35.0], [342.0, 'Crawdaunt', 'WaterDark', 468.0, 63.0, 120.0, 85.0, 90.0, 55.0, 55.0], [343.0, 'Baltoy', 'GroundPsychic', 300.0, 40.0, 40.0, 55.0, 40.0, 70.0, 55.0], [344.0, 'Claydol', 'GroundPsychic', 500.0, 60.0, 70.0, 105.0, 70.0, 120.0, 75.0], [345.0, 'Lileep', 'RockGrass', 355.0, 66.0, 41.0, 77.0, 61.0, 87.0, 23.0], [346.0, 'Cradily', 'RockGrass', 495.0, 86.0, 81.0, 97.0, 81.0, 107.0, 43.0], [347.0, 'Anorith', 'RockBug', 355.0, 45.0, 95.0, 50.0, 40.0, 50.0, 75.0], [348.0, 'Armaldo', 'RockBug', 495.0, 75.0, 125.0, 100.0, 70.0, 80.0, 45.0], [349.0, 'Feebas', 'Water', 200.0, 20.0, 15.0, 20.0, 10.0, 55.0, 80.0], [350.0, 'Milotic', 'Water', 540.0, 95.0, 60.0, 79.0, 100.0, 125.0, 81.0], [351.0, 'Castform', 'Normal', 420.0, 70.0, 70.0, 70.0, 70.0, 70.0, 70.0], [352.0, 'Kecleon', 'Normal', 440.0, 60.0, 90.0, 70.0, 60.0, 120.0, 40.0], [353.0, 'Shuppet', 'Ghost', 295.0, 44.0, 75.0, 35.0, 63.0, 33.0, 45.0], [354.0, 'Banette', 'Ghost', 455.0, 64.0, 115.0, 65.0, 83.0, 63.0, 65.0], [354.0, 'BanetteMega Banette', 'Ghost', 555.0, 64.0, 165.0, 75.0, 93.0, 83.0, 75.0], [355.0, 'Duskull', 'Ghost', 295.0, 20.0, 40.0, 90.0, 30.0, 90.0, 25.0], [356.0, 'Dusclops', 'Ghost', 455.0, 40.0, 70.0, 130.0, 60.0, 130.0, 25.0], [357.0, 'Tropius', 'GrassFlying', 460.0, 99.0, 68.0, 83.0, 72.0, 87.0, 51.0], [358.0, 'Chimecho', 'Psychic', 425.0, 65.0, 50.0, 70.0, 95.0, 80.0, 65.0], [359.0, 'Absol', 'Dark', 465.0, 65.0, 130.0, 60.0, 75.0, 60.0, 75.0], [359.0, 'AbsolMega Absol', 'Dark', 565.0, 65.0, 150.0, 60.0, 115.0, 60.0, 115.0], [360.0, 'Wynaut', 'Psychic', 260.0, 95.0, 23.0, 48.0, 23.0, 48.0, 23.0], [361.0, 'Snorunt', 'Ice', 300.0, 50.0, 50.0, 50.0, 50.0, 50.0, 50.0], [362.0, 'Glalie', 'Ice', 480.0, 80.0, 80.0, 80.0, 80.0, 80.0, 80.0], [362.0, 'GlalieMega Glalie', 'Ice', 580.0, 80.0, 120.0, 80.0, 120.0, 80.0, 100.0], [363.0, 'Spheal', 'IceWater', 290.0, 70.0, 40.0, 50.0, 55.0, 50.0, 25.0], [364.0, 'Sealeo', 'IceWater', 410.0, 90.0, 60.0, 70.0, 75.0, 70.0, 45.0], [365.0, 'Walrein', 'IceWater', 530.0, 110.0, 80.0, 90.0, 95.0, 90.0, 65.0], [366.0, 'Clamperl', 'Water', 345.0, 35.0, 64.0, 85.0, 74.0, 55.0, 32.0], [367.0, 'Huntail', 'Water', 485.0, 55.0, 104.0, 105.0, 94.0, 75.0, 52.0], [368.0, 'Gorebyss', 'Water', 485.0, 55.0, 84.0, 105.0, 114.0, 75.0, 52.0], [369.0, 'Relicanth', 'WaterRock', 485.0, 100.0, 90.0, 130.0, 45.0, 65.0, 55.0], [370.0, 'Luvdisc', 'Water', 330.0, 43.0, 30.0, 55.0, 40.0, 65.0, 97.0], [371.0, 'Bagon', 'Dragon', 300.0, 45.0, 75.0, 60.0, 40.0, 30.0, 50.0], [372.0, 'Shelgon', 'Dragon', 420.0, 65.0, 95.0, 100.0, 60.0, 50.0, 50.0], [373.0, 'Salamence', 'DragonFlying', 600.0, 95.0, 135.0, 80.0, 110.0, 80.0, 100.0], [373.0, 'SalamenceMega Salamence', 'DragonFlying', 700.0, 95.0, 145.0, 130.0, 120.0, 90.0, 120.0], [374.0, 'Beldum', 'SteelPsychic', 300.0, 40.0, 55.0, 80.0, 35.0, 60.0, 30.0], [375.0, 'Metang', 'SteelPsychic', 420.0, 60.0, 75.0, 100.0, 55.0, 80.0, 50.0], [376.0, 'Metagross', 'SteelPsychic', 600.0, 80.0, 135.0, 130.0, 95.0, 90.0, 70.0], [376.0, 'MetagrossMega Metagross', 'SteelPsychic', 700.0, 80.0, 145.0, 150.0, 105.0, 110.0, 110.0], [377.0, 'Regirock', 'Rock', 580.0, 80.0, 100.0, 200.0, 50.0, 100.0, 50.0], [378.0, 'Regice', 'Ice', 580.0, 80.0, 50.0, 100.0, 100.0, 200.0, 50.0], [379.0, 'Registeel', 'Steel', 580.0, 80.0, 75.0, 150.0, 75.0, 150.0, 50.0], [380.0, 'Latias', 'DragonPsychic', 600.0, 80.0, 80.0, 90.0, 110.0, 130.0, 110.0], [380.0, 'LatiasMega Latias', 'DragonPsychic', 700.0, 80.0, 100.0, 120.0, 140.0, 150.0, 110.0], [381.0, 'Latios', 'DragonPsychic', 600.0, 80.0, 90.0, 80.0, 130.0, 110.0, 110.0], [381.0, 'LatiosMega Latios', 'DragonPsychic', 700.0, 80.0, 130.0, 100.0, 160.0, 120.0, 110.0], [382.0, 'Kyogre', 'Water', 670.0, 100.0, 100.0, 90.0, 150.0, 140.0, 90.0], [382.0, 'KyogrePrimal Kyogre', 'Water', 770.0, 100.0, 150.0, 90.0, 180.0, 160.0, 90.0], [383.0, 'Groudon', 'Ground', 670.0, 100.0, 150.0, 140.0, 100.0, 90.0, 90.0], [383.0, 'GroudonPrimal Groudon', 'GroundFire', 770.0, 100.0, 180.0, 160.0, 150.0, 90.0, 90.0], [384.0, 'Rayquaza', 'DragonFlying', 680.0, 105.0, 150.0, 90.0, 150.0, 90.0, 95.0], [384.0, 'RayquazaMega Rayquaza', 'DragonFlying', 780.0, 105.0, 180.0, 100.0, 180.0, 100.0, 115.0], [385.0, 'Jirachi', 'SteelPsychic', 600.0, 100.0, 100.0, 100.0, 100.0, 100.0, 100.0], [386.0, 'DeoxysNormal Forme', 'Psychic', 600.0, 50.0, 150.0, 50.0, 150.0, 50.0, 150.0], [386.0, 'DeoxysAttack Forme', 'Psychic', 600.0, 50.0, 180.0, 20.0, 180.0, 20.0, 150.0], [386.0, 'DeoxysDefense Forme', 'Psychic', 600.0, 50.0, 70.0, 160.0, 70.0, 160.0, 90.0], [386.0, 'DeoxysSpeed Forme', 'Psychic', 600.0, 50.0, 95.0, 90.0, 95.0, 90.0, 180.0], [387.0, 'Turtwig', 'Grass', 318.0, 55.0, 68.0, 64.0, 45.0, 55.0, 31.0], [388.0, 'Grotle', 'Grass', 405.0, 75.0, 89.0, 85.0, 55.0, 65.0, 36.0], [389.0, 'Torterra', 'GrassGround', 525.0, 95.0, 109.0, 105.0, 75.0, 85.0, 56.0], [390.0, 'Chimchar', 'Fire', 309.0, 44.0, 58.0, 44.0, 58.0, 44.0, 61.0], [391.0, 'Monferno', 'FireFighting', 405.0, 64.0, 78.0, 52.0, 78.0, 52.0, 81.0], [392.0, 'Infernape', 'FireFighting', 534.0, 76.0, 104.0, 71.0, 104.0, 71.0, 108.0], [393.0, 'Piplup', 'Water', 314.0, 53.0, 51.0, 53.0, 61.0, 56.0, 40.0], [394.0, 'Prinplup', 'Water', 405.0, 64.0, 66.0, 68.0, 81.0, 76.0, 50.0], [395.0, 'Empoleon', 'WaterSteel', 530.0, 84.0, 86.0, 88.0, 111.0, 101.0, 60.0], [396.0, 'Starly', 'NormalFlying', 245.0, 40.0, 55.0, 30.0, 30.0, 30.0, 60.0], [397.0, 'Staravia', 'NormalFlying', 340.0, 55.0, 75.0, 50.0, 40.0, 40.0, 80.0], [398.0, 'Staraptor', 'NormalFlying', 485.0, 85.0, 120.0, 70.0, 50.0, 60.0, 100.0], [399.0, 'Bidoof', 'Normal', 250.0, 59.0, 45.0, 40.0, 35.0, 40.0, 31.0], [400.0, 'Bibarel', 'NormalWater', 410.0, 79.0, 85.0, 60.0, 55.0, 60.0, 71.0], [401.0, 'Kricketot', 'Bug', 194.0, 37.0, 25.0, 41.0, 25.0, 41.0, 25.0], [402.0, 'Kricketune', 'Bug', 384.0, 77.0, 85.0, 51.0, 55.0, 51.0, 65.0], [403.0, 'Shinx', 'Electric', 263.0, 45.0, 65.0, 34.0, 40.0, 34.0, 45.0], [404.0, 'Luxio', 'Electric', 363.0, 60.0, 85.0, 49.0, 60.0, 49.0, 60.0], [405.0, 'Luxray', 'Electric', 523.0, 80.0, 120.0, 79.0, 95.0, 79.0, 70.0], [406.0, 'Budew', 'GrassPoison', 280.0, 40.0, 30.0, 35.0, 50.0, 70.0, 55.0], [407.0, 'Roserade', 'GrassPoison', 515.0, 60.0, 70.0, 65.0, 125.0, 105.0, 90.0], [408.0, 'Cranidos', 'Rock', 350.0, 67.0, 125.0, 40.0, 30.0, 30.0, 58.0], [409.0, 'Rampardos', 'Rock', 495.0, 97.0, 165.0, 60.0, 65.0, 50.0, 58.0], [410.0, 'Shieldon', 'RockSteel', 350.0, 30.0, 42.0, 118.0, 42.0, 88.0, 30.0], [411.0, 'Bastiodon', 'RockSteel', 495.0, 60.0, 52.0, 168.0, 47.0, 138.0, 30.0], [412.0, 'Burmy', 'Bug', 224.0, 40.0, 29.0, 45.0, 29.0, 45.0, 36.0], [413.0, 'WormadamPlant Cloak', 'BugGrass', 424.0, 60.0, 59.0, 85.0, 79.0, 105.0, 36.0], [413.0, 'WormadamSandy Cloak', 'BugGround', 424.0, 60.0, 79.0, 105.0, 59.0, 85.0, 36.0], [413.0, 'WormadamTrash Cloak', 'BugSteel', 424.0, 60.0, 69.0, 95.0, 69.0, 95.0, 36.0], [414.0, 'Mothim', 'BugFlying', 424.0, 70.0, 94.0, 50.0, 94.0, 50.0, 66.0], [415.0, 'Combee', 'BugFlying', 244.0, 30.0, 30.0, 42.0, 30.0, 42.0, 70.0], [416.0, 'Vespiquen', 'BugFlying', 474.0, 70.0, 80.0, 102.0, 80.0, 102.0, 40.0], [417.0, 'Pachirisu', 'Electric', 405.0, 60.0, 45.0, 70.0, 45.0, 90.0, 95.0], [418.0, 'Buizel', 'Water', 330.0, 55.0, 65.0, 35.0, 60.0, 30.0, 85.0], [419.0, 'Floatzel', 'Water', 495.0, 85.0, 105.0, 55.0, 85.0, 50.0, 115.0], [420.0, 'Cherubi', 'Grass', 275.0, 45.0, 35.0, 45.0, 62.0, 53.0, 35.0], [421.0, 'Cherrim', 'Grass', 450.0, 70.0, 60.0, 70.0, 87.0, 78.0, 85.0], [422.0, 'Shellos', 'Water', 325.0, 76.0, 48.0, 48.0, 57.0, 62.0, 34.0], [423.0, 'Gastrodon', 'WaterGround', 475.0, 111.0, 83.0, 68.0, 92.0, 82.0, 39.0], [424.0, 'Ambipom', 'Normal', 482.0, 75.0, 100.0, 66.0, 60.0, 66.0, 115.0], [425.0, 'Drifloon', 'GhostFlying', 348.0, 90.0, 50.0, 34.0, 60.0, 44.0, 70.0], [426.0, 'Drifblim', 'GhostFlying', 498.0, 150.0, 80.0, 44.0, 90.0, 54.0, 80.0], [427.0, 'Buneary', 'Normal', 350.0, 55.0, 66.0, 44.0, 44.0, 56.0, 85.0], [428.0, 'Lopunny', 'Normal', 480.0, 65.0, 76.0, 84.0, 54.0, 96.0, 105.0], [428.0, 'LopunnyMega Lopunny', 'NormalFighting', 580.0, 65.0, 136.0, 94.0, 54.0, 96.0, 135.0], [429.0, 'Mismagius', 'Ghost', 495.0, 60.0, 60.0, 60.0, 105.0, 105.0, 105.0], [430.0, 'Honchkrow', 'DarkFlying', 505.0, 100.0, 125.0, 52.0, 105.0, 52.0, 71.0], [431.0, 'Glameow', 'Normal', 310.0, 49.0, 55.0, 42.0, 42.0, 37.0, 85.0], [432.0, 'Purugly', 'Normal', 452.0, 71.0, 82.0, 64.0, 64.0, 59.0, 112.0], [433.0, 'Chingling', 'Psychic', 285.0, 45.0, 30.0, 50.0, 65.0, 50.0, 45.0], [434.0, 'Stunky', 'PoisonDark', 329.0, 63.0, 63.0, 47.0, 41.0, 41.0, 74.0], [435.0, 'Skuntank', 'PoisonDark', 479.0, 103.0, 93.0, 67.0, 71.0, 61.0, 84.0], [436.0, 'Bronzor', 'SteelPsychic', 300.0, 57.0, 24.0, 86.0, 24.0, 86.0, 23.0], [437.0, 'Bronzong', 'SteelPsychic', 500.0, 67.0, 89.0, 116.0, 79.0, 116.0, 33.0], [438.0, 'Bonsly', 'Rock', 290.0, 50.0, 80.0, 95.0, 10.0, 45.0, 10.0], [439.0, 'Mime Jr.', 'PsychicFairy', 310.0, 20.0, 25.0, 45.0, 70.0, 90.0, 60.0], [440.0, 'Happiny', 'Normal', 220.0, 100.0, 5.0, 5.0, 15.0, 65.0, 30.0], [441.0, 'Chatot', 'NormalFlying', 411.0, 76.0, 65.0, 45.0, 92.0, 42.0, 91.0], [442.0, 'Spiritomb', 'GhostDark', 485.0, 50.0, 92.0, 108.0, 92.0, 108.0, 35.0], [443.0, 'Gible', 'DragonGround', 300.0, 58.0, 70.0, 45.0, 40.0, 45.0, 42.0], [444.0, 'Gabite', 'DragonGround', 410.0, 68.0, 90.0, 65.0, 50.0, 55.0, 82.0], [445.0, 'Garchomp', 'DragonGround', 600.0, 108.0, 130.0, 95.0, 80.0, 85.0, 102.0], [445.0, 'GarchompMega Garchomp', 'DragonGround', 700.0, 108.0, 170.0, 115.0, 120.0, 95.0, 92.0], [446.0, 'Munchlax', 'Normal', 390.0, 135.0, 85.0, 40.0, 40.0, 85.0, 5.0], [447.0, 'Riolu', 'Fighting', 285.0, 40.0, 70.0, 40.0, 35.0, 40.0, 60.0], [448.0, 'Lucario', 'FightingSteel', 525.0, 70.0, 110.0, 70.0, 115.0, 70.0, 90.0], [448.0, 'LucarioMega Lucario', 'FightingSteel', 625.0, 70.0, 145.0, 88.0, 140.0, 70.0, 112.0], [449.0, 'Hippopotas', 'Ground', 330.0, 68.0, 72.0, 78.0, 38.0, 42.0, 32.0], [450.0, 'Hippowdon', 'Ground', 525.0, 108.0, 112.0, 118.0, 68.0, 72.0, 47.0], [451.0, 'Skorupi', 'PoisonBug', 330.0, 40.0, 50.0, 90.0, 30.0, 55.0, 65.0], [452.0, 'Drapion', 'PoisonDark', 500.0, 70.0, 90.0, 110.0, 60.0, 75.0, 95.0], [453.0, 'Croagunk', 'PoisonFighting', 300.0, 48.0, 61.0, 40.0, 61.0, 40.0, 50.0], [454.0, 'Toxicroak', 'PoisonFighting', 490.0, 83.0, 106.0, 65.0, 86.0, 65.0, 85.0], [455.0, 'Carnivine', 'Grass', 454.0, 74.0, 100.0, 72.0, 90.0, 72.0, 46.0], [456.0, 'Finneon', 'Water', 330.0, 49.0, 49.0, 56.0, 49.0, 61.0, 66.0], [457.0, 'Lumineon', 'Water', 460.0, 69.0, 69.0, 76.0, 69.0, 86.0, 91.0], [458.0, 'Mantyke', 'WaterFlying', 345.0, 45.0, 20.0, 50.0, 60.0, 120.0, 50.0], [459.0, 'Snover', 'GrassIce', 334.0, 60.0, 62.0, 50.0, 62.0, 60.0, 40.0], [460.0, 'Abomasnow', 'GrassIce', 494.0, 90.0, 92.0, 75.0, 92.0, 85.0, 60.0], [460.0, 'AbomasnowMega Abomasnow', 'GrassIce', 594.0, 90.0, 132.0, 105.0, 132.0, 105.0, 30.0], [461.0, 'Weavile', 'DarkIce', 510.0, 70.0, 120.0, 65.0, 45.0, 85.0, 125.0], [462.0, 'Magnezone', 'ElectricSteel', 535.0, 70.0, 70.0, 115.0, 130.0, 90.0, 60.0], [463.0, 'Lickilicky', 'Normal', 515.0, 110.0, 85.0, 95.0, 80.0, 95.0, 50.0], [464.0, 'Rhyperior', 'GroundRock', 535.0, 115.0, 140.0, 130.0, 55.0, 55.0, 40.0], [465.0, 'Tangrowth', 'Grass', 535.0, 100.0, 100.0, 125.0, 110.0, 50.0, 50.0], [466.0, 'Electivire', 'Electric', 540.0, 75.0, 123.0, 67.0, 95.0, 85.0, 95.0], [467.0, 'Magmortar', 'Fire', 540.0, 75.0, 95.0, 67.0, 125.0, 95.0, 83.0], [468.0, 'Togekiss', 'FairyFlying', 545.0, 85.0, 50.0, 95.0, 120.0, 115.0, 80.0], [469.0, 'Yanmega', 'BugFlying', 515.0, 86.0, 76.0, 86.0, 116.0, 56.0, 95.0], [470.0, 'Leafeon', 'Grass', 525.0, 65.0, 110.0, 130.0, 60.0, 65.0, 95.0], [471.0, 'Glaceon', 'Ice', 525.0, 65.0, 60.0, 110.0, 130.0, 95.0, 65.0], [472.0, 'Gliscor', 'GroundFlying', 510.0, 75.0, 95.0, 125.0, 45.0, 75.0, 95.0], [473.0, 'Mamoswine', 'IceGround', 530.0, 110.0, 130.0, 80.0, 70.0, 60.0, 80.0], [474.0, 'Porygon-Z', 'Normal', 535.0, 85.0, 80.0, 70.0, 135.0, 75.0, 90.0], [475.0, 'Gallade', 'PsychicFighting', 518.0, 68.0, 125.0, 65.0, 65.0, 115.0, 80.0], [475.0, 'GalladeMega Gallade', 'PsychicFighting', 618.0, 68.0, 165.0, 95.0, 65.0, 115.0, 110.0], [476.0, 'Probopass', 'RockSteel', 525.0, 60.0, 55.0, 145.0, 75.0, 150.0, 40.0], [477.0, 'Dusknoir', 'Ghost', 525.0, 45.0, 100.0, 135.0, 65.0, 135.0, 45.0], [478.0, 'Froslass', 'IceGhost', 480.0, 70.0, 80.0, 70.0, 80.0, 70.0, 110.0], [479.0, 'Rotom', 'ElectricGhost', 440.0, 50.0, 50.0, 77.0, 95.0, 77.0, 91.0], [479.0, 'RotomHeat Rotom', 'ElectricFire', 520.0, 50.0, 65.0, 107.0, 105.0, 107.0, 86.0], [479.0, 'RotomWash Rotom', 'ElectricWater', 520.0, 50.0, 65.0, 107.0, 105.0, 107.0, 86.0], [479.0, 'RotomFrost Rotom', 'ElectricIce', 520.0, 50.0, 65.0, 107.0, 105.0, 107.0, 86.0], [479.0, 'RotomFan Rotom', 'ElectricFlying', 520.0, 50.0, 65.0, 107.0, 105.0, 107.0, 86.0], [479.0, 'RotomMow Rotom', 'ElectricGrass', 520.0, 50.0, 65.0, 107.0, 105.0, 107.0, 86.0], [480.0, 'Uxie', 'Psychic', 580.0, 75.0, 75.0, 130.0, 75.0, 130.0, 95.0], [481.0, 'Mesprit', 'Psychic', 580.0, 80.0, 105.0, 105.0, 105.0, 105.0, 80.0], [482.0, 'Azelf', 'Psychic', 580.0, 75.0, 125.0, 70.0, 125.0, 70.0, 115.0], [483.0, 'Dialga', 'SteelDragon', 680.0, 100.0, 120.0, 120.0, 150.0, 100.0, 90.0], [484.0, 'Palkia', 'WaterDragon', 680.0, 90.0, 120.0, 100.0, 150.0, 120.0, 100.0], [485.0, 'Heatran', 'FireSteel', 600.0, 91.0, 90.0, 106.0, 130.0, 106.0, 77.0], [486.0, 'Regigigas', 'Normal', 670.0, 110.0, 160.0, 110.0, 80.0, 110.0, 100.0], [487.0, 'GiratinaAltered Forme', 'GhostDragon', 680.0, 150.0, 100.0, 120.0, 100.0, 120.0, 90.0], [487.0, 'GiratinaOrigin Forme', 'GhostDragon', 680.0, 150.0, 120.0, 100.0, 120.0, 100.0, 90.0], [488.0, 'Cresselia', 'Psychic', 600.0, 120.0, 70.0, 120.0, 75.0, 130.0, 85.0], [489.0, 'Phione', 'Water', 480.0, 80.0, 80.0, 80.0, 80.0, 80.0, 80.0], [490.0, 'Manaphy', 'Water', 600.0, 100.0, 100.0, 100.0, 100.0, 100.0, 100.0], [491.0, 'Darkrai', 'Dark', 600.0, 70.0, 90.0, 90.0, 135.0, 90.0, 125.0], [492.0, 'ShayminLand Forme', 'Grass', 600.0, 100.0, 100.0, 100.0, 100.0, 100.0, 100.0], [492.0, 'ShayminSky Forme', 'GrassFlying', 600.0, 100.0, 103.0, 75.0, 120.0, 75.0, 127.0], [493.0, 'Arceus', 'Normal', 720.0, 120.0, 120.0, 120.0, 120.0, 120.0, 120.0], [494.0, 'Victini', 'PsychicFire', 600.0, 100.0, 100.0, 100.0, 100.0, 100.0, 100.0], [495.0, 'Snivy', 'Grass', 308.0, 45.0, 45.0, 55.0, 45.0, 55.0, 63.0], [496.0, 'Servine', 'Grass', 413.0, 60.0, 60.0, 75.0, 60.0, 75.0, 83.0], [497.0, 'Serperior', 'Grass', 528.0, 75.0, 75.0, 95.0, 75.0, 95.0, 113.0], [498.0, 'Tepig', 'Fire', 308.0, 65.0, 63.0, 45.0, 45.0, 45.0, 45.0], [499.0, 'Pignite', 'FireFighting', 418.0, 90.0, 93.0, 55.0, 70.0, 55.0, 55.0], [500.0, 'Emboar', 'FireFighting', 528.0, 110.0, 123.0, 65.0, 100.0, 65.0, 65.0], [501.0, 'Oshawott', 'Water', 308.0, 55.0, 55.0, 45.0, 63.0, 45.0, 45.0], [502.0, 'Dewott', 'Water', 413.0, 75.0, 75.0, 60.0, 83.0, 60.0, 60.0], [503.0, 'Samurott', 'Water', 528.0, 95.0, 100.0, 85.0, 108.0, 70.0, 70.0], [504.0, 'Patrat', 'Normal', 255.0, 45.0, 55.0, 39.0, 35.0, 39.0, 42.0], [505.0, 'Watchog', 'Normal', 420.0, 60.0, 85.0, 69.0, 60.0, 69.0, 77.0], [506.0, 'Lillipup', 'Normal', 275.0, 45.0, 60.0, 45.0, 25.0, 45.0, 55.0], [507.0, 'Herdier', 'Normal', 370.0, 65.0, 80.0, 65.0, 35.0, 65.0, 60.0], [508.0, 'Stoutland', 'Normal', 500.0, 85.0, 110.0, 90.0, 45.0, 90.0, 80.0], [509.0, 'Purrloin', 'Dark', 281.0, 41.0, 50.0, 37.0, 50.0, 37.0, 66.0], [510.0, 'Liepard', 'Dark', 446.0, 64.0, 88.0, 50.0, 88.0, 50.0, 106.0], [511.0, 'Pansage', 'Grass', 316.0, 50.0, 53.0, 48.0, 53.0, 48.0, 64.0], [512.0, 'Simisage', 'Grass', 498.0, 75.0, 98.0, 63.0, 98.0, 63.0, 101.0], [513.0, 'Pansear', 'Fire', 316.0, 50.0, 53.0, 48.0, 53.0, 48.0, 64.0], [514.0, 'Simisear', 'Fire', 498.0, 75.0, 98.0, 63.0, 98.0, 63.0, 101.0], [515.0, 'Panpour', 'Water', 316.0, 50.0, 53.0, 48.0, 53.0, 48.0, 64.0], [516.0, 'Simipour', 'Water', 498.0, 75.0, 98.0, 63.0, 98.0, 63.0, 101.0], [517.0, 'Munna', 'Psychic', 292.0, 76.0, 25.0, 45.0, 67.0, 55.0, 24.0], [518.0, 'Musharna', 'Psychic', 487.0, 116.0, 55.0, 85.0, 107.0, 95.0, 29.0], [519.0, 'Pidove', 'NormalFlying', 264.0, 50.0, 55.0, 50.0, 36.0, 30.0, 43.0], [520.0, 'Tranquill', 'NormalFlying', 358.0, 62.0, 77.0, 62.0, 50.0, 42.0, 65.0], [521.0, 'Unfezant', 'NormalFlying', 488.0, 80.0, 115.0, 80.0, 65.0, 55.0, 93.0], [522.0, 'Blitzle', 'Electric', 295.0, 45.0, 60.0, 32.0, 50.0, 32.0, 76.0], [523.0, 'Zebstrika', 'Electric', 497.0, 75.0, 100.0, 63.0, 80.0, 63.0, 116.0], [524.0, 'Roggenrola', 'Rock', 280.0, 55.0, 75.0, 85.0, 25.0, 25.0, 15.0], [525.0, 'Boldore', 'Rock', 390.0, 70.0, 105.0, 105.0, 50.0, 40.0, 20.0], [526.0, 'Gigalith', 'Rock', 515.0, 85.0, 135.0, 130.0, 60.0, 80.0, 25.0], [527.0, 'Woobat', 'PsychicFlying', 313.0, 55.0, 45.0, 43.0, 55.0, 43.0, 72.0], [528.0, 'Swoobat', 'PsychicFlying', 425.0, 67.0, 57.0, 55.0, 77.0, 55.0, 114.0], [529.0, 'Drilbur', 'Ground', 328.0, 60.0, 85.0, 40.0, 30.0, 45.0, 68.0], [530.0, 'Excadrill', 'GroundSteel', 508.0, 110.0, 135.0, 60.0, 50.0, 65.0, 88.0], [531.0, 'Audino', 'Normal', 445.0, 103.0, 60.0, 86.0, 60.0, 86.0, 50.0], [531.0, 'AudinoMega Audino', 'NormalFairy', 545.0, 103.0, 60.0, 126.0, 80.0, 126.0, 50.0], [532.0, 'Timburr', 'Fighting', 305.0, 75.0, 80.0, 55.0, 25.0, 35.0, 35.0], [533.0, 'Gurdurr', 'Fighting', 405.0, 85.0, 105.0, 85.0, 40.0, 50.0, 40.0], [534.0, 'Conkeldurr', 'Fighting', 505.0, 105.0, 140.0, 95.0, 55.0, 65.0, 45.0], [535.0, 'Tympole', 'Water', 294.0, 50.0, 50.0, 40.0, 50.0, 40.0, 64.0], [536.0, 'Palpitoad', 'WaterGround', 384.0, 75.0, 65.0, 55.0, 65.0, 55.0, 69.0], [537.0, 'Seismitoad', 'WaterGround', 509.0, 105.0, 95.0, 75.0, 85.0, 75.0, 74.0], [538.0, 'Throh', 'Fighting', 465.0, 120.0, 100.0, 85.0, 30.0, 85.0, 45.0], [539.0, 'Sawk', 'Fighting', 465.0, 75.0, 125.0, 75.0, 30.0, 75.0, 85.0], [540.0, 'Sewaddle', 'BugGrass', 310.0, 45.0, 53.0, 70.0, 40.0, 60.0, 42.0], [541.0, 'Swadloon', 'BugGrass', 380.0, 55.0, 63.0, 90.0, 50.0, 80.0, 42.0], [542.0, 'Leavanny', 'BugGrass', 500.0, 75.0, 103.0, 80.0, 70.0, 80.0, 92.0], [543.0, 'Venipede', 'BugPoison', 260.0, 30.0, 45.0, 59.0, 30.0, 39.0, 57.0], [544.0, 'Whirlipede', 'BugPoison', 360.0, 40.0, 55.0, 99.0, 40.0, 79.0, 47.0], [545.0, 'Scolipede', 'BugPoison', 485.0, 60.0, 100.0, 89.0, 55.0, 69.0, 112.0], [546.0, 'Cottonee', 'GrassFairy', 280.0, 40.0, 27.0, 60.0, 37.0, 50.0, 66.0], [547.0, 'Whimsicott', 'GrassFairy', 480.0, 60.0, 67.0, 85.0, 77.0, 75.0, 116.0], [548.0, 'Petilil', 'Grass', 280.0, 45.0, 35.0, 50.0, 70.0, 50.0, 30.0], [549.0, 'Lilligant', 'Grass', 480.0, 70.0, 60.0, 75.0, 110.0, 75.0, 90.0], [550.0, 'Basculin', 'Water', 460.0, 70.0, 92.0, 65.0, 80.0, 55.0, 98.0], [551.0, 'Sandile', 'GroundDark', 292.0, 50.0, 72.0, 35.0, 35.0, 35.0, 65.0], [552.0, 'Krokorok', 'GroundDark', 351.0, 60.0, 82.0, 45.0, 45.0, 45.0, 74.0], [553.0, 'Krookodile', 'GroundDark', 519.0, 95.0, 117.0, 80.0, 65.0, 70.0, 92.0], [554.0, 'Darumaka', 'Fire', 315.0, 70.0, 90.0, 45.0, 15.0, 45.0, 50.0], [555.0, 'DarmanitanStandard Mode', 'Fire', 480.0, 105.0, 140.0, 55.0, 30.0, 55.0, 95.0], [555.0, 'DarmanitanZen Mode', 'FirePsychic', 540.0, 105.0, 30.0, 105.0, 140.0, 105.0, 55.0], [556.0, 'Maractus', 'Grass', 461.0, 75.0, 86.0, 67.0, 106.0, 67.0, 60.0], [557.0, 'Dwebble', 'BugRock', 325.0, 50.0, 65.0, 85.0, 35.0, 35.0, 55.0], [558.0, 'Crustle', 'BugRock', 475.0, 70.0, 95.0, 125.0, 65.0, 75.0, 45.0], [559.0, 'Scraggy', 'DarkFighting', 348.0, 50.0, 75.0, 70.0, 35.0, 70.0, 48.0], [560.0, 'Scrafty', 'DarkFighting', 488.0, 65.0, 90.0, 115.0, 45.0, 115.0, 58.0], [561.0, 'Sigilyph', 'PsychicFlying', 490.0, 72.0, 58.0, 80.0, 103.0, 80.0, 97.0], [562.0, 'Yamask', 'Ghost', 303.0, 38.0, 30.0, 85.0, 55.0, 65.0, 30.0], [563.0, 'Cofagrigus', 'Ghost', 483.0, 58.0, 50.0, 145.0, 95.0, 105.0, 30.0], [564.0, 'Tirtouga', 'WaterRock', 355.0, 54.0, 78.0, 103.0, 53.0, 45.0, 22.0], [565.0, 'Carracosta', 'WaterRock', 495.0, 74.0, 108.0, 133.0, 83.0, 65.0, 32.0], [566.0, 'Archen', 'RockFlying', 401.0, 55.0, 112.0, 45.0, 74.0, 45.0, 70.0], [567.0, 'Archeops', 'RockFlying', 567.0, 75.0, 140.0, 65.0, 112.0, 65.0, 110.0], [568.0, 'Trubbish', 'Poison', 329.0, 50.0, 50.0, 62.0, 40.0, 62.0, 65.0], [569.0, 'Garbodor', 'Poison', 474.0, 80.0, 95.0, 82.0, 60.0, 82.0, 75.0], [570.0, 'Zorua', 'Dark', 330.0, 40.0, 65.0, 40.0, 80.0, 40.0, 65.0], [571.0, 'Zoroark', 'Dark', 510.0, 60.0, 105.0, 60.0, 120.0, 60.0, 105.0], [572.0, 'Minccino', 'Normal', 300.0, 55.0, 50.0, 40.0, 40.0, 40.0, 75.0], [573.0, 'Cinccino', 'Normal', 470.0, 75.0, 95.0, 60.0, 65.0, 60.0, 115.0], [574.0, 'Gothita', 'Psychic', 290.0, 45.0, 30.0, 50.0, 55.0, 65.0, 45.0], [575.0, 'Gothorita', 'Psychic', 390.0, 60.0, 45.0, 70.0, 75.0, 85.0, 55.0], [576.0, 'Gothitelle', 'Psychic', 490.0, 70.0, 55.0, 95.0, 95.0, 110.0, 65.0], [577.0, 'Solosis', 'Psychic', 290.0, 45.0, 30.0, 40.0, 105.0, 50.0, 20.0], [578.0, 'Duosion', 'Psychic', 370.0, 65.0, 40.0, 50.0, 125.0, 60.0, 30.0], [579.0, 'Reuniclus', 'Psychic', 490.0, 110.0, 65.0, 75.0, 125.0, 85.0, 30.0], [580.0, 'Ducklett', 'WaterFlying', 305.0, 62.0, 44.0, 50.0, 44.0, 50.0, 55.0], [581.0, 'Swanna', 'WaterFlying', 473.0, 75.0, 87.0, 63.0, 87.0, 63.0, 98.0], [582.0, 'Vanillite', 'Ice', 305.0, 36.0, 50.0, 50.0, 65.0, 60.0, 44.0], [583.0, 'Vanillish', 'Ice', 395.0, 51.0, 65.0, 65.0, 80.0, 75.0, 59.0], [584.0, 'Vanilluxe', 'Ice', 535.0, 71.0, 95.0, 85.0, 110.0, 95.0, 79.0], [585.0, 'Deerling', 'NormalGrass', 335.0, 60.0, 60.0, 50.0, 40.0, 50.0, 75.0], [586.0, 'Sawsbuck', 'NormalGrass', 475.0, 80.0, 100.0, 70.0, 60.0, 70.0, 95.0], [587.0, 'Emolga', 'ElectricFlying', 428.0, 55.0, 75.0, 60.0, 75.0, 60.0, 103.0], [588.0, 'Karrablast', 'Bug', 315.0, 50.0, 75.0, 45.0, 40.0, 45.0, 60.0], [589.0, 'Escavalier', 'BugSteel', 495.0, 70.0, 135.0, 105.0, 60.0, 105.0, 20.0], [590.0, 'Foongus', 'GrassPoison', 294.0, 69.0, 55.0, 45.0, 55.0, 55.0, 15.0], [591.0, 'Amoonguss', 'GrassPoison', 464.0, 114.0, 85.0, 70.0, 85.0, 80.0, 30.0], [592.0, 'Frillish', 'WaterGhost', 335.0, 55.0, 40.0, 50.0, 65.0, 85.0, 40.0], [593.0, 'Jellicent', 'WaterGhost', 480.0, 100.0, 60.0, 70.0, 85.0, 105.0, 60.0], [594.0, 'Alomomola', 'Water', 470.0, 165.0, 75.0, 80.0, 40.0, 45.0, 65.0], [595.0, 'Joltik', 'BugElectric', 319.0, 50.0, 47.0, 50.0, 57.0, 50.0, 65.0], [596.0, 'Galvantula', 'BugElectric', 472.0, 70.0, 77.0, 60.0, 97.0, 60.0, 108.0], [597.0, 'Ferroseed', 'GrassSteel', 305.0, 44.0, 50.0, 91.0, 24.0, 86.0, 10.0], [598.0, 'Ferrothorn', 'GrassSteel', 489.0, 74.0, 94.0, 131.0, 54.0, 116.0, 20.0], [599.0, 'Klink', 'Steel', 300.0, 40.0, 55.0, 70.0, 45.0, 60.0, 30.0], [600.0, 'Klang', 'Steel', 440.0, 60.0, 80.0, 95.0, 70.0, 85.0, 50.0], [601.0, 'Klinklang', 'Steel', 520.0, 60.0, 100.0, 115.0, 70.0, 85.0, 90.0], [602.0, 'Tynamo', 'Electric', 275.0, 35.0, 55.0, 40.0, 45.0, 40.0, 60.0], [603.0, 'Eelektrik', 'Electric', 405.0, 65.0, 85.0, 70.0, 75.0, 70.0, 40.0], [604.0, 'Eelektross', 'Electric', 515.0, 85.0, 115.0, 80.0, 105.0, 80.0, 50.0], [605.0, 'Elgyem', 'Psychic', 335.0, 55.0, 55.0, 55.0, 85.0, 55.0, 30.0], [606.0, 'Beheeyem', 'Psychic', 485.0, 75.0, 75.0, 75.0, 125.0, 95.0, 40.0], [607.0, 'Litwick', 'GhostFire', 275.0, 50.0, 30.0, 55.0, 65.0, 55.0, 20.0], [608.0, 'Lampent', 'GhostFire', 370.0, 60.0, 40.0, 60.0, 95.0, 60.0, 55.0], [609.0, 'Chandelure', 'GhostFire', 520.0, 60.0, 55.0, 90.0, 145.0, 90.0, 80.0], [610.0, 'Axew', 'Dragon', 320.0, 46.0, 87.0, 60.0, 30.0, 40.0, 57.0], [611.0, 'Fraxure', 'Dragon', 410.0, 66.0, 117.0, 70.0, 40.0, 50.0, 67.0], [612.0, 'Haxorus', 'Dragon', 540.0, 76.0, 147.0, 90.0, 60.0, 70.0, 97.0], [613.0, 'Cubchoo', 'Ice', 305.0, 55.0, 70.0, 40.0, 60.0, 40.0, 40.0], [614.0, 'Beartic', 'Ice', 485.0, 95.0, 110.0, 80.0, 70.0, 80.0, 50.0], [615.0, 'Cryogonal', 'Ice', 485.0, 70.0, 50.0, 30.0, 95.0, 135.0, 105.0], [616.0, 'Shelmet', 'Bug', 305.0, 50.0, 40.0, 85.0, 40.0, 65.0, 25.0], [617.0, 'Accelgor', 'Bug', 495.0, 80.0, 70.0, 40.0, 100.0, 60.0, 145.0], [618.0, 'Stunfisk', 'GroundElectric', 471.0, 109.0, 66.0, 84.0, 81.0, 99.0, 32.0], [619.0, 'Mienfoo', 'Fighting', 350.0, 45.0, 85.0, 50.0, 55.0, 50.0, 65.0], [620.0, 'Mienshao', 'Fighting', 510.0, 65.0, 125.0, 60.0, 95.0, 60.0, 105.0], [621.0, 'Druddigon', 'Dragon', 485.0, 77.0, 120.0, 90.0, 60.0, 90.0, 48.0], [622.0, 'Golett', 'GroundGhost', 303.0, 59.0, 74.0, 50.0, 35.0, 50.0, 35.0], [623.0, 'Golurk', 'GroundGhost', 483.0, 89.0, 124.0, 80.0, 55.0, 80.0, 55.0], [624.0, 'Pawniard', 'DarkSteel', 340.0, 45.0, 85.0, 70.0, 40.0, 40.0, 60.0], [625.0, 'Bisharp', 'DarkSteel', 490.0, 65.0, 125.0, 100.0, 60.0, 70.0, 70.0], [626.0, 'Bouffalant', 'Normal', 490.0, 95.0, 110.0, 95.0, 40.0, 95.0, 55.0], [627.0, 'Rufflet', 'NormalFlying', 350.0, 70.0, 83.0, 50.0, 37.0, 50.0, 60.0], [628.0, 'Braviary', 'NormalFlying', 510.0, 100.0, 123.0, 75.0, 57.0, 75.0, 80.0], [629.0, 'Vullaby', 'DarkFlying', 370.0, 70.0, 55.0, 75.0, 45.0, 65.0, 60.0], [630.0, 'Mandibuzz', 'DarkFlying', 510.0, 110.0, 65.0, 105.0, 55.0, 95.0, 80.0], [631.0, 'Heatmor', 'Fire', 484.0, 85.0, 97.0, 66.0, 105.0, 66.0, 65.0], [632.0, 'Durant', 'BugSteel', 484.0, 58.0, 109.0, 112.0, 48.0, 48.0, 109.0], [633.0, 'Deino', 'DarkDragon', 300.0, 52.0, 65.0, 50.0, 45.0, 50.0, 38.0], [634.0, 'Zweilous', 'DarkDragon', 420.0, 72.0, 85.0, 70.0, 65.0, 70.0, 58.0], [635.0, 'Hydreigon', 'DarkDragon', 600.0, 92.0, 105.0, 90.0, 125.0, 90.0, 98.0], [636.0, 'Larvesta', 'BugFire', 360.0, 55.0, 85.0, 55.0, 50.0, 55.0, 60.0], [637.0, 'Volcarona', 'BugFire', 550.0, 85.0, 60.0, 65.0, 135.0, 105.0, 100.0], [638.0, 'Cobalion', 'SteelFighting', 580.0, 91.0, 90.0, 129.0, 90.0, 72.0, 108.0], [639.0, 'Terrakion', 'RockFighting', 580.0, 91.0, 129.0, 90.0, 72.0, 90.0, 108.0], [640.0, 'Virizion', 'GrassFighting', 580.0, 91.0, 90.0, 72.0, 90.0, 129.0, 108.0], [641.0, 'TornadusIncarnate Forme', 'Flying', 580.0, 79.0, 115.0, 70.0, 125.0, 80.0, 111.0], [641.0, 'TornadusTherian Forme', 'Flying', 580.0, 79.0, 100.0, 80.0, 110.0, 90.0, 121.0], [642.0, 'ThundurusIncarnate Forme', 'ElectricFlying', 580.0, 79.0, 115.0, 70.0, 125.0, 80.0, 111.0], [642.0, 'ThundurusTherian Forme', 'ElectricFlying', 580.0, 79.0, 105.0, 70.0, 145.0, 80.0, 101.0], [643.0, 'Reshiram', 'DragonFire', 680.0, 100.0, 120.0, 100.0, 150.0, 120.0, 90.0], [644.0, 'Zekrom', 'DragonElectric', 680.0, 100.0, 150.0, 120.0, 120.0, 100.0, 90.0], [645.0, 'LandorusIncarnate Forme', 'GroundFlying', 600.0, 89.0, 125.0, 90.0, 115.0, 80.0, 101.0], [645.0, 'LandorusTherian Forme', 'GroundFlying', 600.0, 89.0, 145.0, 90.0, 105.0, 80.0, 91.0], [646.0, 'Kyurem', 'DragonIce', 660.0, 125.0, 130.0, 90.0, 130.0, 90.0, 95.0], [646.0, 'KyuremBlack Kyurem', 'DragonIce', 700.0, 125.0, 170.0, 100.0, 120.0, 90.0, 95.0], [646.0, 'KyuremWhite Kyurem', 'DragonIce', 700.0, 125.0, 120.0, 90.0, 170.0, 100.0, 95.0], [647.0, 'KeldeoOrdinary Forme', 'WaterFighting', 580.0, 91.0, 72.0, 90.0, 129.0, 90.0, 108.0], [647.0, 'KeldeoResolute Forme', 'WaterFighting', 580.0, 91.0, 72.0, 90.0, 129.0, 90.0, 108.0], [648.0, 'MeloettaAria Forme', 'NormalPsychic', 600.0, 100.0, 77.0, 77.0, 128.0, 128.0, 90.0], [648.0, 'MeloettaPirouette Forme', 'NormalFighting', 600.0, 100.0, 128.0, 90.0, 77.0, 77.0, 128.0], [649.0, 'Genesect', 'BugSteel', 600.0, 71.0, 120.0, 95.0, 120.0, 95.0, 99.0], [650.0, 'Chespin', 'Grass', 313.0, 56.0, 61.0, 65.0, 48.0, 45.0, 38.0], [651.0, 'Quilladin', 'Grass', 405.0, 61.0, 78.0, 95.0, 56.0, 58.0, 57.0], [652.0, 'Chesnaught', 'GrassFighting', 530.0, 88.0, 107.0, 122.0, 74.0, 75.0, 64.0], [653.0, 'Fennekin', 'Fire', 307.0, 40.0, 45.0, 40.0, 62.0, 60.0, 60.0], [654.0, 'Braixen', 'Fire', 409.0, 59.0, 59.0, 58.0, 90.0, 70.0, 73.0], [655.0, 'Delphox', 'FirePsychic', 534.0, 75.0, 69.0, 72.0, 114.0, 100.0, 104.0], [656.0, 'Froakie', 'Water', 314.0, 41.0, 56.0, 40.0, 62.0, 44.0, 71.0], [657.0, 'Frogadier', 'Water', 405.0, 54.0, 63.0, 52.0, 83.0, 56.0, 97.0], [658.0, 'Greninja', 'WaterDark', 530.0, 72.0, 95.0, 67.0, 103.0, 71.0, 122.0], [659.0, 'Bunnelby', 'Normal', 237.0, 38.0, 36.0, 38.0, 32.0, 36.0, 57.0], [660.0, 'Diggersby', 'NormalGround', 423.0, 85.0, 56.0, 77.0, 50.0, 77.0, 78.0], [661.0, 'Fletchling', 'NormalFlying', 278.0, 45.0, 50.0, 43.0, 40.0, 38.0, 62.0], [662.0, 'Fletchinder', 'FireFlying', 382.0, 62.0, 73.0, 55.0, 56.0, 52.0, 84.0], [663.0, 'Talonflame', 'FireFlying', 499.0, 78.0, 81.0, 71.0, 74.0, 69.0, 126.0], [664.0, 'Scatterbug', 'Bug', 200.0, 38.0, 35.0, 40.0, 27.0, 25.0, 35.0], [665.0, 'Spewpa', 'Bug', 213.0, 45.0, 22.0, 60.0, 27.0, 30.0, 29.0], [666.0, 'Vivillon', 'BugFlying', 411.0, 80.0, 52.0, 50.0, 90.0, 50.0, 89.0], [667.0, 'Litleo', 'FireNormal', 369.0, 62.0, 50.0, 58.0, 73.0, 54.0, 72.0], [668.0, 'Pyroar', 'FireNormal', 507.0, 86.0, 68.0, 72.0, 109.0, 66.0, 106.0], [669.0, 'Flabebe', 'Fairy', 303.0, 44.0, 38.0, 39.0, 61.0, 79.0, 42.0], [670.0, 'Floette', 'Fairy', 371.0, 54.0, 45.0, 47.0, 75.0, 98.0, 52.0], [671.0, 'Florges', 'Fairy', 552.0, 78.0, 65.0, 68.0, 112.0, 154.0, 75.0], [672.0, 'Skiddo', 'Grass', 350.0, 66.0, 65.0, 48.0, 62.0, 57.0, 52.0], [673.0, 'Gogoat', 'Grass', 531.0, 123.0, 100.0, 62.0, 97.0, 81.0, 68.0], [674.0, 'Pancham', 'Fighting', 348.0, 67.0, 82.0, 62.0, 46.0, 48.0, 43.0], [675.0, 'Pangoro', 'FightingDark', 495.0, 95.0, 124.0, 78.0, 69.0, 71.0, 58.0], [676.0, 'Furfrou', 'Normal', 472.0, 75.0, 80.0, 60.0, 65.0, 90.0, 102.0], [677.0, 'Espurr', 'Psychic', 355.0, 62.0, 48.0, 54.0, 63.0, 60.0, 68.0], [678.0, 'MeowsticMale', 'Psychic', 466.0, 74.0, 48.0, 76.0, 83.0, 81.0, 104.0], [678.0, 'MeowsticFemale', 'Psychic', 466.0, 74.0, 48.0, 76.0, 83.0, 81.0, 104.0], [679.0, 'Honedge', 'SteelGhost', 325.0, 45.0, 80.0, 100.0, 35.0, 37.0, 28.0], [680.0, 'Doublade', 'SteelGhost', 448.0, 59.0, 110.0, 150.0, 45.0, 49.0, 35.0], [681.0, 'AegislashBlade Forme', 'SteelGhost', 520.0, 60.0, 150.0, 50.0, 150.0, 50.0, 60.0], [681.0, 'AegislashShield Forme', 'SteelGhost', 520.0, 60.0, 50.0, 150.0, 50.0, 150.0, 60.0], [682.0, 'Spritzee', 'Fairy', 341.0, 78.0, 52.0, 60.0, 63.0, 65.0, 23.0], [683.0, 'Aromatisse', 'Fairy', 462.0, 101.0, 72.0, 72.0, 99.0, 89.0, 29.0], [684.0, 'Swirlix', 'Fairy', 341.0, 62.0, 48.0, 66.0, 59.0, 57.0, 49.0], [685.0, 'Slurpuff', 'Fairy', 480.0, 82.0, 80.0, 86.0, 85.0, 75.0, 72.0], [686.0, 'Inkay', 'DarkPsychic', 288.0, 53.0, 54.0, 53.0, 37.0, 46.0, 45.0], [687.0, 'Malamar', 'DarkPsychic', 482.0, 86.0, 92.0, 88.0, 68.0, 75.0, 73.0], [688.0, 'Binacle', 'RockWater', 306.0, 42.0, 52.0, 67.0, 39.0, 56.0, 50.0], [689.0, 'Barbaracle', 'RockWater', 500.0, 72.0, 105.0, 115.0, 54.0, 86.0, 68.0], [690.0, 'Skrelp', 'PoisonWater', 320.0, 50.0, 60.0, 60.0, 60.0, 60.0, 30.0], [691.0, 'Dragalge', 'PoisonDragon', 494.0, 65.0, 75.0, 90.0, 97.0, 123.0, 44.0], [692.0, 'Clauncher', 'Water', 330.0, 50.0, 53.0, 62.0, 58.0, 63.0, 44.0], [693.0, 'Clawitzer', 'Water', 500.0, 71.0, 73.0, 88.0, 120.0, 89.0, 59.0], [694.0, 'Helioptile', 'ElectricNormal', 289.0, 44.0, 38.0, 33.0, 61.0, 43.0, 70.0], [695.0, 'Heliolisk', 'ElectricNormal', 481.0, 62.0, 55.0, 52.0, 109.0, 94.0, 109.0], [696.0, 'Tyrunt', 'RockDragon', 362.0, 58.0, 89.0, 77.0, 45.0, 45.0, 48.0], [697.0, 'Tyrantrum', 'RockDragon', 521.0, 82.0, 121.0, 119.0, 69.0, 59.0, 71.0], [698.0, 'Amaura', 'RockIce', 362.0, 77.0, 59.0, 50.0, 67.0, 63.0, 46.0], [699.0, 'Aurorus', 'RockIce', 521.0, 123.0, 77.0, 72.0, 99.0, 92.0, 58.0], [700.0, 'Sylveon', 'Fairy', 525.0, 95.0, 65.0, 65.0, 110.0, 130.0, 60.0], [701.0, 'Hawlucha', 'FightingFlying', 500.0, 78.0, 92.0, 75.0, 74.0, 63.0, 118.0], [702.0, 'Dedenne', 'ElectricFairy', 431.0, 67.0, 58.0, 57.0, 81.0, 67.0, 101.0], [703.0, 'Carbink', 'RockFairy', 500.0, 50.0, 50.0, 150.0, 50.0, 150.0, 50.0], [704.0, 'Goomy', 'Dragon', 300.0, 45.0, 50.0, 35.0, 55.0, 75.0, 40.0], [705.0, 'Sliggoo', 'Dragon', 452.0, 68.0, 75.0, 53.0, 83.0, 113.0, 60.0], [706.0, 'Goodra', 'Dragon', 600.0, 90.0, 100.0, 70.0, 110.0, 150.0, 80.0], [707.0, 'Klefki', 'SteelFairy', 470.0, 57.0, 80.0, 91.0, 80.0, 87.0, 75.0], [708.0, 'Phantump', 'GhostGrass', 309.0, 43.0, 70.0, 48.0, 50.0, 60.0, 38.0], [709.0, 'Trevenant', 'GhostGrass', 474.0, 85.0, 110.0, 76.0, 65.0, 82.0, 56.0], [710.0, 'PumpkabooAverage Size', 'GhostGrass', 335.0, 49.0, 66.0, 70.0, 44.0, 55.0, 51.0], [710.0, 'PumpkabooSmall Size', 'GhostGrass', 335.0, 44.0, 66.0, 70.0, 44.0, 55.0, 56.0], [710.0, 'PumpkabooLarge Size', 'GhostGrass', 335.0, 54.0, 66.0, 70.0, 44.0, 55.0, 46.0], [710.0, 'PumpkabooSuper Size', 'GhostGrass', 335.0, 59.0, 66.0, 70.0, 44.0, 55.0, 41.0], [711.0, 'GourgeistAverage Size', 'GhostGrass', 494.0, 65.0, 90.0, 122.0, 58.0, 75.0, 84.0], [711.0, 'GourgeistSmall Size', 'GhostGrass', 494.0, 55.0, 85.0, 122.0, 58.0, 75.0, 99.0], [711.0, 'GourgeistLarge Size', 'GhostGrass', 494.0, 75.0, 95.0, 122.0, 58.0, 75.0, 69.0], [711.0, 'GourgeistSuper Size', 'GhostGrass', 494.0, 85.0, 100.0, 122.0, 58.0, 75.0, 54.0], [712.0, 'Bergmite', 'Ice', 304.0, 55.0, 69.0, 85.0, 32.0, 35.0, 28.0], [713.0, 'Avalugg', 'Ice', 514.0, 95.0, 117.0, 184.0, 44.0, 46.0, 28.0], [714.0, 'Noibat', 'FlyingDragon', 245.0, 40.0, 30.0, 35.0, 45.0, 40.0, 55.0], [715.0, 'Noivern', 'FlyingDragon', 535.0, 85.0, 70.0, 80.0, 97.0, 80.0, 123.0], [716.0, 'Xerneas', 'Fairy', 680.0, 126.0, 131.0, 95.0, 131.0, 98.0, 99.0], [717.0, 'Yveltal', 'DarkFlying', 680.0, 126.0, 131.0, 95.0, 131.0, 98.0, 99.0], [718.0, 'Zygarde Forme', 'DragonGround', 600.0, 108.0, 100.0, 121.0, 81.0, 95.0, 95.0], [719.0, 'Diancie', 'RockFairy', 600.0, 50.0, 100.0, 150.0, 100.0, 150.0, 50.0], [719.0, 'DiancieMega Diancie', 'RockFairy', 700.0, 50.0, 160.0, 110.0, 160.0, 110.0, 110.0], [720.0, 'HoopaHoopa Confined', 'PsychicGhost', 600.0, 80.0, 110.0, 60.0, 150.0, 130.0, 70.0], [720.0, 'HoopaHoopa Unbound', 'PsychicDark', 680.0, 80.0, 160.0, 60.0, 170.0, 130.0, 80.0], [721.0, 'Volcanion', 'FireWater', 600.0, 80.0, 110.0, 120.0, 130.0, 90.0, 70.0]]\n"
     ]
    }
   ],
   "source": [
    "new_list2 = []\n",
    "new_list2.append(new_list1[0])\n",
    "for row in new_list1[1:]:\n",
    "    new_row = []\n",
    "    for i, col in enumerate(row):\n",
    "        if i == 1 or i == 2:\n",
    "            new_row.append(col)\n",
    "        else:\n",
    "            if col == '':\n",
    "                new_row.append(float(-1))\n",
    "            else:\n",
    "                new_row.append(float(col))\n",
    "    new_list2.append(new_row)\n",
    "    \n",
    "print(new_list2)"
   ]
  },
  {
   "cell_type": "markdown",
   "metadata": {},
   "source": [
    "<img src=\"http://imgur.com/xDpSobf.png\" style=\"float: left; margin: 25px 15px 0px 0px; height: 25px\">\n",
    "\n",
    "### 8.2 Parse the raw pokedex with list comprehensions\n",
    "\n",
    "---\n",
    "\n",
    "Perform the same parsing as above, but **using only a single list comprehension** instead of for loops. You may have nested list comprehensions within the main list comprehension! The output should be exactly the same."
   ]
  },
  {
   "cell_type": "code",
   "execution_count": null,
   "metadata": {
    "collapsed": true
   },
   "outputs": [],
   "source": [
    "# ???\n",
    "list_compre = [[___ for i, col in enumerate(row)] for row in new_list1]"
   ]
  },
  {
   "cell_type": "markdown",
   "metadata": {},
   "source": [
    "<img src=\"http://imgur.com/l5NasQj.png\" style=\"float: left; margin: 25px 15px 0px 0px; height: 25px\">\n",
    "\n",
    "## 9. Write a function to generate the full pokedex\n",
    "\n",
    "---\n",
    "\n",
    "Write a function that recreates the pokedex you made before, but with the data read in from the full pokemon file. The `PokedexNumber` should be used as the `pokemon_id` key values for the dictionary of pokemon.\n",
    "\n",
    "Your function should:\n",
    "\n",
    "1. Take the parsed pokedex information you created above as an argument.\n",
    "2. Return a dictionary in the same format as your original pokedex you created before containing the information from the parsed full pokedex file.\n",
    "\n",
    "To test the function, print out the pokemon with id = 100."
   ]
  },
  {
   "cell_type": "code",
   "execution_count": 10,
   "metadata": {},
   "outputs": [
    {
     "name": "stdout",
     "output_type": "stream",
     "text": [
      "{1.0: {'Attack': 49.0, 'Defense': 49.0}, 2.0: {'Attack': 62.0, 'Defense': 63.0}}\n"
     ]
    }
   ],
   "source": [
    "# just testing out the format and logic\n",
    "xxx = {}\n",
    "xxx[new_list2[1][0]] = {new_list2[0][5]: new_list2[1][5], new_list2[0][6]: new_list2[1][6]...}\n",
    "xxx[new_list2[2][0]] = {new_list2[0][5]: new_list2[2][5], new_list2[0][6]: new_list2[2][6]...}\n",
    "\n",
    "print xxx"
   ]
  },
  {
   "cell_type": "code",
   "execution_count": 38,
   "metadata": {},
   "outputs": [
    {
     "ename": "IndexError",
     "evalue": "string index out of range",
     "output_type": "error",
     "traceback": [
      "\u001b[1;31m---------------------------------------------------------------------------\u001b[0m",
      "\u001b[1;31mIndexError\u001b[0m                                Traceback (most recent call last)",
      "\u001b[1;32m<ipython-input-38-75e998982cb7>\u001b[0m in \u001b[0;36m<module>\u001b[1;34m()\u001b[0m\n\u001b[0;32m      4\u001b[0m     \u001b[1;32mfor\u001b[0m \u001b[0mi\u001b[0m\u001b[1;33m,\u001b[0m \u001b[0my\u001b[0m \u001b[1;32min\u001b[0m \u001b[0menumerate\u001b[0m\u001b[1;33m(\u001b[0m\u001b[0mx\u001b[0m\u001b[1;33m)\u001b[0m\u001b[1;33m:\u001b[0m\u001b[1;33m\u001b[0m\u001b[0m\n\u001b[0;32m      5\u001b[0m         \u001b[0mlist3\u001b[0m \u001b[1;33m=\u001b[0m \u001b[1;33m{\u001b[0m\u001b[1;33m}\u001b[0m\u001b[1;33m\u001b[0m\u001b[0m\n\u001b[1;32m----> 6\u001b[1;33m         \u001b[0mlist3\u001b[0m\u001b[1;33m[\u001b[0m\u001b[0mnew_list2\u001b[0m\u001b[1;33m[\u001b[0m\u001b[1;36m0\u001b[0m\u001b[1;33m]\u001b[0m\u001b[1;33m[\u001b[0m\u001b[0mi\u001b[0m\u001b[1;33m]\u001b[0m\u001b[1;33m]\u001b[0m \u001b[1;33m=\u001b[0m \u001b[0my\u001b[0m\u001b[1;33m[\u001b[0m\u001b[0mi\u001b[0m\u001b[1;33m]\u001b[0m\u001b[1;33m\u001b[0m\u001b[0m\n\u001b[0m\u001b[0;32m      7\u001b[0m \u001b[1;32mprint\u001b[0m \u001b[0mlist3\u001b[0m\u001b[1;33m\u001b[0m\u001b[0m\n",
      "\u001b[1;31mIndexError\u001b[0m: string index out of range"
     ]
    }
   ],
   "source": [
    "# UNABLE TO CREATE DICT IN DICT USING LOOPS \n",
    "list1 = {}\n",
    "for x in new_list2:\n",
    "    list2 = {}\n",
    "    for i, y in enumerate(x):\n",
    "        list3 = {}\n",
    "        list3[new_list2[0][i]] = y[i]\n",
    "print list3"
   ]
  },
  {
   "cell_type": "code",
   "execution_count": null,
   "metadata": {
    "collapsed": true,
    "scrolled": true
   },
   "outputs": [],
   "source": [
    "# ????\n",
    "def func_full_pokedex(new_list2):\n",
    "    list = {}"
   ]
  },
  {
   "cell_type": "markdown",
   "metadata": {},
   "source": [
    "<img src=\"http://i.imgur.com/GCAf1UX.png\" style=\"float: left; margin: 25px 15px 0px 0px; height: 25px\">\n",
    "\n",
    "## 10. Write a function to generate a \"filtered\" pokedex\n",
    "---\n",
    "Your function should:\n",
    "1. Take the parsed pokedex information you created above as an argument.\n",
    "1. Take a dictionary as a parameter with keys matching the features of the Pokedex, filtering by exact match for string type values, and/or filter continuous variables specified value that is greater than or equal to the dictionary key parameter.\n",
    "1. Return multiple elements from the Pokedex\n",
    "\n",
    "Example:\n",
    "\n",
    "```python\n",
    "\n",
    "# Only filter based on parameters passed\n",
    "filter_options = {\n",
    "    'Attack':   25,\n",
    "    'Defense':  30,\n",
    "    'Type':     'Electric'\n",
    "}\n",
    "\n",
    "# Return records with attack >= 24, defense >= 30, and type == \"Electric\"\n",
    "# Also anticipate that other paramters can also be passed such as \"SpecialAttack\", \"Speed\", etc.\n",
    "filtered_pokedex(pokedex_data, filter=filter_options)\n",
    "\n",
    "# Example output:\n",
    "# [{'Attack': 30.0,\n",
    "#  'Defense': 50.0,\n",
    "#  'HP': 40.0,\n",
    "#  'Name': 'Voltorb',\n",
    "#  'SpecialAttack': 55.0,\n",
    "#  'SpecialDefense': 55.0,\n",
    "#  'Speed': 100.0,\n",
    "#  'Total': 330.0,\n",
    "#  'Type': 'Electric'},\n",
    "#  {'Attack': 30.0,\n",
    "#  'Defense': 33.0,\n",
    "#  'HP': 32.0,\n",
    "#  'Name': 'Pikachu',\n",
    "#  'SpecialAttack': 55.0,\n",
    "#  'SpecialDefense': 55.0,\n",
    "#  'Speed': 100.0,\n",
    "#  'Total': 330.0,\n",
    "#  'Type': 'Electric'},\n",
    "#  ... etc\n",
    "#  ]\n",
    "\n",
    "```\n",
    "\n"
   ]
  },
  {
   "cell_type": "code",
   "execution_count": null,
   "metadata": {
    "collapsed": true
   },
   "outputs": [],
   "source": [
    "# SKIPPED"
   ]
  },
  {
   "cell_type": "markdown",
   "metadata": {
    "collapsed": true
   },
   "source": [
    "\n",
    "## 9. Descriptive statistics on the prototype pokedex\n",
    "\n",
    "<img src=\"http://imgur.com/l5NasQj.png\" style=\"float: left; margin: 25px 15px 0px 0px; height: 25px\">\n",
    "### 9.1\n",
    "\n",
    "What is the population mean and standard deviation of the \"Total\" attribute for all characters in the Pokedex?\n",
    "\n"
   ]
  },
  {
   "cell_type": "code",
   "execution_count": 65,
   "metadata": {},
   "outputs": [
    {
     "name": "stdout",
     "output_type": "stream",
     "text": [
      "435.1275\n",
      "119.962020005\n"
     ]
    }
   ],
   "source": [
    "import numpy as np\n",
    "\n",
    "\n",
    "total_scores = []\n",
    "for row in new_list2[1:]:\n",
    "    total_scores.append(row[3])\n",
    "\n",
    "mean = np.mean(total_scores)\n",
    "std_dev = np.std(total_scores)\n",
    "\n",
    "print mean\n",
    "print std_dev"
   ]
  },
  {
   "cell_type": "markdown",
   "metadata": {},
   "source": [
    "<img src=\"http://imgur.com/l5NasQj.png\" style=\"float: left; margin: 25px 15px 0px 0px; height: 25px\">\n",
    "### 9.2\n",
    "\n",
    "The game is no fun if the characters are wildly unbalanced! Are any characters \"overpowered\", which we'll define as having a \"Total\" more than three standard deviations from the population mean?"
   ]
  },
  {
   "cell_type": "code",
   "execution_count": 70,
   "metadata": {},
   "outputs": [
    {
     "name": "stdout",
     "output_type": "stream",
     "text": [
      "{'MewtwoMega Mewtwo X': 800.0}\n"
     ]
    }
   ],
   "source": [
    "normal_range = range(int(mean - (std_dev*3)), int(mean + (std_dev*3)) + 1)\n",
    "\n",
    "overpowered_pokemon = {}\n",
    "for row in new_list2[1:]:\n",
    "    if row[3] not in normal_range:\n",
    "        overpowered_pokemon[row[1]] = row[3]\n",
    "        \n",
    "print overpowered_pokemon"
   ]
  },
  {
   "cell_type": "markdown",
   "metadata": {},
   "source": [
    "<img src=\"http://imgur.com/xDpSobf.png\" style=\"float: left; margin: 25px 15px 0px 0px; height: 25px\">\n",
    "\n",
    "## 10. Calibrate the frequency of Pokemon\n",
    "\n",
    "The design team wants you to make the powerful Pokemon rare, and the weaklings more common. How would you set the probability $p_i$ of finding Pokemon *i* each time a player visits a gym?\n",
    "\n",
    "Write a function that takes in a Pokedex number and returns a value $p_i$ for that character.\n",
    "\n",
    "Hint: there are many ways you could do this. What do _you_ think makes sense? Start with simplifying assumptions: for example, you could assume that the probabilities of encountering any two Pokemon on one visit to a gym are independent of each other."
   ]
  },
  {
   "cell_type": "code",
   "execution_count": 73,
   "metadata": {},
   "outputs": [],
   "source": [
    "# Set the ranges for weak, normal and powerful Pokemon\n",
    "normal_range = range(int(mean - (std_dev*3)), int(mean + (std_dev*3)) + 1)\n",
    "weak_range = range(0, int(mean - (std_dev*3)))\n",
    "powerful_range = range(int(mean + (std_dev*3)) + 1, 9999999)\n",
    "\n",
    "# returns probability of encountering a specific pokemon at any given visit\n",
    "def pokemon_prob(pokedex_id):\n",
    "    for row in new_list2[1:]:\n",
    "        if pokedex_id == row[0]:\n",
    "            power = row[3]\n",
    "    # return normal probability\n",
    "    if power in normal_range:\n",
    "        return 0.6\n",
    "    # return high probability\n",
    "    elif power in weak_range:\n",
    "        return 0.8\n",
    "    # return low probability\n",
    "    elif power in powerful_range:\n",
    "        return 0.1\n",
    "        \n",
    "# not sure what probability is the Q asking for???"
   ]
  }
 ],
 "metadata": {
  "anaconda-cloud": {},
  "kernelspec": {
   "display_name": "Python 2",
   "language": "python",
   "name": "python2"
  },
  "language_info": {
   "codemirror_mode": {
    "name": "ipython",
    "version": 2
   },
   "file_extension": ".py",
   "mimetype": "text/x-python",
   "name": "python",
   "nbconvert_exporter": "python",
   "pygments_lexer": "ipython2",
   "version": "2.7.13"
  }
 },
 "nbformat": 4,
 "nbformat_minor": 1
}
